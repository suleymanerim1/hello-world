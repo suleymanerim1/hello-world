{
 "cells": [
  {
   "cell_type": "markdown",
   "id": "d3d6f165",
   "metadata": {
    "papermill": {
     "duration": 0.00751,
     "end_time": "2022-06-28T18:16:26.765671",
     "exception": false,
     "start_time": "2022-06-28T18:16:26.758161",
     "status": "completed"
    },
    "tags": []
   },
   "source": [
    "**This notebook is an exercise in the [Data Cleaning](https://www.kaggle.com/learn/data-cleaning) course.  You can reference the tutorial at [this link](https://www.kaggle.com/alexisbcook/inconsistent-data-entry).**\n",
    "\n",
    "---\n"
   ]
  },
  {
   "cell_type": "markdown",
   "id": "7ae90b32",
   "metadata": {
    "papermill": {
     "duration": 0.006436,
     "end_time": "2022-06-28T18:16:26.778659",
     "exception": false,
     "start_time": "2022-06-28T18:16:26.772223",
     "status": "completed"
    },
    "tags": []
   },
   "source": [
    "In this exercise, you'll apply what you learned in the **Inconsistent data entry** tutorial.\n",
    "\n",
    "# Setup\n",
    "\n",
    "The questions below will give you feedback on your work. Run the following cell to set up the feedback system."
   ]
  },
  {
   "cell_type": "code",
   "execution_count": 1,
   "id": "734da3a9",
   "metadata": {
    "execution": {
     "iopub.execute_input": "2022-06-28T18:16:26.793154Z",
     "iopub.status.busy": "2022-06-28T18:16:26.792719Z",
     "iopub.status.idle": "2022-06-28T18:16:26.907698Z",
     "shell.execute_reply": "2022-06-28T18:16:26.906550Z"
    },
    "papermill": {
     "duration": 0.125542,
     "end_time": "2022-06-28T18:16:26.910698",
     "exception": false,
     "start_time": "2022-06-28T18:16:26.785156",
     "status": "completed"
    },
    "tags": []
   },
   "outputs": [
    {
     "name": "stdout",
     "output_type": "stream",
     "text": [
      "Setup Complete\n"
     ]
    }
   ],
   "source": [
    "from learntools.core import binder\n",
    "binder.bind(globals())\n",
    "from learntools.data_cleaning.ex5 import *\n",
    "print(\"Setup Complete\")"
   ]
  },
  {
   "cell_type": "markdown",
   "id": "9bcbd89b",
   "metadata": {
    "papermill": {
     "duration": 0.005905,
     "end_time": "2022-06-28T18:16:26.923083",
     "exception": false,
     "start_time": "2022-06-28T18:16:26.917178",
     "status": "completed"
    },
    "tags": []
   },
   "source": [
    "# Get our environment set up\n",
    "\n",
    "The first thing we'll need to do is load in the libraries and dataset we'll be using.  We use the same dataset from the tutorial."
   ]
  },
  {
   "cell_type": "code",
   "execution_count": 2,
   "id": "60f54e29",
   "metadata": {
    "execution": {
     "iopub.execute_input": "2022-06-28T18:16:26.937046Z",
     "iopub.status.busy": "2022-06-28T18:16:26.936673Z",
     "iopub.status.idle": "2022-06-28T18:16:26.953841Z",
     "shell.execute_reply": "2022-06-28T18:16:26.952897Z"
    },
    "papermill": {
     "duration": 0.027065,
     "end_time": "2022-06-28T18:16:26.956295",
     "exception": false,
     "start_time": "2022-06-28T18:16:26.929230",
     "status": "completed"
    },
    "tags": []
   },
   "outputs": [],
   "source": [
    "# modules we'll use\n",
    "import pandas as pd\n",
    "import numpy as np\n",
    "\n",
    "# helpful modules\n",
    "import fuzzywuzzy\n",
    "from fuzzywuzzy import process\n",
    "import chardet\n",
    "\n",
    "# read in all our data\n",
    "professors = pd.read_csv(\"../input/pakistan-intellectual-capital/pakistan_intellectual_capital.csv\")\n",
    "\n",
    "# set seed for reproducibility\n",
    "np.random.seed(0)"
   ]
  },
  {
   "cell_type": "markdown",
   "id": "670b3395",
   "metadata": {
    "papermill": {
     "duration": 0.005798,
     "end_time": "2022-06-28T18:16:26.968383",
     "exception": false,
     "start_time": "2022-06-28T18:16:26.962585",
     "status": "completed"
    },
    "tags": []
   },
   "source": [
    "Next, we'll redo all of the work that we did in the tutorial."
   ]
  },
  {
   "cell_type": "code",
   "execution_count": 3,
   "id": "434c1a8d",
   "metadata": {
    "execution": {
     "iopub.execute_input": "2022-06-28T18:16:26.983157Z",
     "iopub.status.busy": "2022-06-28T18:16:26.982543Z",
     "iopub.status.idle": "2022-06-28T18:16:27.000626Z",
     "shell.execute_reply": "2022-06-28T18:16:26.998958Z"
    },
    "papermill": {
     "duration": 0.029752,
     "end_time": "2022-06-28T18:16:27.004549",
     "exception": false,
     "start_time": "2022-06-28T18:16:26.974797",
     "status": "completed"
    },
    "tags": []
   },
   "outputs": [
    {
     "name": "stdout",
     "output_type": "stream",
     "text": [
      "All done!\n"
     ]
    }
   ],
   "source": [
    "# convert to lower case\n",
    "professors['Country'] = professors['Country'].str.lower()\n",
    "# remove trailing white spaces\n",
    "professors['Country'] = professors['Country'].str.strip()\n",
    "\n",
    "\n",
    "# get the top 10 closest matches to \"south korea\"\n",
    "countries = professors['Country'].unique()\n",
    "matches = fuzzywuzzy.process.extract(\"south korea\", countries, limit=10, scorer=fuzzywuzzy.fuzz.token_sort_ratio)\n",
    "\n",
    "def replace_matches_in_column(df, column, string_to_match, min_ratio = 47):\n",
    "    # get a list of unique strings\n",
    "    strings = df[column].unique()\n",
    "    \n",
    "    # get the top 10 closest matches to our input string\n",
    "    matches = fuzzywuzzy.process.extract(string_to_match, strings, \n",
    "                                         limit=10, scorer=fuzzywuzzy.fuzz.token_sort_ratio)\n",
    "\n",
    "    # only get matches with a ratio > 90\n",
    "    close_matches = [matches[0] for matches in matches if matches[1] >= min_ratio]\n",
    "\n",
    "    # get the rows of all the close matches in our dataframe\n",
    "    rows_with_matches = df[column].isin(close_matches)\n",
    "\n",
    "    # replace all rows with close matches with the input matches \n",
    "    df.loc[rows_with_matches, column] = string_to_match\n",
    "    \n",
    "    # let us know the function's done\n",
    "    print(\"All done!\")\n",
    "    \n",
    "replace_matches_in_column(df=professors, column='Country', string_to_match=\"south korea\")\n",
    "countries = professors['Country'].unique()"
   ]
  },
  {
   "cell_type": "markdown",
   "id": "30e3eefd",
   "metadata": {
    "papermill": {
     "duration": 0.006196,
     "end_time": "2022-06-28T18:16:27.017572",
     "exception": false,
     "start_time": "2022-06-28T18:16:27.011376",
     "status": "completed"
    },
    "tags": []
   },
   "source": [
    "# 1) Examine another column\n",
    "\n",
    "Write code below to take a look at all the unique values in the \"Graduated from\" column."
   ]
  },
  {
   "cell_type": "code",
   "execution_count": 4,
   "id": "579df595",
   "metadata": {
    "execution": {
     "iopub.execute_input": "2022-06-28T18:16:27.032193Z",
     "iopub.status.busy": "2022-06-28T18:16:27.031397Z",
     "iopub.status.idle": "2022-06-28T18:16:27.044212Z",
     "shell.execute_reply": "2022-06-28T18:16:27.043074Z"
    },
    "papermill": {
     "duration": 0.022808,
     "end_time": "2022-06-28T18:16:27.046652",
     "exception": false,
     "start_time": "2022-06-28T18:16:27.023844",
     "status": "completed"
    },
    "tags": []
   },
   "outputs": [
    {
     "data": {
      "text/plain": [
       "FAST– National University of Computer and Emerging Sciences    67\n",
       "Sir Syed University of Engineering and Technology              47\n",
       "National University of Sciences and Technology                 45\n",
       "NED University of Engineering And Technology                   34\n",
       "University of the Punjab                                       34\n",
       "                                                               ..\n",
       " University of Texas at Arlington (UTA)                         1\n",
       " University of Turin                                            1\n",
       " University of Central Florida                                  1\n",
       "Saarland University                                             1\n",
       "Seoul National University                                       1\n",
       "Name: Graduated from, Length: 350, dtype: int64"
      ]
     },
     "execution_count": 4,
     "metadata": {},
     "output_type": "execute_result"
    }
   ],
   "source": [
    "# TODO: Your code here\n",
    "professors[\"Graduated from\"].value_counts()"
   ]
  },
  {
   "cell_type": "markdown",
   "id": "a0b78fbb",
   "metadata": {
    "papermill": {
     "duration": 0.006633,
     "end_time": "2022-06-28T18:16:27.060043",
     "exception": false,
     "start_time": "2022-06-28T18:16:27.053410",
     "status": "completed"
    },
    "tags": []
   },
   "source": [
    "Do you notice any inconsistencies in the data?  Can any of the inconsistencies in the data be fixed by removing white spaces at the beginning and end of cells?\n",
    "\n",
    "Once you have answered these questions, run the code cell below to get credit for your work."
   ]
  },
  {
   "cell_type": "code",
   "execution_count": 5,
   "id": "a21124e8",
   "metadata": {
    "execution": {
     "iopub.execute_input": "2022-06-28T18:16:27.074493Z",
     "iopub.status.busy": "2022-06-28T18:16:27.074106Z",
     "iopub.status.idle": "2022-06-28T18:16:27.083095Z",
     "shell.execute_reply": "2022-06-28T18:16:27.081934Z"
    },
    "papermill": {
     "duration": 0.018882,
     "end_time": "2022-06-28T18:16:27.085372",
     "exception": false,
     "start_time": "2022-06-28T18:16:27.066490",
     "status": "completed"
    },
    "tags": []
   },
   "outputs": [
    {
     "data": {
      "application/javascript": [
       "parent.postMessage({\"jupyterEvent\": \"custom.exercise_interaction\", \"data\": {\"outcomeType\": 1, \"valueTowardsCompletion\": 0.3333333333333333, \"interactionType\": 1, \"questionType\": 4, \"questionId\": \"1_ExamineProvince\", \"learnToolsVersion\": \"0.3.4\", \"failureMessage\": \"\", \"exceptionClass\": \"\", \"trace\": \"\"}}, \"*\")"
      ],
      "text/plain": [
       "<IPython.core.display.Javascript object>"
      ]
     },
     "metadata": {},
     "output_type": "display_data"
    },
    {
     "data": {
      "text/markdown": [
       "<span style=\"color:#33cc33\">Correct:</span> \n",
       "\n",
       "There are inconsistencies that can be fixed by removing white spaces at the beginning and end of cells.  For instance, \"University of Central Florida\" and \" University of Central Florida\" both appear in the column."
      ],
      "text/plain": [
       "Correct: \n",
       "\n",
       "There are inconsistencies that can be fixed by removing white spaces at the beginning and end of cells.  For instance, \"University of Central Florida\" and \" University of Central Florida\" both appear in the column."
      ]
     },
     "metadata": {},
     "output_type": "display_data"
    }
   ],
   "source": [
    "# Check your answer (Run this code cell to receive credit!)\n",
    "q1.check()"
   ]
  },
  {
   "cell_type": "code",
   "execution_count": 6,
   "id": "c551250f",
   "metadata": {
    "execution": {
     "iopub.execute_input": "2022-06-28T18:16:27.100911Z",
     "iopub.status.busy": "2022-06-28T18:16:27.100231Z",
     "iopub.status.idle": "2022-06-28T18:16:27.105040Z",
     "shell.execute_reply": "2022-06-28T18:16:27.103932Z"
    },
    "papermill": {
     "duration": 0.01518,
     "end_time": "2022-06-28T18:16:27.107201",
     "exception": false,
     "start_time": "2022-06-28T18:16:27.092021",
     "status": "completed"
    },
    "tags": []
   },
   "outputs": [],
   "source": [
    "# Line below will give you a hint\n",
    "#q1.hint()"
   ]
  },
  {
   "cell_type": "markdown",
   "id": "d9c0edfc",
   "metadata": {
    "papermill": {
     "duration": 0.006329,
     "end_time": "2022-06-28T18:16:27.120256",
     "exception": false,
     "start_time": "2022-06-28T18:16:27.113927",
     "status": "completed"
    },
    "tags": []
   },
   "source": [
    "# 2) Do some text pre-processing\n",
    "\n",
    "Convert every entry in the \"Graduated from\" column in the `professors` DataFrame to remove white spaces at the beginning and end of cells."
   ]
  },
  {
   "cell_type": "markdown",
   "id": "8af419d0",
   "metadata": {
    "papermill": {
     "duration": 0.00664,
     "end_time": "2022-06-28T18:16:27.133570",
     "exception": false,
     "start_time": "2022-06-28T18:16:27.126930",
     "status": "completed"
    },
    "tags": []
   },
   "source": []
  },
  {
   "cell_type": "code",
   "execution_count": 7,
   "id": "ca6fbda5",
   "metadata": {
    "execution": {
     "iopub.execute_input": "2022-06-28T18:16:27.148756Z",
     "iopub.status.busy": "2022-06-28T18:16:27.148347Z",
     "iopub.status.idle": "2022-06-28T18:16:27.161293Z",
     "shell.execute_reply": "2022-06-28T18:16:27.160128Z"
    },
    "papermill": {
     "duration": 0.023174,
     "end_time": "2022-06-28T18:16:27.163501",
     "exception": false,
     "start_time": "2022-06-28T18:16:27.140327",
     "status": "completed"
    },
    "tags": []
   },
   "outputs": [
    {
     "data": {
      "application/javascript": [
       "parent.postMessage({\"jupyterEvent\": \"custom.exercise_interaction\", \"data\": {\"outcomeType\": 1, \"valueTowardsCompletion\": 0.3333333333333333, \"interactionType\": 1, \"questionType\": 1, \"questionId\": \"2_TextProcessing\", \"learnToolsVersion\": \"0.3.4\", \"failureMessage\": \"\", \"exceptionClass\": \"\", \"trace\": \"\"}}, \"*\")"
      ],
      "text/plain": [
       "<IPython.core.display.Javascript object>"
      ]
     },
     "metadata": {},
     "output_type": "display_data"
    },
    {
     "data": {
      "text/markdown": [
       "<span style=\"color:#33cc33\">Correct</span>"
      ],
      "text/plain": [
       "Correct"
      ]
     },
     "metadata": {},
     "output_type": "display_data"
    }
   ],
   "source": [
    "# TODO: Your code here\n",
    "\n",
    "professors['Graduated from'] = professors['Graduated from'].str.strip()\n",
    "# Check your answer\n",
    "q2.check()"
   ]
  },
  {
   "cell_type": "code",
   "execution_count": 8,
   "id": "f50b412c",
   "metadata": {
    "execution": {
     "iopub.execute_input": "2022-06-28T18:16:27.179335Z",
     "iopub.status.busy": "2022-06-28T18:16:27.178548Z",
     "iopub.status.idle": "2022-06-28T18:16:27.187792Z",
     "shell.execute_reply": "2022-06-28T18:16:27.186716Z"
    },
    "papermill": {
     "duration": 0.01961,
     "end_time": "2022-06-28T18:16:27.189998",
     "exception": false,
     "start_time": "2022-06-28T18:16:27.170388",
     "status": "completed"
    },
    "tags": []
   },
   "outputs": [
    {
     "data": {
      "application/javascript": [
       "parent.postMessage({\"jupyterEvent\": \"custom.exercise_interaction\", \"data\": {\"interactionType\": 3, \"questionType\": 1, \"questionId\": \"2_TextProcessing\", \"learnToolsVersion\": \"0.3.4\", \"valueTowardsCompletion\": 0.0, \"failureMessage\": \"\", \"exceptionClass\": \"\", \"trace\": \"\", \"outcomeType\": 4}}, \"*\")"
      ],
      "text/plain": [
       "<IPython.core.display.Javascript object>"
      ]
     },
     "metadata": {},
     "output_type": "display_data"
    },
    {
     "data": {
      "text/markdown": [
       "<span style=\"color:#33cc99\">Solution:</span> \n",
       "```python\n",
       "professors['Graduated from'] = professors['Graduated from'].str.strip()\n",
       "\n",
       "```"
      ],
      "text/plain": [
       "Solution: \n",
       "```python\n",
       "professors['Graduated from'] = professors['Graduated from'].str.strip()\n",
       "\n",
       "```"
      ]
     },
     "metadata": {},
     "output_type": "display_data"
    }
   ],
   "source": [
    "# Lines below will give you a hint or solution code\n",
    "#q2.hint()\n",
    "q2.solution()"
   ]
  },
  {
   "cell_type": "markdown",
   "id": "df53d7dc",
   "metadata": {
    "papermill": {
     "duration": 0.007238,
     "end_time": "2022-06-28T18:16:27.205060",
     "exception": false,
     "start_time": "2022-06-28T18:16:27.197822",
     "status": "completed"
    },
    "tags": []
   },
   "source": [
    "# 3) Continue working with countries\n",
    "\n",
    "In the tutorial, we focused on cleaning up inconsistencies in the \"Country\" column.  Run the code cell below to view the list of unique values that we ended with."
   ]
  },
  {
   "cell_type": "code",
   "execution_count": 9,
   "id": "f2d43db7",
   "metadata": {
    "execution": {
     "iopub.execute_input": "2022-06-28T18:16:27.221280Z",
     "iopub.status.busy": "2022-06-28T18:16:27.220834Z",
     "iopub.status.idle": "2022-06-28T18:16:27.229440Z",
     "shell.execute_reply": "2022-06-28T18:16:27.228566Z"
    },
    "papermill": {
     "duration": 0.019528,
     "end_time": "2022-06-28T18:16:27.231768",
     "exception": false,
     "start_time": "2022-06-28T18:16:27.212240",
     "status": "completed"
    },
    "tags": []
   },
   "outputs": [
    {
     "data": {
      "text/plain": [
       "array(['australia', 'austria', 'canada', 'china', 'finland', 'france',\n",
       "       'germany', 'greece', 'hongkong', 'ireland', 'italy', 'japan',\n",
       "       'macau', 'malaysia', 'mauritius', 'netherland', 'new zealand',\n",
       "       'norway', 'pakistan', 'portugal', 'russian federation',\n",
       "       'saudi arabia', 'scotland', 'singapore', 'south korea', 'spain',\n",
       "       'sweden', 'thailand', 'turkey', 'uk', 'urbana', 'usa', 'usofa'],\n",
       "      dtype=object)"
      ]
     },
     "execution_count": 9,
     "metadata": {},
     "output_type": "execute_result"
    }
   ],
   "source": [
    "# get all the unique values in the 'City' column\n",
    "countries = professors['Country'].unique()\n",
    "\n",
    "# sort them alphabetically and then take a closer look\n",
    "countries.sort()\n",
    "countries"
   ]
  },
  {
   "cell_type": "markdown",
   "id": "1f635351",
   "metadata": {
    "papermill": {
     "duration": 0.007336,
     "end_time": "2022-06-28T18:16:27.246763",
     "exception": false,
     "start_time": "2022-06-28T18:16:27.239427",
     "status": "completed"
    },
    "tags": []
   },
   "source": [
    "Take another look at the \"Country\" column and see if there's any more data cleaning we need to do.\n",
    "\n",
    "It looks like 'usa' and 'usofa' should be the same country.  Correct the \"Country\" column in the dataframe to replace 'usofa' with 'usa'.\n",
    "\n",
    "**Use the most recent version of the DataFrame (with the whitespaces at the beginning and end of cells removed) from question 2.**"
   ]
  },
  {
   "cell_type": "code",
   "execution_count": 10,
   "id": "21c3d2fa",
   "metadata": {
    "execution": {
     "iopub.execute_input": "2022-06-28T18:16:27.264211Z",
     "iopub.status.busy": "2022-06-28T18:16:27.263578Z",
     "iopub.status.idle": "2022-06-28T18:16:27.273007Z",
     "shell.execute_reply": "2022-06-28T18:16:27.271702Z"
    },
    "papermill": {
     "duration": 0.020741,
     "end_time": "2022-06-28T18:16:27.275287",
     "exception": false,
     "start_time": "2022-06-28T18:16:27.254546",
     "status": "completed"
    },
    "tags": []
   },
   "outputs": [
    {
     "data": {
      "text/plain": [
       "[('usa', 100),\n",
       " ('usofa', 75),\n",
       " ('austria', 60),\n",
       " ('australia', 50),\n",
       " ('spain', 50),\n",
       " ('urbana', 44),\n",
       " ('uk', 40),\n",
       " ('malaysia', 36),\n",
       " ('pakistan', 36),\n",
       " ('portugal', 36),\n",
       " ('scotland', 36),\n",
       " ('mauritius', 33),\n",
       " ('singapore', 33),\n",
       " ('russian federation', 29),\n",
       " ('saudi arabia', 27),\n",
       " ('china', 25),\n",
       " ('italy', 25),\n",
       " ('japan', 25),\n",
       " ('macau', 25),\n",
       " ('canada', 22)]"
      ]
     },
     "execution_count": 10,
     "metadata": {},
     "output_type": "execute_result"
    }
   ],
   "source": [
    "matches = fuzzywuzzy.process.extract(\"usa\", countries, limit=20, scorer=fuzzywuzzy.fuzz.token_sort_ratio)\n",
    "matches"
   ]
  },
  {
   "cell_type": "code",
   "execution_count": 11,
   "id": "fa031a5a",
   "metadata": {
    "execution": {
     "iopub.execute_input": "2022-06-28T18:16:27.292388Z",
     "iopub.status.busy": "2022-06-28T18:16:27.291798Z",
     "iopub.status.idle": "2022-06-28T18:16:27.306027Z",
     "shell.execute_reply": "2022-06-28T18:16:27.304749Z"
    },
    "papermill": {
     "duration": 0.026149,
     "end_time": "2022-06-28T18:16:27.309037",
     "exception": false,
     "start_time": "2022-06-28T18:16:27.282888",
     "status": "completed"
    },
    "tags": []
   },
   "outputs": [
    {
     "name": "stdout",
     "output_type": "stream",
     "text": [
      "All done!\n"
     ]
    },
    {
     "data": {
      "application/javascript": [
       "parent.postMessage({\"jupyterEvent\": \"custom.exercise_interaction\", \"data\": {\"outcomeType\": 1, \"valueTowardsCompletion\": 0.3333333333333333, \"interactionType\": 1, \"questionType\": 1, \"questionId\": \"3_WorkingWithCities\", \"learnToolsVersion\": \"0.3.4\", \"failureMessage\": \"\", \"exceptionClass\": \"\", \"trace\": \"\"}}, \"*\")"
      ],
      "text/plain": [
       "<IPython.core.display.Javascript object>"
      ]
     },
     "metadata": {},
     "output_type": "display_data"
    },
    {
     "data": {
      "text/markdown": [
       "<span style=\"color:#33cc33\">Correct</span>"
      ],
      "text/plain": [
       "Correct"
      ]
     },
     "metadata": {},
     "output_type": "display_data"
    }
   ],
   "source": [
    "# TODO: Your code here!\n",
    "replace_matches_in_column(df=professors, column='Country', string_to_match=\"usa\",min_ratio=70)\n",
    "countries = professors['Country'].unique()\n",
    "\n",
    "# Check your answer\n",
    "q3.check()"
   ]
  },
  {
   "cell_type": "code",
   "execution_count": 12,
   "id": "d520d157",
   "metadata": {
    "execution": {
     "iopub.execute_input": "2022-06-28T18:16:27.326985Z",
     "iopub.status.busy": "2022-06-28T18:16:27.326613Z",
     "iopub.status.idle": "2022-06-28T18:16:27.330645Z",
     "shell.execute_reply": "2022-06-28T18:16:27.329633Z"
    },
    "papermill": {
     "duration": 0.015581,
     "end_time": "2022-06-28T18:16:27.332984",
     "exception": false,
     "start_time": "2022-06-28T18:16:27.317403",
     "status": "completed"
    },
    "tags": []
   },
   "outputs": [],
   "source": [
    "# Lines below will give you a hint or solution code\n",
    "#q3.hint()\n",
    "#q3.solution()"
   ]
  },
  {
   "cell_type": "markdown",
   "id": "50bf58b0",
   "metadata": {
    "papermill": {
     "duration": 0.007763,
     "end_time": "2022-06-28T18:16:27.349014",
     "exception": false,
     "start_time": "2022-06-28T18:16:27.341251",
     "status": "completed"
    },
    "tags": []
   },
   "source": [
    "# Congratulations!\n",
    "\n",
    "Congratulations for completing the **Data Cleaning** course on Kaggle Learn!\n",
    "\n",
    "To practice your new skills, you're encouraged to download and investigate some of [Kaggle's Datasets](https://www.kaggle.com/datasets)."
   ]
  },
  {
   "cell_type": "markdown",
   "id": "37ee610d",
   "metadata": {
    "papermill": {
     "duration": 0.007681,
     "end_time": "2022-06-28T18:16:27.364821",
     "exception": false,
     "start_time": "2022-06-28T18:16:27.357140",
     "status": "completed"
    },
    "tags": []
   },
   "source": [
    "---\n",
    "\n",
    "\n",
    "\n",
    "\n",
    "*Have questions or comments? Visit the [course discussion forum](https://www.kaggle.com/learn/data-cleaning/discussion) to chat with other learners.*"
   ]
  }
 ],
 "metadata": {
  "kernelspec": {
   "display_name": "Python 3",
   "language": "python",
   "name": "python3"
  },
  "language_info": {
   "codemirror_mode": {
    "name": "ipython",
    "version": 3
   },
   "file_extension": ".py",
   "mimetype": "text/x-python",
   "name": "python",
   "nbconvert_exporter": "python",
   "pygments_lexer": "ipython3",
   "version": "3.7.12"
  },
  "papermill": {
   "default_parameters": {},
   "duration": 12.341532,
   "end_time": "2022-06-28T18:16:27.995280",
   "environment_variables": {},
   "exception": null,
   "input_path": "__notebook__.ipynb",
   "output_path": "__notebook__.ipynb",
   "parameters": {},
   "start_time": "2022-06-28T18:16:15.653748",
   "version": "2.3.4"
  }
 },
 "nbformat": 4,
 "nbformat_minor": 5
}

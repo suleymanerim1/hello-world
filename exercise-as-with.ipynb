{
 "cells": [
  {
   "cell_type": "markdown",
   "id": "5ce3a289",
   "metadata": {
    "papermill": {
     "duration": 0.008566,
     "end_time": "2022-05-29T12:41:34.990163",
     "exception": false,
     "start_time": "2022-05-29T12:41:34.981597",
     "status": "completed"
    },
    "tags": []
   },
   "source": [
    "**This notebook is an exercise in the [SQL](https://www.kaggle.com/learn/intro-to-sql) course.  You can reference the tutorial at [this link](https://www.kaggle.com/dansbecker/as-with).**\n",
    "\n",
    "---\n"
   ]
  },
  {
   "cell_type": "markdown",
   "id": "ca5568cb",
   "metadata": {
    "papermill": {
     "duration": 0.004844,
     "end_time": "2022-05-29T12:41:35.000248",
     "exception": false,
     "start_time": "2022-05-29T12:41:34.995404",
     "status": "completed"
    },
    "tags": []
   },
   "source": [
    "# Introduction\n",
    "\n",
    "You are getting to the point where you can own an analysis from beginning to end. So you'll do more data exploration in this exercise than you've done before.  Before you get started, run the following set-up code as usual. "
   ]
  },
  {
   "cell_type": "code",
   "execution_count": 1,
   "id": "8476b027",
   "metadata": {
    "execution": {
     "iopub.execute_input": "2022-05-29T12:41:35.012209Z",
     "iopub.status.busy": "2022-05-29T12:41:35.011556Z",
     "iopub.status.idle": "2022-05-29T12:41:39.881608Z",
     "shell.execute_reply": "2022-05-29T12:41:39.880515Z"
    },
    "papermill": {
     "duration": 4.879487,
     "end_time": "2022-05-29T12:41:39.884745",
     "exception": false,
     "start_time": "2022-05-29T12:41:35.005258",
     "status": "completed"
    },
    "tags": []
   },
   "outputs": [
    {
     "name": "stdout",
     "output_type": "stream",
     "text": [
      "Using Kaggle's public dataset BigQuery integration.\n"
     ]
    },
    {
     "name": "stderr",
     "output_type": "stream",
     "text": [
      "/opt/conda/lib/python3.7/site-packages/google/cloud/bigquery/client.py:440: UserWarning: Cannot create BigQuery Storage client, the dependency google-cloud-bigquery-storage is not installed.\n",
      "  \"Cannot create BigQuery Storage client, the dependency \"\n"
     ]
    },
    {
     "name": "stdout",
     "output_type": "stream",
     "text": [
      "Setup Complete\n"
     ]
    }
   ],
   "source": [
    "# Set up feedback system\n",
    "from learntools.core import binder\n",
    "binder.bind(globals())\n",
    "from learntools.sql.ex5 import *\n",
    "print(\"Setup Complete\")"
   ]
  },
  {
   "cell_type": "markdown",
   "id": "3d8f7a5c",
   "metadata": {
    "papermill": {
     "duration": 0.005161,
     "end_time": "2022-05-29T12:41:39.896437",
     "exception": false,
     "start_time": "2022-05-29T12:41:39.891276",
     "status": "completed"
    },
    "tags": []
   },
   "source": [
    "You'll work with a dataset about taxi trips in the city of Chicago. Run the cell below to fetch the `chicago_taxi_trips` dataset."
   ]
  },
  {
   "cell_type": "code",
   "execution_count": 2,
   "id": "09f2d026",
   "metadata": {
    "execution": {
     "iopub.execute_input": "2022-05-29T12:41:39.909810Z",
     "iopub.status.busy": "2022-05-29T12:41:39.908831Z",
     "iopub.status.idle": "2022-05-29T12:41:40.335392Z",
     "shell.execute_reply": "2022-05-29T12:41:40.334619Z"
    },
    "papermill": {
     "duration": 0.435769,
     "end_time": "2022-05-29T12:41:40.337530",
     "exception": false,
     "start_time": "2022-05-29T12:41:39.901761",
     "status": "completed"
    },
    "tags": []
   },
   "outputs": [
    {
     "name": "stdout",
     "output_type": "stream",
     "text": [
      "Using Kaggle's public dataset BigQuery integration.\n"
     ]
    }
   ],
   "source": [
    "from google.cloud import bigquery\n",
    "\n",
    "# Create a \"Client\" object\n",
    "client = bigquery.Client()\n",
    "\n",
    "# Construct a reference to the \"chicago_taxi_trips\" dataset\n",
    "dataset_ref = client.dataset(\"chicago_taxi_trips\", project=\"bigquery-public-data\")\n",
    "\n",
    "# API request - fetch the dataset\n",
    "dataset = client.get_dataset(dataset_ref)"
   ]
  },
  {
   "cell_type": "markdown",
   "id": "fe081f09",
   "metadata": {
    "papermill": {
     "duration": 0.005407,
     "end_time": "2022-05-29T12:41:40.348629",
     "exception": false,
     "start_time": "2022-05-29T12:41:40.343222",
     "status": "completed"
    },
    "tags": []
   },
   "source": [
    "# Exercises\n",
    "\n",
    "You are curious how much slower traffic moves when traffic volume is high. This involves a few steps.\n",
    "\n",
    "### 1) Find the data\n",
    "Before you can access the data, you need to find the table name with the data.\n",
    "\n",
    "*Hint*: Tab completion is helpful whenever you can't remember a command. Type `client.` and then hit the tab key. Don't forget the period before hitting tab."
   ]
  },
  {
   "cell_type": "code",
   "execution_count": 3,
   "id": "bbbf09d0",
   "metadata": {
    "execution": {
     "iopub.execute_input": "2022-05-29T12:41:40.362960Z",
     "iopub.status.busy": "2022-05-29T12:41:40.362342Z",
     "iopub.status.idle": "2022-05-29T12:41:41.170847Z",
     "shell.execute_reply": "2022-05-29T12:41:41.170096Z"
    },
    "papermill": {
     "duration": 0.818173,
     "end_time": "2022-05-29T12:41:41.173059",
     "exception": false,
     "start_time": "2022-05-29T12:41:40.354886",
     "status": "completed"
    },
    "tags": []
   },
   "outputs": [],
   "source": [
    "# List all the tables in the \"hacker_news\" dataset\n",
    "tables = list(client.list_tables(dataset))"
   ]
  },
  {
   "cell_type": "code",
   "execution_count": 4,
   "id": "681a2ea7",
   "metadata": {
    "execution": {
     "iopub.execute_input": "2022-05-29T12:41:41.186515Z",
     "iopub.status.busy": "2022-05-29T12:41:41.186016Z",
     "iopub.status.idle": "2022-05-29T12:41:41.580985Z",
     "shell.execute_reply": "2022-05-29T12:41:41.579626Z"
    },
    "papermill": {
     "duration": 0.405178,
     "end_time": "2022-05-29T12:41:41.584174",
     "exception": false,
     "start_time": "2022-05-29T12:41:41.178996",
     "status": "completed"
    },
    "tags": []
   },
   "outputs": [
    {
     "name": "stdout",
     "output_type": "stream",
     "text": [
      "taxi_trips\n"
     ]
    }
   ],
   "source": [
    "# List all the tables in the \"hacker_news\" dataset\n",
    "tables = list(client.list_tables(dataset))\n",
    "\n",
    "# Print names of all tables in the dataset (there are four!)\n",
    "for table in tables:  \n",
    "    print(table.table_id)"
   ]
  },
  {
   "cell_type": "code",
   "execution_count": 5,
   "id": "c14bdc89",
   "metadata": {
    "execution": {
     "iopub.execute_input": "2022-05-29T12:41:41.598167Z",
     "iopub.status.busy": "2022-05-29T12:41:41.597519Z",
     "iopub.status.idle": "2022-05-29T12:41:41.605680Z",
     "shell.execute_reply": "2022-05-29T12:41:41.605067Z"
    },
    "papermill": {
     "duration": 0.01734,
     "end_time": "2022-05-29T12:41:41.607454",
     "exception": false,
     "start_time": "2022-05-29T12:41:41.590114",
     "status": "completed"
    },
    "tags": []
   },
   "outputs": [
    {
     "data": {
      "application/javascript": [
       "parent.postMessage({\"jupyterEvent\": \"custom.exercise_interaction\", \"data\": {\"outcomeType\": 1, \"valueTowardsCompletion\": 0.16666666666666666, \"interactionType\": 1, \"questionType\": 1, \"questionId\": \"1_GetTableName\", \"learnToolsVersion\": \"0.3.4\", \"failureMessage\": \"\", \"exceptionClass\": \"\", \"trace\": \"\"}}, \"*\")"
      ],
      "text/plain": [
       "<IPython.core.display.Javascript object>"
      ]
     },
     "metadata": {},
     "output_type": "display_data"
    },
    {
     "data": {
      "text/markdown": [
       "<span style=\"color:#33cc33\">Correct</span>"
      ],
      "text/plain": [
       "Correct"
      ]
     },
     "metadata": {},
     "output_type": "display_data"
    }
   ],
   "source": [
    "# Write the table name as a string below\n",
    "table_name = \"taxi_trips\"\n",
    "\n",
    "# Check your answer\n",
    "q_1.check()"
   ]
  },
  {
   "cell_type": "markdown",
   "id": "d3ed67d9",
   "metadata": {
    "papermill": {
     "duration": 0.005719,
     "end_time": "2022-05-29T12:41:41.618834",
     "exception": false,
     "start_time": "2022-05-29T12:41:41.613115",
     "status": "completed"
    },
    "tags": []
   },
   "source": [
    "For the solution, uncomment the line below."
   ]
  },
  {
   "cell_type": "code",
   "execution_count": 6,
   "id": "8d033388",
   "metadata": {
    "execution": {
     "iopub.execute_input": "2022-05-29T12:41:41.632357Z",
     "iopub.status.busy": "2022-05-29T12:41:41.631866Z",
     "iopub.status.idle": "2022-05-29T12:41:41.636842Z",
     "shell.execute_reply": "2022-05-29T12:41:41.635511Z"
    },
    "papermill": {
     "duration": 0.014371,
     "end_time": "2022-05-29T12:41:41.639010",
     "exception": false,
     "start_time": "2022-05-29T12:41:41.624639",
     "status": "completed"
    },
    "tags": []
   },
   "outputs": [],
   "source": [
    "#q_1.solution()"
   ]
  },
  {
   "cell_type": "markdown",
   "id": "cca9689d",
   "metadata": {
    "papermill": {
     "duration": 0.005429,
     "end_time": "2022-05-29T12:41:41.650211",
     "exception": false,
     "start_time": "2022-05-29T12:41:41.644782",
     "status": "completed"
    },
    "tags": []
   },
   "source": [
    "### 2) Peek at the data\n",
    "\n",
    "Use the next code cell to peek at the top few rows of the data. Inspect the data and see if any issues with data quality are immediately obvious. "
   ]
  },
  {
   "cell_type": "code",
   "execution_count": 7,
   "id": "55ed1fce",
   "metadata": {
    "execution": {
     "iopub.execute_input": "2022-05-29T12:41:41.663922Z",
     "iopub.status.busy": "2022-05-29T12:41:41.663010Z",
     "iopub.status.idle": "2022-05-29T12:41:42.707465Z",
     "shell.execute_reply": "2022-05-29T12:41:42.706224Z"
    },
    "papermill": {
     "duration": 1.05359,
     "end_time": "2022-05-29T12:41:42.709578",
     "exception": false,
     "start_time": "2022-05-29T12:41:41.655988",
     "status": "completed"
    },
    "tags": []
   },
   "outputs": [
    {
     "name": "stderr",
     "output_type": "stream",
     "text": [
      "/opt/conda/lib/python3.7/site-packages/ipykernel_launcher.py:3: UserWarning: Cannot use bqstorage_client if max_results is set, reverting to fetching data with the tabledata.list endpoint.\n",
      "  This is separate from the ipykernel package so we can avoid doing imports until\n"
     ]
    },
    {
     "data": {
      "text/html": [
       "<div>\n",
       "<style scoped>\n",
       "    .dataframe tbody tr th:only-of-type {\n",
       "        vertical-align: middle;\n",
       "    }\n",
       "\n",
       "    .dataframe tbody tr th {\n",
       "        vertical-align: top;\n",
       "    }\n",
       "\n",
       "    .dataframe thead th {\n",
       "        text-align: right;\n",
       "    }\n",
       "</style>\n",
       "<table border=\"1\" class=\"dataframe\">\n",
       "  <thead>\n",
       "    <tr style=\"text-align: right;\">\n",
       "      <th></th>\n",
       "      <th>unique_key</th>\n",
       "      <th>taxi_id</th>\n",
       "      <th>trip_start_timestamp</th>\n",
       "      <th>trip_end_timestamp</th>\n",
       "      <th>trip_seconds</th>\n",
       "      <th>trip_miles</th>\n",
       "      <th>pickup_census_tract</th>\n",
       "      <th>dropoff_census_tract</th>\n",
       "      <th>pickup_community_area</th>\n",
       "      <th>dropoff_community_area</th>\n",
       "      <th>...</th>\n",
       "      <th>extras</th>\n",
       "      <th>trip_total</th>\n",
       "      <th>payment_type</th>\n",
       "      <th>company</th>\n",
       "      <th>pickup_latitude</th>\n",
       "      <th>pickup_longitude</th>\n",
       "      <th>pickup_location</th>\n",
       "      <th>dropoff_latitude</th>\n",
       "      <th>dropoff_longitude</th>\n",
       "      <th>dropoff_location</th>\n",
       "    </tr>\n",
       "  </thead>\n",
       "  <tbody>\n",
       "    <tr>\n",
       "      <th>0</th>\n",
       "      <td>8f7085c0a9632f3c462c5543cb9df420df1f4029</td>\n",
       "      <td>c51889ed8a7b4e546482f2bbe16bee57680f70542e78a7...</td>\n",
       "      <td>2016-10-23 16:45:00+00:00</td>\n",
       "      <td>2016-10-23 17:15:00+00:00</td>\n",
       "      <td>1601</td>\n",
       "      <td>13.6</td>\n",
       "      <td>NaN</td>\n",
       "      <td>NaN</td>\n",
       "      <td>NaN</td>\n",
       "      <td>NaN</td>\n",
       "      <td>...</td>\n",
       "      <td>0.0</td>\n",
       "      <td>0.01</td>\n",
       "      <td>Cash</td>\n",
       "      <td>303 Taxi</td>\n",
       "      <td>NaN</td>\n",
       "      <td>NaN</td>\n",
       "      <td>None</td>\n",
       "      <td>NaN</td>\n",
       "      <td>NaN</td>\n",
       "      <td>None</td>\n",
       "    </tr>\n",
       "    <tr>\n",
       "      <th>1</th>\n",
       "      <td>9414ae6ac589eb8c92065bd8926aaa332fb62283</td>\n",
       "      <td>c51889ed8a7b4e546482f2bbe16bee57680f70542e78a7...</td>\n",
       "      <td>2016-10-23 17:30:00+00:00</td>\n",
       "      <td>2016-10-23 17:45:00+00:00</td>\n",
       "      <td>783</td>\n",
       "      <td>3.8</td>\n",
       "      <td>NaN</td>\n",
       "      <td>NaN</td>\n",
       "      <td>NaN</td>\n",
       "      <td>NaN</td>\n",
       "      <td>...</td>\n",
       "      <td>0.0</td>\n",
       "      <td>14.95</td>\n",
       "      <td>Credit Card</td>\n",
       "      <td>303 Taxi</td>\n",
       "      <td>NaN</td>\n",
       "      <td>NaN</td>\n",
       "      <td>None</td>\n",
       "      <td>NaN</td>\n",
       "      <td>NaN</td>\n",
       "      <td>None</td>\n",
       "    </tr>\n",
       "    <tr>\n",
       "      <th>2</th>\n",
       "      <td>a09cc3a425b81b87b990721a767da373364496a0</td>\n",
       "      <td>25f108dbdee2f40abf533ec54828d51019935abcf13c9a...</td>\n",
       "      <td>2018-01-14 15:15:00+00:00</td>\n",
       "      <td>2018-01-14 15:30:00+00:00</td>\n",
       "      <td>593</td>\n",
       "      <td>1.1</td>\n",
       "      <td>NaN</td>\n",
       "      <td>NaN</td>\n",
       "      <td>NaN</td>\n",
       "      <td>NaN</td>\n",
       "      <td>...</td>\n",
       "      <td>0.0</td>\n",
       "      <td>6.80</td>\n",
       "      <td>Cash</td>\n",
       "      <td>303 Taxi</td>\n",
       "      <td>NaN</td>\n",
       "      <td>NaN</td>\n",
       "      <td>None</td>\n",
       "      <td>NaN</td>\n",
       "      <td>NaN</td>\n",
       "      <td>None</td>\n",
       "    </tr>\n",
       "    <tr>\n",
       "      <th>3</th>\n",
       "      <td>ce18b8ad09a687248fdf69f35e31dc6bd926effd</td>\n",
       "      <td>28cc6d01750f2d536f164256e6a563ac6e8031e88e8519...</td>\n",
       "      <td>2018-01-04 07:30:00+00:00</td>\n",
       "      <td>2018-01-04 07:30:00+00:00</td>\n",
       "      <td>305</td>\n",
       "      <td>1.2</td>\n",
       "      <td>NaN</td>\n",
       "      <td>NaN</td>\n",
       "      <td>NaN</td>\n",
       "      <td>NaN</td>\n",
       "      <td>...</td>\n",
       "      <td>0.0</td>\n",
       "      <td>5.20</td>\n",
       "      <td>Cash</td>\n",
       "      <td>303 Taxi</td>\n",
       "      <td>NaN</td>\n",
       "      <td>NaN</td>\n",
       "      <td>None</td>\n",
       "      <td>NaN</td>\n",
       "      <td>NaN</td>\n",
       "      <td>None</td>\n",
       "    </tr>\n",
       "    <tr>\n",
       "      <th>4</th>\n",
       "      <td>37c4d9d1f0298df2d8151d2ad6f9a5c0306d10ff</td>\n",
       "      <td>28cc6d01750f2d536f164256e6a563ac6e8031e88e8519...</td>\n",
       "      <td>2018-01-04 08:00:00+00:00</td>\n",
       "      <td>2018-01-04 08:00:00+00:00</td>\n",
       "      <td>4</td>\n",
       "      <td>0.0</td>\n",
       "      <td>NaN</td>\n",
       "      <td>NaN</td>\n",
       "      <td>NaN</td>\n",
       "      <td>NaN</td>\n",
       "      <td>...</td>\n",
       "      <td>0.0</td>\n",
       "      <td>2.00</td>\n",
       "      <td>Cash</td>\n",
       "      <td>303 Taxi</td>\n",
       "      <td>NaN</td>\n",
       "      <td>NaN</td>\n",
       "      <td>None</td>\n",
       "      <td>NaN</td>\n",
       "      <td>NaN</td>\n",
       "      <td>None</td>\n",
       "    </tr>\n",
       "  </tbody>\n",
       "</table>\n",
       "<p>5 rows × 23 columns</p>\n",
       "</div>"
      ],
      "text/plain": [
       "                                 unique_key  \\\n",
       "0  8f7085c0a9632f3c462c5543cb9df420df1f4029   \n",
       "1  9414ae6ac589eb8c92065bd8926aaa332fb62283   \n",
       "2  a09cc3a425b81b87b990721a767da373364496a0   \n",
       "3  ce18b8ad09a687248fdf69f35e31dc6bd926effd   \n",
       "4  37c4d9d1f0298df2d8151d2ad6f9a5c0306d10ff   \n",
       "\n",
       "                                             taxi_id  \\\n",
       "0  c51889ed8a7b4e546482f2bbe16bee57680f70542e78a7...   \n",
       "1  c51889ed8a7b4e546482f2bbe16bee57680f70542e78a7...   \n",
       "2  25f108dbdee2f40abf533ec54828d51019935abcf13c9a...   \n",
       "3  28cc6d01750f2d536f164256e6a563ac6e8031e88e8519...   \n",
       "4  28cc6d01750f2d536f164256e6a563ac6e8031e88e8519...   \n",
       "\n",
       "       trip_start_timestamp        trip_end_timestamp  trip_seconds  \\\n",
       "0 2016-10-23 16:45:00+00:00 2016-10-23 17:15:00+00:00          1601   \n",
       "1 2016-10-23 17:30:00+00:00 2016-10-23 17:45:00+00:00           783   \n",
       "2 2018-01-14 15:15:00+00:00 2018-01-14 15:30:00+00:00           593   \n",
       "3 2018-01-04 07:30:00+00:00 2018-01-04 07:30:00+00:00           305   \n",
       "4 2018-01-04 08:00:00+00:00 2018-01-04 08:00:00+00:00             4   \n",
       "\n",
       "   trip_miles  pickup_census_tract  dropoff_census_tract  \\\n",
       "0        13.6                  NaN                   NaN   \n",
       "1         3.8                  NaN                   NaN   \n",
       "2         1.1                  NaN                   NaN   \n",
       "3         1.2                  NaN                   NaN   \n",
       "4         0.0                  NaN                   NaN   \n",
       "\n",
       "   pickup_community_area  dropoff_community_area  ...  extras  trip_total  \\\n",
       "0                    NaN                     NaN  ...     0.0        0.01   \n",
       "1                    NaN                     NaN  ...     0.0       14.95   \n",
       "2                    NaN                     NaN  ...     0.0        6.80   \n",
       "3                    NaN                     NaN  ...     0.0        5.20   \n",
       "4                    NaN                     NaN  ...     0.0        2.00   \n",
       "\n",
       "   payment_type   company  pickup_latitude pickup_longitude pickup_location  \\\n",
       "0          Cash  303 Taxi              NaN              NaN            None   \n",
       "1   Credit Card  303 Taxi              NaN              NaN            None   \n",
       "2          Cash  303 Taxi              NaN              NaN            None   \n",
       "3          Cash  303 Taxi              NaN              NaN            None   \n",
       "4          Cash  303 Taxi              NaN              NaN            None   \n",
       "\n",
       "   dropoff_latitude  dropoff_longitude dropoff_location  \n",
       "0               NaN                NaN             None  \n",
       "1               NaN                NaN             None  \n",
       "2               NaN                NaN             None  \n",
       "3               NaN                NaN             None  \n",
       "4               NaN                NaN             None  \n",
       "\n",
       "[5 rows x 23 columns]"
      ]
     },
     "execution_count": 7,
     "metadata": {},
     "output_type": "execute_result"
    }
   ],
   "source": [
    "table_ref=dataset_ref.table(\"taxi_trips\")\n",
    "table= client.get_table(table_ref)\n",
    "client.list_rows(table,max_results=5).to_dataframe()"
   ]
  },
  {
   "cell_type": "markdown",
   "id": "23430a10",
   "metadata": {
    "papermill": {
     "duration": 0.006157,
     "end_time": "2022-05-29T12:41:42.722213",
     "exception": false,
     "start_time": "2022-05-29T12:41:42.716056",
     "status": "completed"
    },
    "tags": []
   },
   "source": [
    "After deciding whether you see any important issues, run the code cell below."
   ]
  },
  {
   "cell_type": "code",
   "execution_count": 8,
   "id": "2c70dc1d",
   "metadata": {
    "execution": {
     "iopub.execute_input": "2022-05-29T12:41:42.736677Z",
     "iopub.status.busy": "2022-05-29T12:41:42.736319Z",
     "iopub.status.idle": "2022-05-29T12:41:42.742990Z",
     "shell.execute_reply": "2022-05-29T12:41:42.742361Z"
    },
    "papermill": {
     "duration": 0.015979,
     "end_time": "2022-05-29T12:41:42.744747",
     "exception": false,
     "start_time": "2022-05-29T12:41:42.728768",
     "status": "completed"
    },
    "tags": []
   },
   "outputs": [
    {
     "data": {
      "application/javascript": [
       "parent.postMessage({\"jupyterEvent\": \"custom.exercise_interaction\", \"data\": {\"interactionType\": 3, \"questionType\": 4, \"questionId\": \"2_WhatsWrongWithData\", \"learnToolsVersion\": \"0.3.4\", \"valueTowardsCompletion\": 0.0, \"failureMessage\": \"\", \"exceptionClass\": \"\", \"trace\": \"\", \"outcomeType\": 4}}, \"*\")"
      ],
      "text/plain": [
       "<IPython.core.display.Javascript object>"
      ]
     },
     "metadata": {},
     "output_type": "display_data"
    },
    {
     "data": {
      "text/markdown": [
       "<span style=\"color:#33cc99\">Solution:</span> \n",
       "You can see the data by calling: \n",
       "```python\n",
       "# Construct a reference to the \"taxi_trips\" table\n",
       "table_ref = dataset_ref.table(\"taxi_trips\")\n",
       "\n",
       "# API request - fetch the table\n",
       "table = client.get_table(table_ref)\n",
       "\n",
       "# Preview the first five lines of the \"taxi_trips\" table\n",
       "client.list_rows(table, max_results=5).to_dataframe()\n",
       "```\n",
       "\n",
       "Some trips in the top few rows have `trip_seconds` or `trip_miles` values of 0. \n",
       "Other location fields have values of `None`. That is a problem if we want to use those fields.\n"
      ],
      "text/plain": [
       "Solution: \n",
       "You can see the data by calling: \n",
       "```python\n",
       "# Construct a reference to the \"taxi_trips\" table\n",
       "table_ref = dataset_ref.table(\"taxi_trips\")\n",
       "\n",
       "# API request - fetch the table\n",
       "table = client.get_table(table_ref)\n",
       "\n",
       "# Preview the first five lines of the \"taxi_trips\" table\n",
       "client.list_rows(table, max_results=5).to_dataframe()\n",
       "```\n",
       "\n",
       "Some trips in the top few rows have `trip_seconds` or `trip_miles` values of 0. \n",
       "Other location fields have values of `None`. That is a problem if we want to use those fields."
      ]
     },
     "metadata": {},
     "output_type": "display_data"
    }
   ],
   "source": [
    "# Check your answer (Run this code cell to receive credit!)\n",
    "q_2.solution()"
   ]
  },
  {
   "cell_type": "markdown",
   "id": "4ce5a59d",
   "metadata": {
    "papermill": {
     "duration": 0.006123,
     "end_time": "2022-05-29T12:41:42.757364",
     "exception": false,
     "start_time": "2022-05-29T12:41:42.751241",
     "status": "completed"
    },
    "tags": []
   },
   "source": [
    "### 3) Determine when this data is from\n",
    "\n",
    "If the data is sufficiently old, we might be careful before assuming the data is still relevant to traffic patterns today. Write a query that counts the number of trips in each year.  \n",
    "\n",
    "Your results should have two columns:\n",
    "- `year` - the year of the trips\n",
    "- `num_trips` - the number of trips in that year\n",
    "\n",
    "Hints:\n",
    "- When using **GROUP BY** and **ORDER BY**, you should refer to the columns by the alias `year` that you set at the top of the **SELECT** query.\n",
    "- The SQL code to **SELECT** the year from `trip_start_timestamp` is <code>SELECT EXTRACT(YEAR FROM trip_start_timestamp)</code>\n",
    "- The **FROM** field can be a little tricky until you are used to it.  The format is:\n",
    "    1. A backick (the symbol \\`).\n",
    "    2. The project name. In this case it is `bigquery-public-data`.\n",
    "    3. A period.\n",
    "    4. The dataset name. In this case, it is `chicago_taxi_trips`.\n",
    "    5. A period.\n",
    "    6. The table name. You used this as your answer in **1) Find the data**.\n",
    "    7. A backtick (the symbol \\`)."
   ]
  },
  {
   "cell_type": "code",
   "execution_count": 9,
   "id": "4f3b73a7",
   "metadata": {
    "execution": {
     "iopub.execute_input": "2022-05-29T12:41:42.772106Z",
     "iopub.status.busy": "2022-05-29T12:41:42.771464Z",
     "iopub.status.idle": "2022-05-29T12:41:44.165610Z",
     "shell.execute_reply": "2022-05-29T12:41:44.164388Z"
    },
    "papermill": {
     "duration": 1.40443,
     "end_time": "2022-05-29T12:41:44.168258",
     "exception": false,
     "start_time": "2022-05-29T12:41:42.763828",
     "status": "completed"
    },
    "tags": []
   },
   "outputs": [
    {
     "name": "stderr",
     "output_type": "stream",
     "text": [
      "/opt/conda/lib/python3.7/site-packages/google/cloud/bigquery/client.py:440: UserWarning: Cannot create BigQuery Storage client, the dependency google-cloud-bigquery-storage is not installed.\n",
      "  \"Cannot create BigQuery Storage client, the dependency \"\n"
     ]
    },
    {
     "name": "stdout",
     "output_type": "stream",
     "text": [
      "   year  num_trips\n",
      "0  2022    1713146\n",
      "1  2021    3948045\n",
      "2  2020    3889032\n",
      "3  2019   16477365\n",
      "4  2018   20732088\n",
      "5  2017   24988003\n",
      "6  2016   31759339\n",
      "7  2015   32385875\n",
      "8  2014   37395436\n",
      "9  2013   27217716\n"
     ]
    },
    {
     "data": {
      "application/javascript": [
       "parent.postMessage({\"jupyterEvent\": \"custom.exercise_interaction\", \"data\": {\"outcomeType\": 1, \"valueTowardsCompletion\": 0.16666666666666666, \"interactionType\": 1, \"questionType\": 2, \"questionId\": \"3_YearDistrib\", \"learnToolsVersion\": \"0.3.4\", \"failureMessage\": \"\", \"exceptionClass\": \"\", \"trace\": \"\"}}, \"*\")"
      ],
      "text/plain": [
       "<IPython.core.display.Javascript object>"
      ]
     },
     "metadata": {},
     "output_type": "display_data"
    },
    {
     "data": {
      "text/markdown": [
       "<span style=\"color:#33cc33\">Correct</span>"
      ],
      "text/plain": [
       "Correct"
      ]
     },
     "metadata": {},
     "output_type": "display_data"
    }
   ],
   "source": [
    "# Your code goes here\n",
    "rides_per_year_query = \"\"\"\n",
    "\n",
    "                    SELECT EXTRACT(YEAR FROM trip_start_timestamp) as year, COUNT(1) as num_trips \n",
    "                    FROM  `bigquery-public-data.chicago_taxi_trips.taxi_trips`\n",
    "                    GROUP BY year\n",
    "                    ORDER BY year DESC\n",
    "\"\"\"\n",
    "\n",
    "# Set up the query (cancel the query if it would use too much of \n",
    "# your quota)\n",
    "safe_config = bigquery.QueryJobConfig(maximum_bytes_billed=10**10)\n",
    "rides_per_year_query_job = client.query(rides_per_year_query,job_config=safe_config) # Your code goes here\n",
    "\n",
    "# API request - run the query, and return a pandas DataFrame\n",
    "rides_per_year_result = rides_per_year_query_job.to_dataframe() # Your code goes here\n",
    "\n",
    "# View results\n",
    "print(rides_per_year_result)\n",
    "\n",
    "\n",
    "\n",
    "# Check your answer\n",
    "q_3.check()"
   ]
  },
  {
   "cell_type": "markdown",
   "id": "ec0ec368",
   "metadata": {
    "papermill": {
     "duration": 0.006423,
     "end_time": "2022-05-29T12:41:44.181496",
     "exception": false,
     "start_time": "2022-05-29T12:41:44.175073",
     "status": "completed"
    },
    "tags": []
   },
   "source": [
    "For a hint or the solution, uncomment the appropriate line below."
   ]
  },
  {
   "cell_type": "code",
   "execution_count": 10,
   "id": "fd4443c3",
   "metadata": {
    "execution": {
     "iopub.execute_input": "2022-05-29T12:41:44.197801Z",
     "iopub.status.busy": "2022-05-29T12:41:44.197422Z",
     "iopub.status.idle": "2022-05-29T12:41:44.201756Z",
     "shell.execute_reply": "2022-05-29T12:41:44.200536Z"
    },
    "papermill": {
     "duration": 0.015802,
     "end_time": "2022-05-29T12:41:44.203906",
     "exception": false,
     "start_time": "2022-05-29T12:41:44.188104",
     "status": "completed"
    },
    "tags": []
   },
   "outputs": [],
   "source": [
    "#q_3.hint()\n",
    "#q_3.solution()"
   ]
  },
  {
   "cell_type": "markdown",
   "id": "460288e7",
   "metadata": {
    "papermill": {
     "duration": 0.006433,
     "end_time": "2022-05-29T12:41:44.218133",
     "exception": false,
     "start_time": "2022-05-29T12:41:44.211700",
     "status": "completed"
    },
    "tags": []
   },
   "source": [
    "### 4) Dive slightly deeper\n",
    "\n",
    "You'd like to take a closer look at rides from 2017.  Copy the query you used above in `rides_per_year_query` into the cell below for `rides_per_month_query`.  Then modify it in two ways:\n",
    "1. Use a **WHERE** clause to limit the query to data from 2017.\n",
    "2. Modify the query to extract the month rather than the year."
   ]
  },
  {
   "cell_type": "code",
   "execution_count": 11,
   "id": "1b91258e",
   "metadata": {
    "execution": {
     "iopub.execute_input": "2022-05-29T12:41:44.236181Z",
     "iopub.status.busy": "2022-05-29T12:41:44.235548Z",
     "iopub.status.idle": "2022-05-29T12:41:45.575094Z",
     "shell.execute_reply": "2022-05-29T12:41:45.573535Z"
    },
    "papermill": {
     "duration": 1.352814,
     "end_time": "2022-05-29T12:41:45.577519",
     "exception": false,
     "start_time": "2022-05-29T12:41:44.224705",
     "status": "completed"
    },
    "tags": []
   },
   "outputs": [
    {
     "name": "stderr",
     "output_type": "stream",
     "text": [
      "/opt/conda/lib/python3.7/site-packages/google/cloud/bigquery/client.py:440: UserWarning: Cannot create BigQuery Storage client, the dependency google-cloud-bigquery-storage is not installed.\n",
      "  \"Cannot create BigQuery Storage client, the dependency \"\n"
     ]
    },
    {
     "name": "stdout",
     "output_type": "stream",
     "text": [
      "    month  num_trips\n",
      "0      12    1767480\n",
      "1      11    1907997\n",
      "2      10    2141197\n",
      "3       9    1950631\n",
      "4       8    2079861\n",
      "5       7    2054299\n",
      "6       6    2324472\n",
      "7       5    2323386\n",
      "8       4    2194702\n",
      "9       3    2362105\n",
      "10      2    1909802\n",
      "11      1    1972071\n"
     ]
    },
    {
     "data": {
      "application/javascript": [
       "parent.postMessage({\"jupyterEvent\": \"custom.exercise_interaction\", \"data\": {\"outcomeType\": 1, \"valueTowardsCompletion\": 0.16666666666666666, \"interactionType\": 1, \"questionType\": 2, \"questionId\": \"4_MonthDistrib\", \"learnToolsVersion\": \"0.3.4\", \"failureMessage\": \"\", \"exceptionClass\": \"\", \"trace\": \"\"}}, \"*\")"
      ],
      "text/plain": [
       "<IPython.core.display.Javascript object>"
      ]
     },
     "metadata": {},
     "output_type": "display_data"
    },
    {
     "data": {
      "text/markdown": [
       "<span style=\"color:#33cc33\">Correct</span>"
      ],
      "text/plain": [
       "Correct"
      ]
     },
     "metadata": {},
     "output_type": "display_data"
    }
   ],
   "source": [
    "# Your code goes here\n",
    "rides_per_month_query = \"\"\"\n",
    " \n",
    "                    SELECT EXTRACT(MONTH FROM trip_start_timestamp) AS month, COUNT(1) AS num_trips \n",
    "                    FROM  `bigquery-public-data.chicago_taxi_trips.taxi_trips`\n",
    "                    WHERE EXTRACT(YEAR FROM trip_start_timestamp)=2017\n",
    "                    GROUP BY month\n",
    "                    ORDER BY month DESC\n",
    "\"\"\"\n",
    "\n",
    "# Set up the query\n",
    "safe_config = bigquery.QueryJobConfig(maximum_bytes_billed=10**10)\n",
    "rides_per_month_query_job = client.query(rides_per_month_query,safe_config) # Your code goes here\n",
    "\n",
    "# API request - run the query, and return a pandas DataFrame\n",
    "rides_per_month_result = rides_per_month_query_job.to_dataframe() # Your code goes here\n",
    "\n",
    "# View results\n",
    "print(rides_per_month_result)\n",
    "\n",
    "# Check your answer\n",
    "q_4.check()"
   ]
  },
  {
   "cell_type": "markdown",
   "id": "189f8539",
   "metadata": {
    "papermill": {
     "duration": 0.008378,
     "end_time": "2022-05-29T12:41:45.593849",
     "exception": false,
     "start_time": "2022-05-29T12:41:45.585471",
     "status": "completed"
    },
    "tags": []
   },
   "source": [
    "For a hint or the solution, uncomment the appropriate line below."
   ]
  },
  {
   "cell_type": "code",
   "execution_count": 12,
   "id": "2f32d7a7",
   "metadata": {
    "execution": {
     "iopub.execute_input": "2022-05-29T12:41:45.611204Z",
     "iopub.status.busy": "2022-05-29T12:41:45.610297Z",
     "iopub.status.idle": "2022-05-29T12:41:45.613812Z",
     "shell.execute_reply": "2022-05-29T12:41:45.613188Z"
    },
    "papermill": {
     "duration": 0.01425,
     "end_time": "2022-05-29T12:41:45.615806",
     "exception": false,
     "start_time": "2022-05-29T12:41:45.601556",
     "status": "completed"
    },
    "tags": []
   },
   "outputs": [],
   "source": [
    "#q_4.hint()\n",
    "#q_4.solution()"
   ]
  },
  {
   "cell_type": "markdown",
   "id": "27d5c67d",
   "metadata": {
    "papermill": {
     "duration": 0.007536,
     "end_time": "2022-05-29T12:41:45.631507",
     "exception": false,
     "start_time": "2022-05-29T12:41:45.623971",
     "status": "completed"
    },
    "tags": []
   },
   "source": [
    "### 5) Write the query\n",
    "\n",
    "It's time to step up the sophistication of your queries.  Write a query that shows, for each hour of the day in the dataset, the corresponding number of trips and average speed.\n",
    "\n",
    "Your results should have three columns:\n",
    "- `hour_of_day` - sort by this column, which holds the result of extracting the hour from `trip_start_timestamp`.\n",
    "- `num_trips` - the count of the total number of trips in each hour of the day (e.g. how many trips were started between 6AM and 7AM, independent of which day it occurred on).\n",
    "- `avg_mph` - the average speed, measured in miles per hour, for trips that started in that hour of the day.  Average speed in miles per hour is calculated as `3600 * SUM(trip_miles) / SUM(trip_seconds)`. (The value 3600 is used to convert from seconds to hours.)\n",
    "\n",
    "Restrict your query to data meeting the following criteria:\n",
    "- a `trip_start_timestamp` between **2017-01-01** and **2017-07-01**\n",
    "- `trip_seconds` > 0 and `trip_miles` > 0\n",
    "\n",
    "You will use a common table expression (CTE) to select just the relevant rides.  Because this dataset is very big, this CTE should select only the columns you'll need to create the final output (though you won't actually create those in the CTE -- instead you'll create those in the later **SELECT** statement below the CTE).\n",
    "\n",
    "This is a much harder query than anything you've written so far.  Good luck!"
   ]
  },
  {
   "cell_type": "code",
   "execution_count": 13,
   "id": "3c281327",
   "metadata": {
    "execution": {
     "iopub.execute_input": "2022-05-29T12:41:45.648182Z",
     "iopub.status.busy": "2022-05-29T12:41:45.647659Z",
     "iopub.status.idle": "2022-05-29T12:41:46.903383Z",
     "shell.execute_reply": "2022-05-29T12:41:46.902464Z"
    },
    "papermill": {
     "duration": 1.266414,
     "end_time": "2022-05-29T12:41:46.905348",
     "exception": false,
     "start_time": "2022-05-29T12:41:45.638934",
     "status": "completed"
    },
    "tags": []
   },
   "outputs": [
    {
     "name": "stderr",
     "output_type": "stream",
     "text": [
      "/opt/conda/lib/python3.7/site-packages/google/cloud/bigquery/client.py:440: UserWarning: Cannot create BigQuery Storage client, the dependency google-cloud-bigquery-storage is not installed.\n",
      "  \"Cannot create BigQuery Storage client, the dependency \"\n"
     ]
    },
    {
     "name": "stdout",
     "output_type": "stream",
     "text": [
      "    hour_of_day  num_trips    avg_mph\n",
      "0             0     319339  20.230524\n",
      "1             1     266529  18.937621\n",
      "2             2     210147  18.777070\n",
      "3             3     159668  20.158048\n",
      "4             4     122183  26.736014\n",
      "5             5     119312  30.769172\n",
      "6             6     182738  24.588313\n",
      "7             7     358406  17.735967\n",
      "8             8     541775  15.079892\n",
      "9             9     565548  16.543882\n",
      "10           10     525120  18.539614\n",
      "11           11     594603  18.928379\n",
      "12           12     622324  17.838745\n",
      "13           13     630181  17.671089\n",
      "14           14     622465  16.974239\n",
      "15           15     640430  15.688418\n",
      "16           16     701435  14.283888\n",
      "17           17     756627  12.462955\n",
      "18           18     768251  13.646810\n",
      "19           19     701064  16.642882\n",
      "20           20     598614  19.536777\n",
      "21           21     552726  20.433874\n",
      "22           22     501095  19.531374\n",
      "23           23     399587  19.877046\n"
     ]
    },
    {
     "data": {
      "application/javascript": [
       "parent.postMessage({\"jupyterEvent\": \"custom.exercise_interaction\", \"data\": {\"outcomeType\": 1, \"valueTowardsCompletion\": 0.16666666666666666, \"interactionType\": 1, \"questionType\": 2, \"questionId\": \"5_TheLongQuery\", \"learnToolsVersion\": \"0.3.4\", \"failureMessage\": \"\", \"exceptionClass\": \"\", \"trace\": \"\"}}, \"*\")"
      ],
      "text/plain": [
       "<IPython.core.display.Javascript object>"
      ]
     },
     "metadata": {},
     "output_type": "display_data"
    },
    {
     "data": {
      "text/markdown": [
       "<span style=\"color:#33cc33\">Correct</span>"
      ],
      "text/plain": [
       "Correct"
      ]
     },
     "metadata": {},
     "output_type": "display_data"
    }
   ],
   "source": [
    "# Your code goes here\n",
    "speeds_query = \"\"\"\n",
    "               WITH RelevantRides AS \n",
    "               (\n",
    "                   SELECT EXTRACT(HOUR FROM trip_start_timestamp) as hour_of_day, trip_miles,trip_seconds\n",
    "                   FROM `bigquery-public-data.chicago_taxi_trips.taxi_trips`\n",
    "                   WHERE trip_start_timestamp > '2017-01-01' AND \n",
    "                        trip_start_timestamp <'2017-07-01' \n",
    "                           AND trip_seconds>0 AND trip_miles>0\n",
    "               )\n",
    "               SELECT hour_of_day, COUNT(1) as num_trips, 3600 * SUM(trip_miles) / SUM(trip_seconds) as avg_mph\n",
    "               FROM RelevantRides\n",
    "               GROUP BY hour_of_day\n",
    "               ORDER BY hour_of_day\n",
    "               \"\"\"\n",
    "\n",
    "# Set up the query\n",
    "safe_config = bigquery.QueryJobConfig(maximum_bytes_billed=10**10)\n",
    "speeds_query_job = client.query(speeds_query,safe_config) # Your code here\n",
    "\n",
    "# API request - run the query, and return a pandas DataFrame\n",
    "speeds_result = speeds_query_job.to_dataframe() # Your code here\n",
    "\n",
    "# View results\n",
    "print(speeds_result)\n",
    "\n",
    "# Check your answer\n",
    "q_5.check()"
   ]
  },
  {
   "cell_type": "markdown",
   "id": "e476c26f",
   "metadata": {
    "papermill": {
     "duration": 0.007418,
     "end_time": "2022-05-29T12:41:46.920216",
     "exception": false,
     "start_time": "2022-05-29T12:41:46.912798",
     "status": "completed"
    },
    "tags": []
   },
   "source": [
    "For the solution, uncomment the appropriate line below."
   ]
  },
  {
   "cell_type": "code",
   "execution_count": 14,
   "id": "701f779d",
   "metadata": {
    "execution": {
     "iopub.execute_input": "2022-05-29T12:41:46.936680Z",
     "iopub.status.busy": "2022-05-29T12:41:46.936060Z",
     "iopub.status.idle": "2022-05-29T12:41:46.944441Z",
     "shell.execute_reply": "2022-05-29T12:41:46.943377Z"
    },
    "papermill": {
     "duration": 0.018721,
     "end_time": "2022-05-29T12:41:46.946332",
     "exception": false,
     "start_time": "2022-05-29T12:41:46.927611",
     "status": "completed"
    },
    "tags": []
   },
   "outputs": [
    {
     "data": {
      "application/javascript": [
       "parent.postMessage({\"jupyterEvent\": \"custom.exercise_interaction\", \"data\": {\"interactionType\": 3, \"questionType\": 2, \"questionId\": \"5_TheLongQuery\", \"learnToolsVersion\": \"0.3.4\", \"valueTowardsCompletion\": 0.0, \"failureMessage\": \"\", \"exceptionClass\": \"\", \"trace\": \"\", \"outcomeType\": 4}}, \"*\")"
      ],
      "text/plain": [
       "<IPython.core.display.Javascript object>"
      ]
     },
     "metadata": {},
     "output_type": "display_data"
    },
    {
     "data": {
      "text/markdown": [
       "<span style=\"color:#33cc99\">Solution:</span> \n",
       "```python\n",
       "\n",
       "speeds_query = \"\"\"\n",
       "               WITH RelevantRides AS\n",
       "               (\n",
       "                   SELECT EXTRACT(HOUR FROM trip_start_timestamp) AS hour_of_day, \n",
       "                          trip_miles, \n",
       "                          trip_seconds\n",
       "                   FROM `bigquery-public-data.chicago_taxi_trips.taxi_trips`\n",
       "                   WHERE trip_start_timestamp > '2017-01-01' AND \n",
       "                         trip_start_timestamp < '2017-07-01' AND \n",
       "                         trip_seconds > 0 AND \n",
       "                         trip_miles > 0\n",
       "               )\n",
       "               SELECT hour_of_day, \n",
       "                      COUNT(1) AS num_trips, \n",
       "                      3600 * SUM(trip_miles) / SUM(trip_seconds) AS avg_mph\n",
       "               FROM RelevantRides\n",
       "               GROUP BY hour_of_day\n",
       "               ORDER BY hour_of_day\n",
       "               \"\"\"\n",
       "\n",
       "# Set up the query (cancel the query if it would use too much of \n",
       "# your quota)\n",
       "safe_config = bigquery.QueryJobConfig(maximum_bytes_billed=10**10)\n",
       "speeds_query_job = client.query(speeds_query, job_config=safe_config)\n",
       "\n",
       "# API request - run the query, and return a pandas DataFrame\n",
       "speeds_result = speeds_query_job.to_dataframe()\n",
       "\n",
       "# View results\n",
       "print(speeds_result)\n",
       "\n",
       "```"
      ],
      "text/plain": [
       "Solution: \n",
       "```python\n",
       "\n",
       "speeds_query = \"\"\"\n",
       "               WITH RelevantRides AS\n",
       "               (\n",
       "                   SELECT EXTRACT(HOUR FROM trip_start_timestamp) AS hour_of_day, \n",
       "                          trip_miles, \n",
       "                          trip_seconds\n",
       "                   FROM `bigquery-public-data.chicago_taxi_trips.taxi_trips`\n",
       "                   WHERE trip_start_timestamp > '2017-01-01' AND \n",
       "                         trip_start_timestamp < '2017-07-01' AND \n",
       "                         trip_seconds > 0 AND \n",
       "                         trip_miles > 0\n",
       "               )\n",
       "               SELECT hour_of_day, \n",
       "                      COUNT(1) AS num_trips, \n",
       "                      3600 * SUM(trip_miles) / SUM(trip_seconds) AS avg_mph\n",
       "               FROM RelevantRides\n",
       "               GROUP BY hour_of_day\n",
       "               ORDER BY hour_of_day\n",
       "               \"\"\"\n",
       "\n",
       "# Set up the query (cancel the query if it would use too much of \n",
       "# your quota)\n",
       "safe_config = bigquery.QueryJobConfig(maximum_bytes_billed=10**10)\n",
       "speeds_query_job = client.query(speeds_query, job_config=safe_config)\n",
       "\n",
       "# API request - run the query, and return a pandas DataFrame\n",
       "speeds_result = speeds_query_job.to_dataframe()\n",
       "\n",
       "# View results\n",
       "print(speeds_result)\n",
       "\n",
       "```"
      ]
     },
     "metadata": {},
     "output_type": "display_data"
    }
   ],
   "source": [
    "q_5.solution()"
   ]
  },
  {
   "cell_type": "markdown",
   "id": "40f1e341",
   "metadata": {
    "papermill": {
     "duration": 0.007308,
     "end_time": "2022-05-29T12:41:46.961158",
     "exception": false,
     "start_time": "2022-05-29T12:41:46.953850",
     "status": "completed"
    },
    "tags": []
   },
   "source": [
    "That's a hard query. If you made good progress towards the solution, congratulations!"
   ]
  },
  {
   "cell_type": "markdown",
   "id": "3d7661d2",
   "metadata": {
    "papermill": {
     "duration": 0.007334,
     "end_time": "2022-05-29T12:41:46.976221",
     "exception": false,
     "start_time": "2022-05-29T12:41:46.968887",
     "status": "completed"
    },
    "tags": []
   },
   "source": [
    "# Keep going\n",
    "\n",
    "You can write very complex queries now with a single data source. But nothing expands the horizons of SQL as much as the ability to combine or **JOIN** tables.\n",
    "\n",
    "**[Click here](https://www.kaggle.com/dansbecker/joining-data)** to start the last lesson in the Intro to SQL micro-course."
   ]
  },
  {
   "cell_type": "markdown",
   "id": "61eb1faf",
   "metadata": {
    "papermill": {
     "duration": 0.007518,
     "end_time": "2022-05-29T12:41:46.991264",
     "exception": false,
     "start_time": "2022-05-29T12:41:46.983746",
     "status": "completed"
    },
    "tags": []
   },
   "source": [
    "---\n",
    "\n",
    "\n",
    "\n",
    "\n",
    "*Have questions or comments? Visit the [course discussion forum](https://www.kaggle.com/learn/intro-to-sql/discussion) to chat with other learners.*"
   ]
  }
 ],
 "metadata": {
  "kernelspec": {
   "display_name": "Python 3",
   "language": "python",
   "name": "python3"
  },
  "language_info": {
   "codemirror_mode": {
    "name": "ipython",
    "version": 3
   },
   "file_extension": ".py",
   "mimetype": "text/x-python",
   "name": "python",
   "nbconvert_exporter": "python",
   "pygments_lexer": "ipython3",
   "version": "3.7.12"
  },
  "papermill": {
   "default_parameters": {},
   "duration": 21.463003,
   "end_time": "2022-05-29T12:41:47.622156",
   "environment_variables": {},
   "exception": null,
   "input_path": "__notebook__.ipynb",
   "output_path": "__notebook__.ipynb",
   "parameters": {},
   "start_time": "2022-05-29T12:41:26.159153",
   "version": "2.3.4"
  }
 },
 "nbformat": 4,
 "nbformat_minor": 5
}

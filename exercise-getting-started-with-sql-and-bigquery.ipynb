{
 "cells": [
  {
   "cell_type": "markdown",
   "id": "6b352253",
   "metadata": {
    "papermill": {
     "duration": 0.020972,
     "end_time": "2022-05-19T10:05:43.698934",
     "exception": false,
     "start_time": "2022-05-19T10:05:43.677962",
     "status": "completed"
    },
    "tags": []
   },
   "source": [
    "**This notebook is an exercise in the [SQL](https://www.kaggle.com/learn/intro-to-sql) course.  You can reference the tutorial at [this link](https://www.kaggle.com/dansbecker/getting-started-with-sql-and-bigquery).**\n",
    "\n",
    "---\n"
   ]
  },
  {
   "cell_type": "markdown",
   "id": "dbae4112",
   "metadata": {
    "papermill": {
     "duration": 0.019167,
     "end_time": "2022-05-19T10:05:43.737752",
     "exception": false,
     "start_time": "2022-05-19T10:05:43.718585",
     "status": "completed"
    },
    "tags": []
   },
   "source": [
    "# Introduction\n",
    "\n",
    "The first test of your new data exploration skills uses data describing crime in the city of Chicago.\n",
    "\n",
    "Before you get started, run the following cell. It sets up the automated feedback system to review your answers."
   ]
  },
  {
   "cell_type": "code",
   "execution_count": 1,
   "id": "4721c0df",
   "metadata": {
    "execution": {
     "iopub.execute_input": "2022-05-19T10:05:43.781316Z",
     "iopub.status.busy": "2022-05-19T10:05:43.780557Z",
     "iopub.status.idle": "2022-05-19T10:05:44.646069Z",
     "shell.execute_reply": "2022-05-19T10:05:44.645017Z"
    },
    "papermill": {
     "duration": 0.889918,
     "end_time": "2022-05-19T10:05:44.648494",
     "exception": false,
     "start_time": "2022-05-19T10:05:43.758576",
     "status": "completed"
    },
    "tags": []
   },
   "outputs": [
    {
     "name": "stdout",
     "output_type": "stream",
     "text": [
      "Using Kaggle's public dataset BigQuery integration.\n",
      "Setup Complete\n"
     ]
    }
   ],
   "source": [
    "# Set up feedack system\n",
    "from learntools.core import binder\n",
    "binder.bind(globals())\n",
    "from learntools.sql.ex1 import *\n",
    "print(\"Setup Complete\")"
   ]
  },
  {
   "cell_type": "markdown",
   "id": "055bdd52",
   "metadata": {
    "papermill": {
     "duration": 0.020299,
     "end_time": "2022-05-19T10:05:44.690671",
     "exception": false,
     "start_time": "2022-05-19T10:05:44.670372",
     "status": "completed"
    },
    "tags": []
   },
   "source": [
    "Use the next code cell to fetch the dataset."
   ]
  },
  {
   "cell_type": "code",
   "execution_count": 2,
   "id": "0dfa6da2",
   "metadata": {
    "execution": {
     "iopub.execute_input": "2022-05-19T10:05:44.733303Z",
     "iopub.status.busy": "2022-05-19T10:05:44.732583Z",
     "iopub.status.idle": "2022-05-19T10:05:45.072152Z",
     "shell.execute_reply": "2022-05-19T10:05:45.071096Z"
    },
    "papermill": {
     "duration": 0.363512,
     "end_time": "2022-05-19T10:05:45.074462",
     "exception": false,
     "start_time": "2022-05-19T10:05:44.710950",
     "status": "completed"
    },
    "tags": []
   },
   "outputs": [
    {
     "name": "stdout",
     "output_type": "stream",
     "text": [
      "Using Kaggle's public dataset BigQuery integration.\n"
     ]
    }
   ],
   "source": [
    "from google.cloud import bigquery\n",
    "\n",
    "# Create a \"Client\" object\n",
    "client = bigquery.Client()\n",
    "\n",
    "# Construct a reference to the \"chicago_crime\" dataset\n",
    "dataset_ref = client.dataset(\"chicago_crime\", project=\"bigquery-public-data\")\n",
    "\n",
    "# API request - fetch the dataset\n",
    "dataset = client.get_dataset(dataset_ref)"
   ]
  },
  {
   "cell_type": "markdown",
   "id": "82b1e936",
   "metadata": {
    "papermill": {
     "duration": 0.020433,
     "end_time": "2022-05-19T10:05:45.116184",
     "exception": false,
     "start_time": "2022-05-19T10:05:45.095751",
     "status": "completed"
    },
    "tags": []
   },
   "source": [
    "# Exercises\n",
    "\n",
    "### 1) Count tables in the dataset\n",
    "\n",
    "How many tables are in the Chicago Crime dataset?"
   ]
  },
  {
   "cell_type": "code",
   "execution_count": 3,
   "id": "9cb37715",
   "metadata": {
    "execution": {
     "iopub.execute_input": "2022-05-19T10:05:45.159188Z",
     "iopub.status.busy": "2022-05-19T10:05:45.158911Z",
     "iopub.status.idle": "2022-05-19T10:05:45.378384Z",
     "shell.execute_reply": "2022-05-19T10:05:45.377050Z"
    },
    "papermill": {
     "duration": 0.244422,
     "end_time": "2022-05-19T10:05:45.381495",
     "exception": false,
     "start_time": "2022-05-19T10:05:45.137073",
     "status": "completed"
    },
    "tags": []
   },
   "outputs": [
    {
     "name": "stdout",
     "output_type": "stream",
     "text": [
      "crime\n"
     ]
    }
   ],
   "source": [
    "# Write the code you need here to figure out the answer\n",
    "tables=list(client.list_tables(dataset))\n",
    "for table in tables:\n",
    "    print(table.table_id)"
   ]
  },
  {
   "cell_type": "code",
   "execution_count": 4,
   "id": "97deea88",
   "metadata": {
    "execution": {
     "iopub.execute_input": "2022-05-19T10:05:45.427483Z",
     "iopub.status.busy": "2022-05-19T10:05:45.426764Z",
     "iopub.status.idle": "2022-05-19T10:05:45.437251Z",
     "shell.execute_reply": "2022-05-19T10:05:45.436432Z"
    },
    "papermill": {
     "duration": 0.035117,
     "end_time": "2022-05-19T10:05:45.439171",
     "exception": false,
     "start_time": "2022-05-19T10:05:45.404054",
     "status": "completed"
    },
    "tags": []
   },
   "outputs": [
    {
     "data": {
      "application/javascript": [
       "parent.postMessage({\"jupyterEvent\": \"custom.exercise_interaction\", \"data\": {\"outcomeType\": 1, \"valueTowardsCompletion\": 0.3333333333333333, \"interactionType\": 1, \"questionType\": 1, \"questionId\": \"1_CountTables\", \"learnToolsVersion\": \"0.3.4\", \"failureMessage\": \"\", \"exceptionClass\": \"\", \"trace\": \"\"}}, \"*\")"
      ],
      "text/plain": [
       "<IPython.core.display.Javascript object>"
      ]
     },
     "metadata": {},
     "output_type": "display_data"
    },
    {
     "data": {
      "text/markdown": [
       "<span style=\"color:#33cc33\">Correct</span>"
      ],
      "text/plain": [
       "Correct"
      ]
     },
     "metadata": {},
     "output_type": "display_data"
    }
   ],
   "source": [
    "num_tables = 1  # Store the answer as num_tables and then run this cell\n",
    "\n",
    "# Check your answer\n",
    "q_1.check()"
   ]
  },
  {
   "cell_type": "markdown",
   "id": "f2461a1c",
   "metadata": {
    "papermill": {
     "duration": 0.02529,
     "end_time": "2022-05-19T10:05:45.486692",
     "exception": false,
     "start_time": "2022-05-19T10:05:45.461402",
     "status": "completed"
    },
    "tags": []
   },
   "source": [
    "For a hint or the solution, uncomment the appropriate line below."
   ]
  },
  {
   "cell_type": "code",
   "execution_count": 5,
   "id": "6d75a30e",
   "metadata": {
    "execution": {
     "iopub.execute_input": "2022-05-19T10:05:45.534447Z",
     "iopub.status.busy": "2022-05-19T10:05:45.533724Z",
     "iopub.status.idle": "2022-05-19T10:05:45.536820Z",
     "shell.execute_reply": "2022-05-19T10:05:45.536285Z"
    },
    "papermill": {
     "duration": 0.028676,
     "end_time": "2022-05-19T10:05:45.538494",
     "exception": false,
     "start_time": "2022-05-19T10:05:45.509818",
     "status": "completed"
    },
    "tags": []
   },
   "outputs": [],
   "source": [
    "#q_1.hint()\n",
    "#q_1.solution()"
   ]
  },
  {
   "cell_type": "markdown",
   "id": "8b0388b0",
   "metadata": {
    "papermill": {
     "duration": 0.022221,
     "end_time": "2022-05-19T10:05:45.583352",
     "exception": false,
     "start_time": "2022-05-19T10:05:45.561131",
     "status": "completed"
    },
    "tags": []
   },
   "source": [
    "### 2) Explore the table schema\n",
    "\n",
    "How many columns in the `crime` table have `TIMESTAMP` data?"
   ]
  },
  {
   "cell_type": "code",
   "execution_count": 6,
   "id": "af5cd821",
   "metadata": {
    "execution": {
     "iopub.execute_input": "2022-05-19T10:05:45.630636Z",
     "iopub.status.busy": "2022-05-19T10:05:45.630098Z",
     "iopub.status.idle": "2022-05-19T10:05:45.825583Z",
     "shell.execute_reply": "2022-05-19T10:05:45.824695Z"
    },
    "papermill": {
     "duration": 0.221434,
     "end_time": "2022-05-19T10:05:45.827662",
     "exception": false,
     "start_time": "2022-05-19T10:05:45.606228",
     "status": "completed"
    },
    "tags": []
   },
   "outputs": [
    {
     "data": {
      "text/plain": [
       "[SchemaField('unique_key', 'INTEGER', 'REQUIRED', None, (), None),\n",
       " SchemaField('case_number', 'STRING', 'NULLABLE', None, (), None),\n",
       " SchemaField('date', 'TIMESTAMP', 'NULLABLE', None, (), None),\n",
       " SchemaField('block', 'STRING', 'NULLABLE', None, (), None),\n",
       " SchemaField('iucr', 'STRING', 'NULLABLE', None, (), None),\n",
       " SchemaField('primary_type', 'STRING', 'NULLABLE', None, (), None),\n",
       " SchemaField('description', 'STRING', 'NULLABLE', None, (), None),\n",
       " SchemaField('location_description', 'STRING', 'NULLABLE', None, (), None),\n",
       " SchemaField('arrest', 'BOOLEAN', 'NULLABLE', None, (), None),\n",
       " SchemaField('domestic', 'BOOLEAN', 'NULLABLE', None, (), None),\n",
       " SchemaField('beat', 'INTEGER', 'NULLABLE', None, (), None),\n",
       " SchemaField('district', 'INTEGER', 'NULLABLE', None, (), None),\n",
       " SchemaField('ward', 'INTEGER', 'NULLABLE', None, (), None),\n",
       " SchemaField('community_area', 'INTEGER', 'NULLABLE', None, (), None),\n",
       " SchemaField('fbi_code', 'STRING', 'NULLABLE', None, (), None),\n",
       " SchemaField('x_coordinate', 'FLOAT', 'NULLABLE', None, (), None),\n",
       " SchemaField('y_coordinate', 'FLOAT', 'NULLABLE', None, (), None),\n",
       " SchemaField('year', 'INTEGER', 'NULLABLE', None, (), None),\n",
       " SchemaField('updated_on', 'TIMESTAMP', 'NULLABLE', None, (), None),\n",
       " SchemaField('latitude', 'FLOAT', 'NULLABLE', None, (), None),\n",
       " SchemaField('longitude', 'FLOAT', 'NULLABLE', None, (), None),\n",
       " SchemaField('location', 'STRING', 'NULLABLE', None, (), None)]"
      ]
     },
     "execution_count": 6,
     "metadata": {},
     "output_type": "execute_result"
    }
   ],
   "source": [
    "\n",
    "# Write the code to figure out the answer\n",
    "\n",
    "# Construct a reference to the \"full\" table\n",
    "table_ref = dataset_ref.table(\"crime\")\n",
    "\n",
    "# API request - fetch the table\n",
    "table = client.get_table(table_ref)\n",
    "\n",
    "table.schema"
   ]
  },
  {
   "cell_type": "code",
   "execution_count": 7,
   "id": "566dd0e7",
   "metadata": {
    "execution": {
     "iopub.execute_input": "2022-05-19T10:05:45.875364Z",
     "iopub.status.busy": "2022-05-19T10:05:45.874829Z",
     "iopub.status.idle": "2022-05-19T10:05:45.880664Z",
     "shell.execute_reply": "2022-05-19T10:05:45.880141Z"
    },
    "papermill": {
     "duration": 0.031647,
     "end_time": "2022-05-19T10:05:45.882390",
     "exception": false,
     "start_time": "2022-05-19T10:05:45.850743",
     "status": "completed"
    },
    "tags": []
   },
   "outputs": [
    {
     "data": {
      "application/javascript": [
       "parent.postMessage({\"jupyterEvent\": \"custom.exercise_interaction\", \"data\": {\"outcomeType\": 1, \"valueTowardsCompletion\": 0.3333333333333333, \"interactionType\": 1, \"questionType\": 1, \"questionId\": \"2_CountTimestampFields\", \"learnToolsVersion\": \"0.3.4\", \"failureMessage\": \"\", \"exceptionClass\": \"\", \"trace\": \"\"}}, \"*\")"
      ],
      "text/plain": [
       "<IPython.core.display.Javascript object>"
      ]
     },
     "metadata": {},
     "output_type": "display_data"
    },
    {
     "data": {
      "text/markdown": [
       "<span style=\"color:#33cc33\">Correct</span>"
      ],
      "text/plain": [
       "Correct"
      ]
     },
     "metadata": {},
     "output_type": "display_data"
    }
   ],
   "source": [
    " num_timestamp_fields = 2 # Put your answer here\n",
    "\n",
    "# Check your answer\n",
    "q_2.check()"
   ]
  },
  {
   "cell_type": "markdown",
   "id": "fb6d885b",
   "metadata": {
    "papermill": {
     "duration": 0.024317,
     "end_time": "2022-05-19T10:05:45.930986",
     "exception": false,
     "start_time": "2022-05-19T10:05:45.906669",
     "status": "completed"
    },
    "tags": []
   },
   "source": [
    "For a hint or the solution, uncomment the appropriate line below."
   ]
  },
  {
   "cell_type": "code",
   "execution_count": 8,
   "id": "14198b0e",
   "metadata": {
    "execution": {
     "iopub.execute_input": "2022-05-19T10:05:45.980864Z",
     "iopub.status.busy": "2022-05-19T10:05:45.980332Z",
     "iopub.status.idle": "2022-05-19T10:05:45.983368Z",
     "shell.execute_reply": "2022-05-19T10:05:45.982676Z"
    },
    "papermill": {
     "duration": 0.030048,
     "end_time": "2022-05-19T10:05:45.985231",
     "exception": false,
     "start_time": "2022-05-19T10:05:45.955183",
     "status": "completed"
    },
    "tags": []
   },
   "outputs": [],
   "source": [
    "#q_2.hint()\n",
    "#q_2.solution()"
   ]
  },
  {
   "cell_type": "markdown",
   "id": "b32f0676",
   "metadata": {
    "papermill": {
     "duration": 0.024419,
     "end_time": "2022-05-19T10:05:46.034567",
     "exception": false,
     "start_time": "2022-05-19T10:05:46.010148",
     "status": "completed"
    },
    "tags": []
   },
   "source": [
    "### 3) Create a crime map\n",
    "\n",
    "If you wanted to create a map with a dot at the location of each crime, what are the names of the two fields you likely need to pull out of the `crime` table to plot the crimes on a map?"
   ]
  },
  {
   "cell_type": "code",
   "execution_count": 9,
   "id": "5970d1a8",
   "metadata": {
    "execution": {
     "iopub.execute_input": "2022-05-19T10:05:46.085495Z",
     "iopub.status.busy": "2022-05-19T10:05:46.085002Z",
     "iopub.status.idle": "2022-05-19T10:05:46.890420Z",
     "shell.execute_reply": "2022-05-19T10:05:46.889844Z"
    },
    "papermill": {
     "duration": 0.833368,
     "end_time": "2022-05-19T10:05:46.892239",
     "exception": false,
     "start_time": "2022-05-19T10:05:46.058871",
     "status": "completed"
    },
    "tags": []
   },
   "outputs": [
    {
     "name": "stderr",
     "output_type": "stream",
     "text": [
      "/opt/conda/lib/python3.7/site-packages/ipykernel_launcher.py:2: UserWarning: Cannot use bqstorage_client if max_results is set, reverting to fetching data with the tabledata.list endpoint.\n",
      "  \n"
     ]
    },
    {
     "data": {
      "text/html": [
       "<div>\n",
       "<style scoped>\n",
       "    .dataframe tbody tr th:only-of-type {\n",
       "        vertical-align: middle;\n",
       "    }\n",
       "\n",
       "    .dataframe tbody tr th {\n",
       "        vertical-align: top;\n",
       "    }\n",
       "\n",
       "    .dataframe thead th {\n",
       "        text-align: right;\n",
       "    }\n",
       "</style>\n",
       "<table border=\"1\" class=\"dataframe\">\n",
       "  <thead>\n",
       "    <tr style=\"text-align: right;\">\n",
       "      <th></th>\n",
       "      <th>unique_key</th>\n",
       "      <th>case_number</th>\n",
       "      <th>date</th>\n",
       "      <th>block</th>\n",
       "      <th>iucr</th>\n",
       "      <th>primary_type</th>\n",
       "      <th>description</th>\n",
       "      <th>location_description</th>\n",
       "      <th>arrest</th>\n",
       "      <th>domestic</th>\n",
       "      <th>...</th>\n",
       "      <th>ward</th>\n",
       "      <th>community_area</th>\n",
       "      <th>fbi_code</th>\n",
       "      <th>x_coordinate</th>\n",
       "      <th>y_coordinate</th>\n",
       "      <th>year</th>\n",
       "      <th>updated_on</th>\n",
       "      <th>latitude</th>\n",
       "      <th>longitude</th>\n",
       "      <th>location</th>\n",
       "    </tr>\n",
       "  </thead>\n",
       "  <tbody>\n",
       "    <tr>\n",
       "      <th>0</th>\n",
       "      <td>9372059</td>\n",
       "      <td>HW514638</td>\n",
       "      <td>2013-10-24 03:35:00+00:00</td>\n",
       "      <td>008XX E 133RD PL</td>\n",
       "      <td>0545</td>\n",
       "      <td>ASSAULT</td>\n",
       "      <td>PRO EMP HANDS NO/MIN INJURY</td>\n",
       "      <td>SCHOOL, PUBLIC, BUILDING</td>\n",
       "      <td>False</td>\n",
       "      <td>False</td>\n",
       "      <td>...</td>\n",
       "      <td>9</td>\n",
       "      <td>54</td>\n",
       "      <td>08A</td>\n",
       "      <td>1184246.0</td>\n",
       "      <td>1817115.0</td>\n",
       "      <td>2013</td>\n",
       "      <td>2018-02-10 03:50:01+00:00</td>\n",
       "      <td>41.653330</td>\n",
       "      <td>-87.601508</td>\n",
       "      <td>(41.653330429, -87.6015084)</td>\n",
       "    </tr>\n",
       "    <tr>\n",
       "      <th>1</th>\n",
       "      <td>9515612</td>\n",
       "      <td>HX171457</td>\n",
       "      <td>2014-03-03 09:15:00+00:00</td>\n",
       "      <td>058XX N NORTHWEST HWY</td>\n",
       "      <td>2017</td>\n",
       "      <td>NARCOTICS</td>\n",
       "      <td>MANU/DELIVER:CRACK</td>\n",
       "      <td>STREET</td>\n",
       "      <td>True</td>\n",
       "      <td>False</td>\n",
       "      <td>...</td>\n",
       "      <td>41</td>\n",
       "      <td>10</td>\n",
       "      <td>18</td>\n",
       "      <td>1131855.0</td>\n",
       "      <td>1938490.0</td>\n",
       "      <td>2014</td>\n",
       "      <td>2018-02-10 03:50:01+00:00</td>\n",
       "      <td>41.987465</td>\n",
       "      <td>-87.790401</td>\n",
       "      <td>(41.987464919, -87.790401455)</td>\n",
       "    </tr>\n",
       "    <tr>\n",
       "      <th>2</th>\n",
       "      <td>9541949</td>\n",
       "      <td>HX195429</td>\n",
       "      <td>2014-03-23 02:20:00+00:00</td>\n",
       "      <td>051XX S WENTWORTH AVE</td>\n",
       "      <td>0454</td>\n",
       "      <td>BATTERY</td>\n",
       "      <td>AGG PO HANDS NO/MIN INJURY</td>\n",
       "      <td>POLICE FACILITY/VEH PARKING LOT</td>\n",
       "      <td>True</td>\n",
       "      <td>False</td>\n",
       "      <td>...</td>\n",
       "      <td>3</td>\n",
       "      <td>37</td>\n",
       "      <td>08B</td>\n",
       "      <td>1175826.0</td>\n",
       "      <td>1871120.0</td>\n",
       "      <td>2014</td>\n",
       "      <td>2018-02-10 03:50:01+00:00</td>\n",
       "      <td>41.801719</td>\n",
       "      <td>-87.630704</td>\n",
       "      <td>(41.80171934, -87.630703621)</td>\n",
       "    </tr>\n",
       "    <tr>\n",
       "      <th>3</th>\n",
       "      <td>9464392</td>\n",
       "      <td>HX115914</td>\n",
       "      <td>2014-01-15 06:30:00+00:00</td>\n",
       "      <td>061XX N LINCOLN AVE</td>\n",
       "      <td>2250</td>\n",
       "      <td>LIQUOR LAW VIOLATION</td>\n",
       "      <td>LIQUOR LICENSE VIOLATION</td>\n",
       "      <td>RESTAURANT</td>\n",
       "      <td>True</td>\n",
       "      <td>False</td>\n",
       "      <td>...</td>\n",
       "      <td>50</td>\n",
       "      <td>13</td>\n",
       "      <td>22</td>\n",
       "      <td>1153130.0</td>\n",
       "      <td>1940756.0</td>\n",
       "      <td>2014</td>\n",
       "      <td>2016-02-04 06:33:39+00:00</td>\n",
       "      <td>41.993286</td>\n",
       "      <td>-87.712090</td>\n",
       "      <td>(41.99328618, -87.712089846)</td>\n",
       "    </tr>\n",
       "    <tr>\n",
       "      <th>4</th>\n",
       "      <td>9467197</td>\n",
       "      <td>HX111531</td>\n",
       "      <td>2014-01-12 10:00:00+00:00</td>\n",
       "      <td>037XX S WENTWORTH AVE</td>\n",
       "      <td>1121</td>\n",
       "      <td>DECEPTIVE PRACTICE</td>\n",
       "      <td>COUNTERFEITING DOCUMENT</td>\n",
       "      <td>STREET</td>\n",
       "      <td>False</td>\n",
       "      <td>False</td>\n",
       "      <td>...</td>\n",
       "      <td>3</td>\n",
       "      <td>34</td>\n",
       "      <td>10</td>\n",
       "      <td>1175560.0</td>\n",
       "      <td>1880204.0</td>\n",
       "      <td>2014</td>\n",
       "      <td>2016-02-04 06:33:39+00:00</td>\n",
       "      <td>41.826653</td>\n",
       "      <td>-87.631407</td>\n",
       "      <td>(41.826652627, -87.631407018)</td>\n",
       "    </tr>\n",
       "  </tbody>\n",
       "</table>\n",
       "<p>5 rows × 22 columns</p>\n",
       "</div>"
      ],
      "text/plain": [
       "   unique_key case_number                      date                  block  \\\n",
       "0     9372059    HW514638 2013-10-24 03:35:00+00:00       008XX E 133RD PL   \n",
       "1     9515612    HX171457 2014-03-03 09:15:00+00:00  058XX N NORTHWEST HWY   \n",
       "2     9541949    HX195429 2014-03-23 02:20:00+00:00  051XX S WENTWORTH AVE   \n",
       "3     9464392    HX115914 2014-01-15 06:30:00+00:00    061XX N LINCOLN AVE   \n",
       "4     9467197    HX111531 2014-01-12 10:00:00+00:00  037XX S WENTWORTH AVE   \n",
       "\n",
       "   iucr          primary_type                  description  \\\n",
       "0  0545               ASSAULT  PRO EMP HANDS NO/MIN INJURY   \n",
       "1  2017             NARCOTICS           MANU/DELIVER:CRACK   \n",
       "2  0454               BATTERY   AGG PO HANDS NO/MIN INJURY   \n",
       "3  2250  LIQUOR LAW VIOLATION     LIQUOR LICENSE VIOLATION   \n",
       "4  1121    DECEPTIVE PRACTICE      COUNTERFEITING DOCUMENT   \n",
       "\n",
       "              location_description  arrest  domestic  ...  ward  \\\n",
       "0         SCHOOL, PUBLIC, BUILDING   False     False  ...     9   \n",
       "1                           STREET    True     False  ...    41   \n",
       "2  POLICE FACILITY/VEH PARKING LOT    True     False  ...     3   \n",
       "3                       RESTAURANT    True     False  ...    50   \n",
       "4                           STREET   False     False  ...     3   \n",
       "\n",
       "   community_area  fbi_code  x_coordinate y_coordinate  year  \\\n",
       "0              54       08A     1184246.0    1817115.0  2013   \n",
       "1              10        18     1131855.0    1938490.0  2014   \n",
       "2              37       08B     1175826.0    1871120.0  2014   \n",
       "3              13        22     1153130.0    1940756.0  2014   \n",
       "4              34        10     1175560.0    1880204.0  2014   \n",
       "\n",
       "                 updated_on   latitude  longitude  \\\n",
       "0 2018-02-10 03:50:01+00:00  41.653330 -87.601508   \n",
       "1 2018-02-10 03:50:01+00:00  41.987465 -87.790401   \n",
       "2 2018-02-10 03:50:01+00:00  41.801719 -87.630704   \n",
       "3 2016-02-04 06:33:39+00:00  41.993286 -87.712090   \n",
       "4 2016-02-04 06:33:39+00:00  41.826653 -87.631407   \n",
       "\n",
       "                        location  \n",
       "0    (41.653330429, -87.6015084)  \n",
       "1  (41.987464919, -87.790401455)  \n",
       "2   (41.80171934, -87.630703621)  \n",
       "3   (41.99328618, -87.712089846)  \n",
       "4  (41.826652627, -87.631407018)  \n",
       "\n",
       "[5 rows x 22 columns]"
      ]
     },
     "execution_count": 9,
     "metadata": {},
     "output_type": "execute_result"
    }
   ],
   "source": [
    "# Write the code here to explore the data so you can find the answer\n",
    "client.list_rows(table, max_results=5).to_dataframe()"
   ]
  },
  {
   "cell_type": "code",
   "execution_count": 10,
   "id": "a9477f69",
   "metadata": {
    "execution": {
     "iopub.execute_input": "2022-05-19T10:05:46.944513Z",
     "iopub.status.busy": "2022-05-19T10:05:46.944008Z",
     "iopub.status.idle": "2022-05-19T10:05:46.950625Z",
     "shell.execute_reply": "2022-05-19T10:05:46.949956Z"
    },
    "papermill": {
     "duration": 0.034923,
     "end_time": "2022-05-19T10:05:46.952472",
     "exception": false,
     "start_time": "2022-05-19T10:05:46.917549",
     "status": "completed"
    },
    "tags": []
   },
   "outputs": [
    {
     "data": {
      "application/javascript": [
       "parent.postMessage({\"jupyterEvent\": \"custom.exercise_interaction\", \"data\": {\"outcomeType\": 1, \"valueTowardsCompletion\": 0.3333333333333333, \"interactionType\": 1, \"questionType\": 2, \"questionId\": \"3_IdentifyFieldsForPlotting\", \"learnToolsVersion\": \"0.3.4\", \"failureMessage\": \"\", \"exceptionClass\": \"\", \"trace\": \"\"}}, \"*\")"
      ],
      "text/plain": [
       "<IPython.core.display.Javascript object>"
      ]
     },
     "metadata": {},
     "output_type": "display_data"
    },
    {
     "data": {
      "text/markdown": [
       "<span style=\"color:#33cc33\">Correct</span>"
      ],
      "text/plain": [
       "Correct"
      ]
     },
     "metadata": {},
     "output_type": "display_data"
    }
   ],
   "source": [
    "fields_for_plotting = ['latitude', 'longitude'] # Put your answers here\n",
    "\n",
    "# Check your answer\n",
    "q_3.check()"
   ]
  },
  {
   "cell_type": "markdown",
   "id": "1c66024d",
   "metadata": {
    "papermill": {
     "duration": 0.025755,
     "end_time": "2022-05-19T10:05:47.004484",
     "exception": false,
     "start_time": "2022-05-19T10:05:46.978729",
     "status": "completed"
    },
    "tags": []
   },
   "source": [
    "For a hint or the solution, uncomment the appropriate line below."
   ]
  },
  {
   "cell_type": "code",
   "execution_count": 11,
   "id": "18a78459",
   "metadata": {
    "execution": {
     "iopub.execute_input": "2022-05-19T10:05:47.059454Z",
     "iopub.status.busy": "2022-05-19T10:05:47.058736Z",
     "iopub.status.idle": "2022-05-19T10:05:47.064398Z",
     "shell.execute_reply": "2022-05-19T10:05:47.063853Z"
    },
    "papermill": {
     "duration": 0.035193,
     "end_time": "2022-05-19T10:05:47.066154",
     "exception": false,
     "start_time": "2022-05-19T10:05:47.030961",
     "status": "completed"
    },
    "tags": []
   },
   "outputs": [
    {
     "data": {
      "application/javascript": [
       "parent.postMessage({\"jupyterEvent\": \"custom.exercise_interaction\", \"data\": {\"interactionType\": 2, \"questionType\": 2, \"questionId\": \"3_IdentifyFieldsForPlotting\", \"learnToolsVersion\": \"0.3.4\", \"valueTowardsCompletion\": 0.0, \"failureMessage\": \"\", \"exceptionClass\": \"\", \"trace\": \"\", \"outcomeType\": 4}}, \"*\")"
      ],
      "text/plain": [
       "<IPython.core.display.Javascript object>"
      ]
     },
     "metadata": {},
     "output_type": "display_data"
    },
    {
     "data": {
      "text/markdown": [
       "<span style=\"color:#3366cc\">Hint:</span> Look at the table schema.  There are a couple options, but two of the fields are things commonly used to plot on maps. Both are `'FLOAT'` types. Use quotes around the field names in your answer."
      ],
      "text/plain": [
       "Hint: Look at the table schema.  There are a couple options, but two of the fields are things commonly used to plot on maps. Both are `'FLOAT'` types. Use quotes around the field names in your answer."
      ]
     },
     "metadata": {},
     "output_type": "display_data"
    }
   ],
   "source": [
    "q_3.hint()\n",
    "#q_3.solution()"
   ]
  },
  {
   "cell_type": "markdown",
   "id": "9f94c5d0",
   "metadata": {
    "papermill": {
     "duration": 0.027375,
     "end_time": "2022-05-19T10:05:47.121168",
     "exception": false,
     "start_time": "2022-05-19T10:05:47.093793",
     "status": "completed"
    },
    "tags": []
   },
   "source": [
    "Thinking about the question above, there are a few columns that appear to have geographic data. Look at a few values (with the `list_rows()` command) to see if you can determine their relationship.  Two columns will still be hard to interpret. But it should be obvious how the `location` column relates to `latitude` and `longitude`."
   ]
  },
  {
   "cell_type": "code",
   "execution_count": 12,
   "id": "09315713",
   "metadata": {
    "execution": {
     "iopub.execute_input": "2022-05-19T10:05:47.179607Z",
     "iopub.status.busy": "2022-05-19T10:05:47.179194Z",
     "iopub.status.idle": "2022-05-19T10:05:47.182367Z",
     "shell.execute_reply": "2022-05-19T10:05:47.181753Z"
    },
    "papermill": {
     "duration": 0.035409,
     "end_time": "2022-05-19T10:05:47.184063",
     "exception": false,
     "start_time": "2022-05-19T10:05:47.148654",
     "status": "completed"
    },
    "tags": []
   },
   "outputs": [],
   "source": [
    "# Scratch space for your code"
   ]
  },
  {
   "cell_type": "markdown",
   "id": "ecf4275d",
   "metadata": {
    "papermill": {
     "duration": 0.027525,
     "end_time": "2022-05-19T10:05:47.239514",
     "exception": false,
     "start_time": "2022-05-19T10:05:47.211989",
     "status": "completed"
    },
    "tags": []
   },
   "source": [
    "# Keep going\n",
    "\n",
    "You've looked at the schema, but you haven't yet done anything exciting with the data itself. Things get more interesting when you get to the data, so keep going to **[write your first SQL query](https://www.kaggle.com/dansbecker/select-from-where).**"
   ]
  },
  {
   "cell_type": "markdown",
   "id": "b62bf601",
   "metadata": {
    "papermill": {
     "duration": 0.029606,
     "end_time": "2022-05-19T10:05:47.296893",
     "exception": false,
     "start_time": "2022-05-19T10:05:47.267287",
     "status": "completed"
    },
    "tags": []
   },
   "source": [
    "---\n",
    "\n",
    "\n",
    "\n",
    "\n",
    "*Have questions or comments? Visit the [course discussion forum](https://www.kaggle.com/learn/intro-to-sql/discussion) to chat with other learners.*"
   ]
  }
 ],
 "metadata": {
  "kernelspec": {
   "display_name": "Python 3",
   "language": "python",
   "name": "python3"
  },
  "language_info": {
   "codemirror_mode": {
    "name": "ipython",
    "version": 3
   },
   "file_extension": ".py",
   "mimetype": "text/x-python",
   "name": "python",
   "nbconvert_exporter": "python",
   "pygments_lexer": "ipython3",
   "version": "3.7.12"
  },
  "papermill": {
   "default_parameters": {},
   "duration": 14.270836,
   "end_time": "2022-05-19T10:05:47.946107",
   "environment_variables": {},
   "exception": null,
   "input_path": "__notebook__.ipynb",
   "output_path": "__notebook__.ipynb",
   "parameters": {},
   "start_time": "2022-05-19T10:05:33.675271",
   "version": "2.3.4"
  }
 },
 "nbformat": 4,
 "nbformat_minor": 5
}

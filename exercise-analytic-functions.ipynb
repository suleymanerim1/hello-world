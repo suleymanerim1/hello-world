{
 "cells": [
  {
   "cell_type": "markdown",
   "id": "ba196ba7",
   "metadata": {
    "papermill": {
     "duration": 0.00995,
     "end_time": "2022-06-01T18:34:21.556863",
     "exception": false,
     "start_time": "2022-06-01T18:34:21.546913",
     "status": "completed"
    },
    "tags": []
   },
   "source": [
    "**This notebook is an exercise in the [Advanced SQL](https://www.kaggle.com/learn/advanced-sql) course.  You can reference the tutorial at [this link](https://www.kaggle.com/alexisbcook/analytic-functions).**\n",
    "\n",
    "---\n"
   ]
  },
  {
   "cell_type": "markdown",
   "id": "17d12f9d",
   "metadata": {
    "papermill": {
     "duration": 0.004783,
     "end_time": "2022-06-01T18:34:21.567059",
     "exception": false,
     "start_time": "2022-06-01T18:34:21.562276",
     "status": "completed"
    },
    "tags": []
   },
   "source": [
    "# Introduction\n",
    "\n",
    "Here, you'll use window functions to answer questions about the [Chicago Taxi Trips](https://www.kaggle.com/chicago/chicago-taxi-trips-bq) dataset.\n",
    "\n",
    "Before you get started, run the code cell below to set everything up."
   ]
  },
  {
   "cell_type": "code",
   "execution_count": 1,
   "id": "0661c33e",
   "metadata": {
    "execution": {
     "iopub.execute_input": "2022-06-01T18:34:21.583164Z",
     "iopub.status.busy": "2022-06-01T18:34:21.578935Z",
     "iopub.status.idle": "2022-06-01T18:34:38.520865Z",
     "shell.execute_reply": "2022-06-01T18:34:38.519761Z"
    },
    "papermill": {
     "duration": 16.951229,
     "end_time": "2022-06-01T18:34:38.523400",
     "exception": false,
     "start_time": "2022-06-01T18:34:21.572171",
     "status": "completed"
    },
    "tags": []
   },
   "outputs": [
    {
     "name": "stdout",
     "output_type": "stream",
     "text": [
      "Using Kaggle's public dataset BigQuery integration.\n"
     ]
    },
    {
     "name": "stderr",
     "output_type": "stream",
     "text": [
      "/opt/conda/lib/python3.7/site-packages/google/cloud/bigquery/client.py:440: UserWarning: Cannot create BigQuery Storage client, the dependency google-cloud-bigquery-storage is not installed.\n",
      "  \"Cannot create BigQuery Storage client, the dependency \"\n"
     ]
    },
    {
     "name": "stdout",
     "output_type": "stream",
     "text": [
      "Setup Complete\n"
     ]
    }
   ],
   "source": [
    "# Set up feedback system\n",
    "from learntools.core import binder\n",
    "binder.bind(globals())\n",
    "from learntools.sql_advanced.ex2 import *\n",
    "print(\"Setup Complete\")"
   ]
  },
  {
   "cell_type": "markdown",
   "id": "75375597",
   "metadata": {
    "papermill": {
     "duration": 0.005305,
     "end_time": "2022-06-01T18:34:38.534580",
     "exception": false,
     "start_time": "2022-06-01T18:34:38.529275",
     "status": "completed"
    },
    "tags": []
   },
   "source": [
    "The following code cell fetches the `taxi_trips` table from the `chicago_taxi_trips` dataset. We also preview the first five rows of the table.  You'll use the table to answer the questions below."
   ]
  },
  {
   "cell_type": "markdown",
   "id": "b0db5689",
   "metadata": {
    "papermill": {
     "duration": 0.005293,
     "end_time": "2022-06-01T18:34:38.546044",
     "exception": false,
     "start_time": "2022-06-01T18:34:38.540751",
     "status": "completed"
    },
    "tags": []
   },
   "source": [
    "# Exercises\n",
    "\n",
    "### 1) How can you predict the demand for taxis?\n",
    "\n",
    "Say you work for a taxi company, and you're interested in predicting the demand for taxis.  Towards this goal, you'd like to create a plot that shows a rolling average of the daily number of taxi trips.  Amend the (partial) query below to return a DataFrame with two columns:\n",
    "- `trip_date` - contains one entry for each date from January 1, 2016, to December 31, 2017.\n",
    "- `avg_num_trips` - shows the average number of daily trips, calculated over a window including the value for the current date, along with the values for the preceding 15 days and the following 15 days, as long as the days fit within the two-year time frame.  For instance, when calculating the value in this column for January 5, 2016, the window will include the number of trips for the preceding 4 days, the current date, and the following 15 days.\n",
    "\n",
    "This query is partially completed for you, and you need only write the part that calculates the `avg_num_trips` column.  Note that this query uses a common table expression (CTE); if you need to review how to use CTEs, you're encouraged to check out [this tutorial](https://www.kaggle.com/dansbecker/as-with) in the [Intro to SQL](https://www.kaggle.com/learn/intro-to-sql) micro-course."
   ]
  },
  {
   "cell_type": "code",
   "execution_count": 2,
   "id": "eccbe617",
   "metadata": {
    "execution": {
     "iopub.execute_input": "2022-06-01T18:34:38.560084Z",
     "iopub.status.busy": "2022-06-01T18:34:38.559152Z",
     "iopub.status.idle": "2022-06-01T18:34:39.600926Z",
     "shell.execute_reply": "2022-06-01T18:34:39.599834Z"
    },
    "papermill": {
     "duration": 1.052123,
     "end_time": "2022-06-01T18:34:39.604017",
     "exception": false,
     "start_time": "2022-06-01T18:34:38.551894",
     "status": "completed"
    },
    "tags": []
   },
   "outputs": [
    {
     "name": "stdout",
     "output_type": "stream",
     "text": [
      "Using Kaggle's public dataset BigQuery integration.\n"
     ]
    },
    {
     "name": "stderr",
     "output_type": "stream",
     "text": [
      "/opt/conda/lib/python3.7/site-packages/ipykernel_launcher.py:19: UserWarning: Cannot use bqstorage_client if max_results is set, reverting to fetching data with the tabledata.list endpoint.\n"
     ]
    },
    {
     "data": {
      "text/html": [
       "<div>\n",
       "<style scoped>\n",
       "    .dataframe tbody tr th:only-of-type {\n",
       "        vertical-align: middle;\n",
       "    }\n",
       "\n",
       "    .dataframe tbody tr th {\n",
       "        vertical-align: top;\n",
       "    }\n",
       "\n",
       "    .dataframe thead th {\n",
       "        text-align: right;\n",
       "    }\n",
       "</style>\n",
       "<table border=\"1\" class=\"dataframe\">\n",
       "  <thead>\n",
       "    <tr style=\"text-align: right;\">\n",
       "      <th></th>\n",
       "      <th>unique_key</th>\n",
       "      <th>taxi_id</th>\n",
       "      <th>trip_start_timestamp</th>\n",
       "      <th>trip_end_timestamp</th>\n",
       "      <th>trip_seconds</th>\n",
       "      <th>trip_miles</th>\n",
       "      <th>pickup_census_tract</th>\n",
       "      <th>dropoff_census_tract</th>\n",
       "      <th>pickup_community_area</th>\n",
       "      <th>dropoff_community_area</th>\n",
       "      <th>...</th>\n",
       "      <th>extras</th>\n",
       "      <th>trip_total</th>\n",
       "      <th>payment_type</th>\n",
       "      <th>company</th>\n",
       "      <th>pickup_latitude</th>\n",
       "      <th>pickup_longitude</th>\n",
       "      <th>pickup_location</th>\n",
       "      <th>dropoff_latitude</th>\n",
       "      <th>dropoff_longitude</th>\n",
       "      <th>dropoff_location</th>\n",
       "    </tr>\n",
       "  </thead>\n",
       "  <tbody>\n",
       "    <tr>\n",
       "      <th>0</th>\n",
       "      <td>8f7085c0a9632f3c462c5543cb9df420df1f4029</td>\n",
       "      <td>c51889ed8a7b4e546482f2bbe16bee57680f70542e78a7...</td>\n",
       "      <td>2016-10-23 16:45:00+00:00</td>\n",
       "      <td>2016-10-23 17:15:00+00:00</td>\n",
       "      <td>1601</td>\n",
       "      <td>13.6</td>\n",
       "      <td>NaN</td>\n",
       "      <td>NaN</td>\n",
       "      <td>NaN</td>\n",
       "      <td>NaN</td>\n",
       "      <td>...</td>\n",
       "      <td>0.0</td>\n",
       "      <td>0.01</td>\n",
       "      <td>Cash</td>\n",
       "      <td>303 Taxi</td>\n",
       "      <td>NaN</td>\n",
       "      <td>NaN</td>\n",
       "      <td>None</td>\n",
       "      <td>NaN</td>\n",
       "      <td>NaN</td>\n",
       "      <td>None</td>\n",
       "    </tr>\n",
       "    <tr>\n",
       "      <th>1</th>\n",
       "      <td>9414ae6ac589eb8c92065bd8926aaa332fb62283</td>\n",
       "      <td>c51889ed8a7b4e546482f2bbe16bee57680f70542e78a7...</td>\n",
       "      <td>2016-10-23 17:30:00+00:00</td>\n",
       "      <td>2016-10-23 17:45:00+00:00</td>\n",
       "      <td>783</td>\n",
       "      <td>3.8</td>\n",
       "      <td>NaN</td>\n",
       "      <td>NaN</td>\n",
       "      <td>NaN</td>\n",
       "      <td>NaN</td>\n",
       "      <td>...</td>\n",
       "      <td>0.0</td>\n",
       "      <td>14.95</td>\n",
       "      <td>Credit Card</td>\n",
       "      <td>303 Taxi</td>\n",
       "      <td>NaN</td>\n",
       "      <td>NaN</td>\n",
       "      <td>None</td>\n",
       "      <td>NaN</td>\n",
       "      <td>NaN</td>\n",
       "      <td>None</td>\n",
       "    </tr>\n",
       "    <tr>\n",
       "      <th>2</th>\n",
       "      <td>a09cc3a425b81b87b990721a767da373364496a0</td>\n",
       "      <td>25f108dbdee2f40abf533ec54828d51019935abcf13c9a...</td>\n",
       "      <td>2018-01-14 15:15:00+00:00</td>\n",
       "      <td>2018-01-14 15:30:00+00:00</td>\n",
       "      <td>593</td>\n",
       "      <td>1.1</td>\n",
       "      <td>NaN</td>\n",
       "      <td>NaN</td>\n",
       "      <td>NaN</td>\n",
       "      <td>NaN</td>\n",
       "      <td>...</td>\n",
       "      <td>0.0</td>\n",
       "      <td>6.80</td>\n",
       "      <td>Cash</td>\n",
       "      <td>303 Taxi</td>\n",
       "      <td>NaN</td>\n",
       "      <td>NaN</td>\n",
       "      <td>None</td>\n",
       "      <td>NaN</td>\n",
       "      <td>NaN</td>\n",
       "      <td>None</td>\n",
       "    </tr>\n",
       "    <tr>\n",
       "      <th>3</th>\n",
       "      <td>ce18b8ad09a687248fdf69f35e31dc6bd926effd</td>\n",
       "      <td>28cc6d01750f2d536f164256e6a563ac6e8031e88e8519...</td>\n",
       "      <td>2018-01-04 07:30:00+00:00</td>\n",
       "      <td>2018-01-04 07:30:00+00:00</td>\n",
       "      <td>305</td>\n",
       "      <td>1.2</td>\n",
       "      <td>NaN</td>\n",
       "      <td>NaN</td>\n",
       "      <td>NaN</td>\n",
       "      <td>NaN</td>\n",
       "      <td>...</td>\n",
       "      <td>0.0</td>\n",
       "      <td>5.20</td>\n",
       "      <td>Cash</td>\n",
       "      <td>303 Taxi</td>\n",
       "      <td>NaN</td>\n",
       "      <td>NaN</td>\n",
       "      <td>None</td>\n",
       "      <td>NaN</td>\n",
       "      <td>NaN</td>\n",
       "      <td>None</td>\n",
       "    </tr>\n",
       "    <tr>\n",
       "      <th>4</th>\n",
       "      <td>37c4d9d1f0298df2d8151d2ad6f9a5c0306d10ff</td>\n",
       "      <td>28cc6d01750f2d536f164256e6a563ac6e8031e88e8519...</td>\n",
       "      <td>2018-01-04 08:00:00+00:00</td>\n",
       "      <td>2018-01-04 08:00:00+00:00</td>\n",
       "      <td>4</td>\n",
       "      <td>0.0</td>\n",
       "      <td>NaN</td>\n",
       "      <td>NaN</td>\n",
       "      <td>NaN</td>\n",
       "      <td>NaN</td>\n",
       "      <td>...</td>\n",
       "      <td>0.0</td>\n",
       "      <td>2.00</td>\n",
       "      <td>Cash</td>\n",
       "      <td>303 Taxi</td>\n",
       "      <td>NaN</td>\n",
       "      <td>NaN</td>\n",
       "      <td>None</td>\n",
       "      <td>NaN</td>\n",
       "      <td>NaN</td>\n",
       "      <td>None</td>\n",
       "    </tr>\n",
       "  </tbody>\n",
       "</table>\n",
       "<p>5 rows × 23 columns</p>\n",
       "</div>"
      ],
      "text/plain": [
       "                                 unique_key  \\\n",
       "0  8f7085c0a9632f3c462c5543cb9df420df1f4029   \n",
       "1  9414ae6ac589eb8c92065bd8926aaa332fb62283   \n",
       "2  a09cc3a425b81b87b990721a767da373364496a0   \n",
       "3  ce18b8ad09a687248fdf69f35e31dc6bd926effd   \n",
       "4  37c4d9d1f0298df2d8151d2ad6f9a5c0306d10ff   \n",
       "\n",
       "                                             taxi_id  \\\n",
       "0  c51889ed8a7b4e546482f2bbe16bee57680f70542e78a7...   \n",
       "1  c51889ed8a7b4e546482f2bbe16bee57680f70542e78a7...   \n",
       "2  25f108dbdee2f40abf533ec54828d51019935abcf13c9a...   \n",
       "3  28cc6d01750f2d536f164256e6a563ac6e8031e88e8519...   \n",
       "4  28cc6d01750f2d536f164256e6a563ac6e8031e88e8519...   \n",
       "\n",
       "       trip_start_timestamp        trip_end_timestamp  trip_seconds  \\\n",
       "0 2016-10-23 16:45:00+00:00 2016-10-23 17:15:00+00:00          1601   \n",
       "1 2016-10-23 17:30:00+00:00 2016-10-23 17:45:00+00:00           783   \n",
       "2 2018-01-14 15:15:00+00:00 2018-01-14 15:30:00+00:00           593   \n",
       "3 2018-01-04 07:30:00+00:00 2018-01-04 07:30:00+00:00           305   \n",
       "4 2018-01-04 08:00:00+00:00 2018-01-04 08:00:00+00:00             4   \n",
       "\n",
       "   trip_miles  pickup_census_tract  dropoff_census_tract  \\\n",
       "0        13.6                  NaN                   NaN   \n",
       "1         3.8                  NaN                   NaN   \n",
       "2         1.1                  NaN                   NaN   \n",
       "3         1.2                  NaN                   NaN   \n",
       "4         0.0                  NaN                   NaN   \n",
       "\n",
       "   pickup_community_area  dropoff_community_area  ...  extras  trip_total  \\\n",
       "0                    NaN                     NaN  ...     0.0        0.01   \n",
       "1                    NaN                     NaN  ...     0.0       14.95   \n",
       "2                    NaN                     NaN  ...     0.0        6.80   \n",
       "3                    NaN                     NaN  ...     0.0        5.20   \n",
       "4                    NaN                     NaN  ...     0.0        2.00   \n",
       "\n",
       "   payment_type   company  pickup_latitude pickup_longitude pickup_location  \\\n",
       "0          Cash  303 Taxi              NaN              NaN            None   \n",
       "1   Credit Card  303 Taxi              NaN              NaN            None   \n",
       "2          Cash  303 Taxi              NaN              NaN            None   \n",
       "3          Cash  303 Taxi              NaN              NaN            None   \n",
       "4          Cash  303 Taxi              NaN              NaN            None   \n",
       "\n",
       "   dropoff_latitude  dropoff_longitude dropoff_location  \n",
       "0               NaN                NaN             None  \n",
       "1               NaN                NaN             None  \n",
       "2               NaN                NaN             None  \n",
       "3               NaN                NaN             None  \n",
       "4               NaN                NaN             None  \n",
       "\n",
       "[5 rows x 23 columns]"
      ]
     },
     "execution_count": 2,
     "metadata": {},
     "output_type": "execute_result"
    }
   ],
   "source": [
    "from google.cloud import bigquery\n",
    "\n",
    "# Create a \"Client\" object\n",
    "client = bigquery.Client()\n",
    "\n",
    "# Construct a reference to the \"chicago_taxi_trips\" dataset\n",
    "dataset_ref = client.dataset(\"chicago_taxi_trips\", project=\"bigquery-public-data\")\n",
    "\n",
    "# API request - fetch the dataset\n",
    "dataset = client.get_dataset(dataset_ref)\n",
    "\n",
    "# Construct a reference to the \"taxi_trips\" table\n",
    "table_ref = dataset_ref.table(\"taxi_trips\")\n",
    "\n",
    "# API request - fetch the table\n",
    "table = client.get_table(table_ref)\n",
    "\n",
    "# Preview the first five lines of the table\n",
    "client.list_rows(table, max_results=5).to_dataframe()"
   ]
  },
  {
   "cell_type": "code",
   "execution_count": 3,
   "id": "ad4f7b27",
   "metadata": {
    "execution": {
     "iopub.execute_input": "2022-06-01T18:34:39.618374Z",
     "iopub.status.busy": "2022-06-01T18:34:39.617277Z",
     "iopub.status.idle": "2022-06-01T18:34:40.794167Z",
     "shell.execute_reply": "2022-06-01T18:34:40.793073Z"
    },
    "papermill": {
     "duration": 1.186717,
     "end_time": "2022-06-01T18:34:40.796747",
     "exception": false,
     "start_time": "2022-06-01T18:34:39.610030",
     "status": "completed"
    },
    "tags": []
   },
   "outputs": [
    {
     "name": "stderr",
     "output_type": "stream",
     "text": [
      "/opt/conda/lib/python3.7/site-packages/google/cloud/bigquery/client.py:440: UserWarning: Cannot create BigQuery Storage client, the dependency google-cloud-bigquery-storage is not installed.\n",
      "  \"Cannot create BigQuery Storage client, the dependency \"\n"
     ]
    },
    {
     "data": {
      "text/html": [
       "<div>\n",
       "<style scoped>\n",
       "    .dataframe tbody tr th:only-of-type {\n",
       "        vertical-align: middle;\n",
       "    }\n",
       "\n",
       "    .dataframe tbody tr th {\n",
       "        vertical-align: top;\n",
       "    }\n",
       "\n",
       "    .dataframe thead th {\n",
       "        text-align: right;\n",
       "    }\n",
       "</style>\n",
       "<table border=\"1\" class=\"dataframe\">\n",
       "  <thead>\n",
       "    <tr style=\"text-align: right;\">\n",
       "      <th></th>\n",
       "      <th>trip_date</th>\n",
       "      <th>avg_num_trips</th>\n",
       "    </tr>\n",
       "  </thead>\n",
       "  <tbody>\n",
       "    <tr>\n",
       "      <th>0</th>\n",
       "      <td>2016-01-01</td>\n",
       "      <td>80461.937500</td>\n",
       "    </tr>\n",
       "    <tr>\n",
       "      <th>1</th>\n",
       "      <td>2016-01-02</td>\n",
       "      <td>80150.647059</td>\n",
       "    </tr>\n",
       "    <tr>\n",
       "      <th>2</th>\n",
       "      <td>2016-01-03</td>\n",
       "      <td>79419.611111</td>\n",
       "    </tr>\n",
       "    <tr>\n",
       "      <th>3</th>\n",
       "      <td>2016-01-04</td>\n",
       "      <td>79810.421053</td>\n",
       "    </tr>\n",
       "    <tr>\n",
       "      <th>4</th>\n",
       "      <td>2016-01-05</td>\n",
       "      <td>80293.900000</td>\n",
       "    </tr>\n",
       "  </tbody>\n",
       "</table>\n",
       "</div>"
      ],
      "text/plain": [
       "    trip_date  avg_num_trips\n",
       "0  2016-01-01   80461.937500\n",
       "1  2016-01-02   80150.647059\n",
       "2  2016-01-03   79419.611111\n",
       "3  2016-01-04   79810.421053\n",
       "4  2016-01-05   80293.900000"
      ]
     },
     "metadata": {},
     "output_type": "display_data"
    },
    {
     "data": {
      "application/javascript": [
       "parent.postMessage({\"jupyterEvent\": \"custom.exercise_interaction\", \"data\": {\"outcomeType\": 1, \"valueTowardsCompletion\": 0.3333333333333333, \"interactionType\": 1, \"questionType\": 2, \"questionId\": \"1_TaxiDemand\", \"learnToolsVersion\": \"0.3.4\", \"failureMessage\": \"\", \"exceptionClass\": \"\", \"trace\": \"\"}}, \"*\")"
      ],
      "text/plain": [
       "<IPython.core.display.Javascript object>"
      ]
     },
     "metadata": {},
     "output_type": "display_data"
    },
    {
     "data": {
      "text/markdown": [
       "<span style=\"color:#33cc33\">Correct</span>"
      ],
      "text/plain": [
       "Correct"
      ]
     },
     "metadata": {},
     "output_type": "display_data"
    }
   ],
   "source": [
    "# Fill in the blank below\n",
    "avg_num_trips_query = \"\"\"\n",
    "                      WITH trips_by_day AS\n",
    "                      (\n",
    "                      SELECT DATE(trip_start_timestamp) AS trip_date,\n",
    "                          COUNT(*) as num_trips\n",
    "                      FROM `bigquery-public-data.chicago_taxi_trips.taxi_trips`\n",
    "                      WHERE trip_start_timestamp >= '2016-01-01' AND trip_start_timestamp < '2018-01-01'\n",
    "                      GROUP BY trip_date\n",
    "                      ORDER BY trip_date\n",
    "                      )\n",
    "                      SELECT trip_date,\n",
    "                          AVG(num_trips)\n",
    "                          OVER (\n",
    "                           \n",
    "                               ORDER BY trip_date\n",
    "                               ROWS BETWEEN 15 PRECEDING AND 15 FOLLOWING\n",
    "                               ) AS avg_num_trips\n",
    "                      FROM trips_by_day\n",
    "                      \"\"\"\n",
    "\n",
    "# Check your answer\n",
    "q_1.check()"
   ]
  },
  {
   "cell_type": "code",
   "execution_count": 4,
   "id": "17518717",
   "metadata": {
    "execution": {
     "iopub.execute_input": "2022-06-01T18:34:40.812867Z",
     "iopub.status.busy": "2022-06-01T18:34:40.812038Z",
     "iopub.status.idle": "2022-06-01T18:34:40.823440Z",
     "shell.execute_reply": "2022-06-01T18:34:40.822726Z"
    },
    "papermill": {
     "duration": 0.021895,
     "end_time": "2022-06-01T18:34:40.825267",
     "exception": false,
     "start_time": "2022-06-01T18:34:40.803372",
     "status": "completed"
    },
    "tags": []
   },
   "outputs": [
    {
     "data": {
      "application/javascript": [
       "parent.postMessage({\"jupyterEvent\": \"custom.exercise_interaction\", \"data\": {\"interactionType\": 2, \"questionType\": 2, \"questionId\": \"1_TaxiDemand\", \"learnToolsVersion\": \"0.3.4\", \"valueTowardsCompletion\": 0.0, \"failureMessage\": \"\", \"exceptionClass\": \"\", \"trace\": \"\", \"outcomeType\": 4}}, \"*\")"
      ],
      "text/plain": [
       "<IPython.core.display.Javascript object>"
      ]
     },
     "metadata": {},
     "output_type": "display_data"
    },
    {
     "data": {
      "text/markdown": [
       "<span style=\"color:#3366cc\">Hint:</span> Use the **AVG()** function. Write an **OVER** clause with that orders the rows with the `trip_date` column and uses a window that includes the 15 preceding rows, the current row, and the following 15 rows."
      ],
      "text/plain": [
       "Hint: Use the **AVG()** function. Write an **OVER** clause with that orders the rows with the `trip_date` column and uses a window that includes the 15 preceding rows, the current row, and the following 15 rows."
      ]
     },
     "metadata": {},
     "output_type": "display_data"
    },
    {
     "data": {
      "application/javascript": [
       "parent.postMessage({\"jupyterEvent\": \"custom.exercise_interaction\", \"data\": {\"interactionType\": 3, \"questionType\": 2, \"questionId\": \"1_TaxiDemand\", \"learnToolsVersion\": \"0.3.4\", \"valueTowardsCompletion\": 0.0, \"failureMessage\": \"\", \"exceptionClass\": \"\", \"trace\": \"\", \"outcomeType\": 4}}, \"*\")"
      ],
      "text/plain": [
       "<IPython.core.display.Javascript object>"
      ]
     },
     "metadata": {},
     "output_type": "display_data"
    },
    {
     "data": {
      "text/markdown": [
       "<span style=\"color:#33cc99\">Solution:</span> \n",
       "```python\n",
       "\n",
       "avg_num_trips_query = \"\"\"\n",
       "                      WITH trips_by_day AS\n",
       "                      (\n",
       "                      SELECT DATE(trip_start_timestamp) AS trip_date,\n",
       "                          COUNT(*) as num_trips\n",
       "                      FROM `bigquery-public-data.chicago_taxi_trips.taxi_trips`\n",
       "                      WHERE trip_start_timestamp >= '2016-01-01' AND trip_start_timestamp < '2018-01-01'\n",
       "                      GROUP BY trip_date\n",
       "                      ORDER BY trip_date\n",
       "                      )\n",
       "                      SELECT trip_date,\n",
       "                          AVG(num_trips) \n",
       "                          OVER (\n",
       "                               ORDER BY trip_date\n",
       "                               ROWS BETWEEN 15 PRECEDING AND 15 FOLLOWING\n",
       "                               ) AS avg_num_trips\n",
       "                      FROM trips_by_day\n",
       "                      \"\"\"\n",
       "\n",
       "```"
      ],
      "text/plain": [
       "Solution: \n",
       "```python\n",
       "\n",
       "avg_num_trips_query = \"\"\"\n",
       "                      WITH trips_by_day AS\n",
       "                      (\n",
       "                      SELECT DATE(trip_start_timestamp) AS trip_date,\n",
       "                          COUNT(*) as num_trips\n",
       "                      FROM `bigquery-public-data.chicago_taxi_trips.taxi_trips`\n",
       "                      WHERE trip_start_timestamp >= '2016-01-01' AND trip_start_timestamp < '2018-01-01'\n",
       "                      GROUP BY trip_date\n",
       "                      ORDER BY trip_date\n",
       "                      )\n",
       "                      SELECT trip_date,\n",
       "                          AVG(num_trips) \n",
       "                          OVER (\n",
       "                               ORDER BY trip_date\n",
       "                               ROWS BETWEEN 15 PRECEDING AND 15 FOLLOWING\n",
       "                               ) AS avg_num_trips\n",
       "                      FROM trips_by_day\n",
       "                      \"\"\"\n",
       "\n",
       "```"
      ]
     },
     "metadata": {},
     "output_type": "display_data"
    }
   ],
   "source": [
    "# Lines below will give you a hint or solution code\n",
    "q_1.hint()\n",
    "q_1.solution()"
   ]
  },
  {
   "cell_type": "markdown",
   "id": "ee1138a4",
   "metadata": {
    "papermill": {
     "duration": 0.00673,
     "end_time": "2022-06-01T18:34:40.839144",
     "exception": false,
     "start_time": "2022-06-01T18:34:40.832414",
     "status": "completed"
    },
    "tags": []
   },
   "source": [
    "### 2) Can you separate and order trips by community area?\n",
    "\n",
    "The query below returns a DataFrame with three columns from the table: `pickup_community_area`, `trip_start_timestamp`, and `trip_end_timestamp`.  \n",
    "\n",
    "Amend the query to return an additional column called `trip_number` which shows the order in which the trips were taken from their respective community areas.  So, the first trip of the day originating from community area 1 should receive a value of 1; the second trip of the day from the same area should receive a value of 2.  Likewise, the first trip of the day from community area 2 should receive a value of 1, and so on.\n",
    "\n",
    "Note that there are many numbering functions that can be used to solve this problem (depending on how you want to deal with trips that started at the same time from the same community area); to answer this question, please use the **RANK()** function."
   ]
  },
  {
   "cell_type": "code",
   "execution_count": 5,
   "id": "3b41d00f",
   "metadata": {
    "execution": {
     "iopub.execute_input": "2022-06-01T18:34:40.856306Z",
     "iopub.status.busy": "2022-06-01T18:34:40.855215Z",
     "iopub.status.idle": "2022-06-01T18:34:45.689891Z",
     "shell.execute_reply": "2022-06-01T18:34:45.688427Z"
    },
    "papermill": {
     "duration": 4.846964,
     "end_time": "2022-06-01T18:34:45.693258",
     "exception": false,
     "start_time": "2022-06-01T18:34:40.846294",
     "status": "completed"
    },
    "tags": []
   },
   "outputs": [
    {
     "name": "stderr",
     "output_type": "stream",
     "text": [
      "/opt/conda/lib/python3.7/site-packages/google/cloud/bigquery/client.py:440: UserWarning: Cannot create BigQuery Storage client, the dependency google-cloud-bigquery-storage is not installed.\n",
      "  \"Cannot create BigQuery Storage client, the dependency \"\n"
     ]
    },
    {
     "data": {
      "text/html": [
       "<div>\n",
       "<style scoped>\n",
       "    .dataframe tbody tr th:only-of-type {\n",
       "        vertical-align: middle;\n",
       "    }\n",
       "\n",
       "    .dataframe tbody tr th {\n",
       "        vertical-align: top;\n",
       "    }\n",
       "\n",
       "    .dataframe thead th {\n",
       "        text-align: right;\n",
       "    }\n",
       "</style>\n",
       "<table border=\"1\" class=\"dataframe\">\n",
       "  <thead>\n",
       "    <tr style=\"text-align: right;\">\n",
       "      <th></th>\n",
       "      <th>pickup_community_area</th>\n",
       "      <th>trip_start_timestamp</th>\n",
       "      <th>trip_end_timestamp</th>\n",
       "      <th>trip_number</th>\n",
       "    </tr>\n",
       "  </thead>\n",
       "  <tbody>\n",
       "    <tr>\n",
       "      <th>0</th>\n",
       "      <td>21.0</td>\n",
       "      <td>2017-05-01 00:00:00+00:00</td>\n",
       "      <td>2017-05-01 00:15:00+00:00</td>\n",
       "      <td>1</td>\n",
       "    </tr>\n",
       "    <tr>\n",
       "      <th>1</th>\n",
       "      <td>21.0</td>\n",
       "      <td>2017-05-01 00:00:00+00:00</td>\n",
       "      <td>2017-05-01 00:00:00+00:00</td>\n",
       "      <td>1</td>\n",
       "    </tr>\n",
       "    <tr>\n",
       "      <th>2</th>\n",
       "      <td>21.0</td>\n",
       "      <td>2017-05-01 00:15:00+00:00</td>\n",
       "      <td>2017-05-01 00:15:00+00:00</td>\n",
       "      <td>3</td>\n",
       "    </tr>\n",
       "    <tr>\n",
       "      <th>3</th>\n",
       "      <td>21.0</td>\n",
       "      <td>2017-05-01 00:15:00+00:00</td>\n",
       "      <td>2017-05-01 00:15:00+00:00</td>\n",
       "      <td>3</td>\n",
       "    </tr>\n",
       "    <tr>\n",
       "      <th>4</th>\n",
       "      <td>21.0</td>\n",
       "      <td>2017-05-01 00:30:00+00:00</td>\n",
       "      <td>2017-05-01 00:45:00+00:00</td>\n",
       "      <td>5</td>\n",
       "    </tr>\n",
       "  </tbody>\n",
       "</table>\n",
       "</div>"
      ],
      "text/plain": [
       "   pickup_community_area      trip_start_timestamp        trip_end_timestamp  \\\n",
       "0                   21.0 2017-05-01 00:00:00+00:00 2017-05-01 00:15:00+00:00   \n",
       "1                   21.0 2017-05-01 00:00:00+00:00 2017-05-01 00:00:00+00:00   \n",
       "2                   21.0 2017-05-01 00:15:00+00:00 2017-05-01 00:15:00+00:00   \n",
       "3                   21.0 2017-05-01 00:15:00+00:00 2017-05-01 00:15:00+00:00   \n",
       "4                   21.0 2017-05-01 00:30:00+00:00 2017-05-01 00:45:00+00:00   \n",
       "\n",
       "   trip_number  \n",
       "0            1  \n",
       "1            1  \n",
       "2            3  \n",
       "3            3  \n",
       "4            5  "
      ]
     },
     "metadata": {},
     "output_type": "display_data"
    },
    {
     "data": {
      "application/javascript": [
       "parent.postMessage({\"jupyterEvent\": \"custom.exercise_interaction\", \"data\": {\"outcomeType\": 1, \"valueTowardsCompletion\": 0.3333333333333333, \"interactionType\": 1, \"questionType\": 2, \"questionId\": \"2_CommunityArea\", \"learnToolsVersion\": \"0.3.4\", \"failureMessage\": \"\", \"exceptionClass\": \"\", \"trace\": \"\"}}, \"*\")"
      ],
      "text/plain": [
       "<IPython.core.display.Javascript object>"
      ]
     },
     "metadata": {},
     "output_type": "display_data"
    },
    {
     "data": {
      "text/markdown": [
       "<span style=\"color:#33cc33\">Correct</span>"
      ],
      "text/plain": [
       "Correct"
      ]
     },
     "metadata": {},
     "output_type": "display_data"
    }
   ],
   "source": [
    "# Amend the query below\n",
    "trip_number_query = \"\"\"\n",
    "                    SELECT pickup_community_area,\n",
    "                        trip_start_timestamp,\n",
    "                        trip_end_timestamp,\n",
    "                        RANK () OVER\n",
    "                        (\n",
    "                        PARTITION BY pickup_community_area\n",
    "                        ORDER BY trip_start_timestamp\n",
    "                        ) AS trip_number\n",
    "                        \n",
    "                        \n",
    "                        \n",
    "                    FROM `bigquery-public-data.chicago_taxi_trips.taxi_trips`\n",
    "                    WHERE DATE(trip_start_timestamp) = '2017-05-01'\n",
    "                    \"\"\"\n",
    "\n",
    "# Check your answer\n",
    "q_2.check()"
   ]
  },
  {
   "cell_type": "code",
   "execution_count": 6,
   "id": "5d8befc0",
   "metadata": {
    "execution": {
     "iopub.execute_input": "2022-06-01T18:34:45.712887Z",
     "iopub.status.busy": "2022-06-01T18:34:45.712060Z",
     "iopub.status.idle": "2022-06-01T18:34:45.716068Z",
     "shell.execute_reply": "2022-06-01T18:34:45.715214Z"
    },
    "papermill": {
     "duration": 0.016247,
     "end_time": "2022-06-01T18:34:45.718029",
     "exception": false,
     "start_time": "2022-06-01T18:34:45.701782",
     "status": "completed"
    },
    "tags": []
   },
   "outputs": [],
   "source": [
    "# Lines below will give you a hint or solution code\n",
    "#q_2.hint()\n",
    "#q_2.solution()"
   ]
  },
  {
   "cell_type": "markdown",
   "id": "14711dac",
   "metadata": {
    "papermill": {
     "duration": 0.00739,
     "end_time": "2022-06-01T18:34:45.733200",
     "exception": false,
     "start_time": "2022-06-01T18:34:45.725810",
     "status": "completed"
    },
    "tags": []
   },
   "source": [
    "### 3) How much time elapses between trips?\n",
    "\n",
    "The (partial) query in the code cell below shows, for each trip in the selected time frame, the corresponding `taxi_id`, `trip_start_timestamp`, and `trip_end_timestamp`. \n",
    "\n",
    "Your task in this exercise is to edit the query to include an additional `prev_break` column that shows the length of the break (in minutes) that the driver had before each trip started (this corresponds to the time between `trip_start_timestamp` of the current trip and `trip_end_timestamp` of the previous trip).  Partition the calculation by `taxi_id`, and order the results within each partition by `trip_start_timestamp`.\n",
    "\n",
    "Some sample results are shown below, where all rows correspond to the same driver (or `taxi_id`).  Take the time now to make sure that the values in the `prev_break` column make sense to you!\n",
    "\n",
    "![first_commands](https://i.imgur.com/qjvQzg8.png)\n",
    "\n",
    "Note that the first trip of the day for each driver should have a value of **NaN** (not a number) in the `prev_break` column."
   ]
  },
  {
   "cell_type": "code",
   "execution_count": 7,
   "id": "bcf29a4c",
   "metadata": {
    "execution": {
     "iopub.execute_input": "2022-06-01T18:34:45.751775Z",
     "iopub.status.busy": "2022-06-01T18:34:45.750926Z",
     "iopub.status.idle": "2022-06-01T18:34:58.391287Z",
     "shell.execute_reply": "2022-06-01T18:34:58.389758Z"
    },
    "papermill": {
     "duration": 12.652531,
     "end_time": "2022-06-01T18:34:58.394073",
     "exception": false,
     "start_time": "2022-06-01T18:34:45.741542",
     "status": "completed"
    },
    "tags": []
   },
   "outputs": [
    {
     "name": "stderr",
     "output_type": "stream",
     "text": [
      "/opt/conda/lib/python3.7/site-packages/google/cloud/bigquery/client.py:440: UserWarning: Cannot create BigQuery Storage client, the dependency google-cloud-bigquery-storage is not installed.\n",
      "  \"Cannot create BigQuery Storage client, the dependency \"\n"
     ]
    },
    {
     "data": {
      "text/html": [
       "<div>\n",
       "<style scoped>\n",
       "    .dataframe tbody tr th:only-of-type {\n",
       "        vertical-align: middle;\n",
       "    }\n",
       "\n",
       "    .dataframe tbody tr th {\n",
       "        vertical-align: top;\n",
       "    }\n",
       "\n",
       "    .dataframe thead th {\n",
       "        text-align: right;\n",
       "    }\n",
       "</style>\n",
       "<table border=\"1\" class=\"dataframe\">\n",
       "  <thead>\n",
       "    <tr style=\"text-align: right;\">\n",
       "      <th></th>\n",
       "      <th>taxi_id</th>\n",
       "      <th>trip_start_timestamp</th>\n",
       "      <th>trip_end_timestamp</th>\n",
       "      <th>prev_break</th>\n",
       "    </tr>\n",
       "  </thead>\n",
       "  <tbody>\n",
       "    <tr>\n",
       "      <th>0</th>\n",
       "      <td>01804877ebce33c3c9c643fbc35af02303898cdc1830d4...</td>\n",
       "      <td>2017-05-01 00:15:00+00:00</td>\n",
       "      <td>2017-05-01 00:45:00+00:00</td>\n",
       "      <td>NaN</td>\n",
       "    </tr>\n",
       "    <tr>\n",
       "      <th>1</th>\n",
       "      <td>01804877ebce33c3c9c643fbc35af02303898cdc1830d4...</td>\n",
       "      <td>2017-05-01 01:15:00+00:00</td>\n",
       "      <td>2017-05-01 01:15:00+00:00</td>\n",
       "      <td>30.0</td>\n",
       "    </tr>\n",
       "    <tr>\n",
       "      <th>2</th>\n",
       "      <td>16a529a73f019759aa8f1b563ab8511b26a91d65659188...</td>\n",
       "      <td>2017-05-01 00:30:00+00:00</td>\n",
       "      <td>2017-05-01 00:45:00+00:00</td>\n",
       "      <td>NaN</td>\n",
       "    </tr>\n",
       "    <tr>\n",
       "      <th>3</th>\n",
       "      <td>16a529a73f019759aa8f1b563ab8511b26a91d65659188...</td>\n",
       "      <td>2017-05-01 01:00:00+00:00</td>\n",
       "      <td>2017-05-01 01:00:00+00:00</td>\n",
       "      <td>15.0</td>\n",
       "    </tr>\n",
       "    <tr>\n",
       "      <th>4</th>\n",
       "      <td>16a529a73f019759aa8f1b563ab8511b26a91d65659188...</td>\n",
       "      <td>2017-05-01 05:30:00+00:00</td>\n",
       "      <td>2017-05-01 05:30:00+00:00</td>\n",
       "      <td>270.0</td>\n",
       "    </tr>\n",
       "  </tbody>\n",
       "</table>\n",
       "</div>"
      ],
      "text/plain": [
       "                                             taxi_id  \\\n",
       "0  01804877ebce33c3c9c643fbc35af02303898cdc1830d4...   \n",
       "1  01804877ebce33c3c9c643fbc35af02303898cdc1830d4...   \n",
       "2  16a529a73f019759aa8f1b563ab8511b26a91d65659188...   \n",
       "3  16a529a73f019759aa8f1b563ab8511b26a91d65659188...   \n",
       "4  16a529a73f019759aa8f1b563ab8511b26a91d65659188...   \n",
       "\n",
       "       trip_start_timestamp        trip_end_timestamp  prev_break  \n",
       "0 2017-05-01 00:15:00+00:00 2017-05-01 00:45:00+00:00         NaN  \n",
       "1 2017-05-01 01:15:00+00:00 2017-05-01 01:15:00+00:00        30.0  \n",
       "2 2017-05-01 00:30:00+00:00 2017-05-01 00:45:00+00:00         NaN  \n",
       "3 2017-05-01 01:00:00+00:00 2017-05-01 01:00:00+00:00        15.0  \n",
       "4 2017-05-01 05:30:00+00:00 2017-05-01 05:30:00+00:00       270.0  "
      ]
     },
     "metadata": {},
     "output_type": "display_data"
    },
    {
     "data": {
      "application/javascript": [
       "parent.postMessage({\"jupyterEvent\": \"custom.exercise_interaction\", \"data\": {\"outcomeType\": 1, \"valueTowardsCompletion\": 0.3333333333333333, \"interactionType\": 1, \"questionType\": 2, \"questionId\": \"3_BreakTime\", \"learnToolsVersion\": \"0.3.4\", \"failureMessage\": \"\", \"exceptionClass\": \"\", \"trace\": \"\"}}, \"*\")"
      ],
      "text/plain": [
       "<IPython.core.display.Javascript object>"
      ]
     },
     "metadata": {},
     "output_type": "display_data"
    },
    {
     "data": {
      "text/markdown": [
       "<span style=\"color:#33cc33\">Correct</span>"
      ],
      "text/plain": [
       "Correct"
      ]
     },
     "metadata": {},
     "output_type": "display_data"
    }
   ],
   "source": [
    "# Fill in the blanks below\n",
    "break_time_query = \"\"\"\n",
    "                   SELECT taxi_id,\n",
    "                       trip_start_timestamp,\n",
    "                       trip_end_timestamp,\n",
    "                       TIMESTAMP_DIFF(\n",
    "                           trip_start_timestamp, \n",
    "                           LAG(trip_end_timestamp,1)\n",
    "                               OVER (\n",
    "                                    PARTITION BY taxi_id \n",
    "                                    ORDER BY trip_start_timestamp)\n",
    "                                    , \n",
    "                           MINUTE) as prev_break\n",
    "                   FROM `bigquery-public-data.chicago_taxi_trips.taxi_trips`\n",
    "                   WHERE DATE(trip_start_timestamp) = '2017-05-01' \n",
    "                   \"\"\"\n",
    "\n",
    "# Check your answer\n",
    "q_3.check()"
   ]
  },
  {
   "cell_type": "code",
   "execution_count": 8,
   "id": "202d3ce3",
   "metadata": {
    "execution": {
     "iopub.execute_input": "2022-06-01T18:34:58.414059Z",
     "iopub.status.busy": "2022-06-01T18:34:58.413547Z",
     "iopub.status.idle": "2022-06-01T18:34:58.418394Z",
     "shell.execute_reply": "2022-06-01T18:34:58.417030Z"
    },
    "papermill": {
     "duration": 0.017734,
     "end_time": "2022-06-01T18:34:58.420786",
     "exception": false,
     "start_time": "2022-06-01T18:34:58.403052",
     "status": "completed"
    },
    "tags": []
   },
   "outputs": [],
   "source": [
    "# Lines below will give you a hint or solution code\n",
    "#q_3.hint()\n",
    "#q_3.solution()"
   ]
  },
  {
   "cell_type": "markdown",
   "id": "79f83187",
   "metadata": {
    "papermill": {
     "duration": 0.009021,
     "end_time": "2022-06-01T18:34:58.438882",
     "exception": false,
     "start_time": "2022-06-01T18:34:58.429861",
     "status": "completed"
    },
    "tags": []
   },
   "source": [
    "# Keep going\n",
    "\n",
    "Move on to learn how to query **[nested and repeated data](https://www.kaggle.com/alexisbcook/nested-and-repeated-data)**."
   ]
  },
  {
   "cell_type": "markdown",
   "id": "a80d9cf1",
   "metadata": {
    "papermill": {
     "duration": 0.009444,
     "end_time": "2022-06-01T18:34:58.458036",
     "exception": false,
     "start_time": "2022-06-01T18:34:58.448592",
     "status": "completed"
    },
    "tags": []
   },
   "source": [
    "---\n",
    "\n",
    "\n",
    "\n",
    "\n",
    "*Have questions or comments? Visit the [course discussion forum](https://www.kaggle.com/learn/advanced-sql/discussion) to chat with other learners.*"
   ]
  }
 ],
 "metadata": {
  "kernelspec": {
   "display_name": "Python 3",
   "language": "python",
   "name": "python3"
  },
  "language_info": {
   "codemirror_mode": {
    "name": "ipython",
    "version": 3
   },
   "file_extension": ".py",
   "mimetype": "text/x-python",
   "name": "python",
   "nbconvert_exporter": "python",
   "pygments_lexer": "ipython3",
   "version": "3.7.12"
  },
  "papermill": {
   "default_parameters": {},
   "duration": 50.360389,
   "end_time": "2022-06-01T18:34:59.494429",
   "environment_variables": {},
   "exception": null,
   "input_path": "__notebook__.ipynb",
   "output_path": "__notebook__.ipynb",
   "parameters": {},
   "start_time": "2022-06-01T18:34:09.134040",
   "version": "2.3.4"
  }
 },
 "nbformat": 4,
 "nbformat_minor": 5
}

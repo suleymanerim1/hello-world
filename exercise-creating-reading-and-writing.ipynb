{
 "cells": [
  {
   "cell_type": "markdown",
   "id": "bd8e32d8",
   "metadata": {
    "papermill": {
     "duration": 0.009865,
     "end_time": "2022-06-11T13:42:24.631447",
     "exception": false,
     "start_time": "2022-06-11T13:42:24.621582",
     "status": "completed"
    },
    "tags": []
   },
   "source": [
    "**This notebook is an exercise in the [Pandas](https://www.kaggle.com/learn/pandas) course.  You can reference the tutorial at [this link](https://www.kaggle.com/residentmario/creating-reading-and-writing).**\n",
    "\n",
    "---\n"
   ]
  },
  {
   "cell_type": "markdown",
   "id": "566955fa",
   "metadata": {
    "papermill": {
     "duration": 0.005186,
     "end_time": "2022-06-11T13:42:24.642555",
     "exception": false,
     "start_time": "2022-06-11T13:42:24.637369",
     "status": "completed"
    },
    "tags": []
   },
   "source": [
    "# Introduction\n",
    "\n",
    "The first step in most data analytics projects is reading the data file. In this exercise, you'll create Series and DataFrame objects, both by hand and by reading data files.\n",
    "\n",
    "Run the code cell below to load libraries you will need (including code to check your answers)."
   ]
  },
  {
   "cell_type": "code",
   "execution_count": 1,
   "id": "c0c60c38",
   "metadata": {
    "execution": {
     "iopub.execute_input": "2022-06-11T13:42:24.656731Z",
     "iopub.status.busy": "2022-06-11T13:42:24.655547Z",
     "iopub.status.idle": "2022-06-11T13:42:26.390901Z",
     "shell.execute_reply": "2022-06-11T13:42:26.389564Z"
    },
    "papermill": {
     "duration": 1.74544,
     "end_time": "2022-06-11T13:42:26.393602",
     "exception": false,
     "start_time": "2022-06-11T13:42:24.648162",
     "status": "completed"
    },
    "tags": []
   },
   "outputs": [
    {
     "name": "stdout",
     "output_type": "stream",
     "text": [
      "Setup complete.\n"
     ]
    }
   ],
   "source": [
    "import pandas as pd\n",
    "pd.set_option('max_rows', 5)\n",
    "from learntools.core import binder; binder.bind(globals())\n",
    "from learntools.pandas.creating_reading_and_writing import *\n",
    "print(\"Setup complete.\")"
   ]
  },
  {
   "cell_type": "markdown",
   "id": "58e84a74",
   "metadata": {
    "papermill": {
     "duration": 0.005572,
     "end_time": "2022-06-11T13:42:26.405101",
     "exception": false,
     "start_time": "2022-06-11T13:42:26.399529",
     "status": "completed"
    },
    "tags": []
   },
   "source": [
    "# Exercises"
   ]
  },
  {
   "cell_type": "markdown",
   "id": "8601dc94",
   "metadata": {
    "papermill": {
     "duration": 0.005231,
     "end_time": "2022-06-11T13:42:26.416014",
     "exception": false,
     "start_time": "2022-06-11T13:42:26.410783",
     "status": "completed"
    },
    "tags": []
   },
   "source": [
    "## 1.\n",
    "\n",
    "In the cell below, create a DataFrame `fruits` that looks like this:\n",
    "\n",
    "![](https://i.imgur.com/Ax3pp2A.png)"
   ]
  },
  {
   "cell_type": "code",
   "execution_count": 2,
   "id": "8ea780eb",
   "metadata": {
    "execution": {
     "iopub.execute_input": "2022-06-11T13:42:26.429241Z",
     "iopub.status.busy": "2022-06-11T13:42:26.428636Z",
     "iopub.status.idle": "2022-06-11T13:42:26.453551Z",
     "shell.execute_reply": "2022-06-11T13:42:26.452792Z"
    },
    "papermill": {
     "duration": 0.034473,
     "end_time": "2022-06-11T13:42:26.456081",
     "exception": false,
     "start_time": "2022-06-11T13:42:26.421608",
     "status": "completed"
    },
    "tags": []
   },
   "outputs": [
    {
     "data": {
      "application/javascript": [
       "parent.postMessage({\"jupyterEvent\": \"custom.exercise_interaction\", \"data\": {\"outcomeType\": 1, \"valueTowardsCompletion\": 0.16666666666666666, \"interactionType\": 1, \"questionType\": 1, \"questionId\": \"1_FruitDfCreation\", \"learnToolsVersion\": \"0.3.4\", \"failureMessage\": \"\", \"exceptionClass\": \"\", \"trace\": \"\"}}, \"*\")"
      ],
      "text/plain": [
       "<IPython.core.display.Javascript object>"
      ]
     },
     "metadata": {},
     "output_type": "display_data"
    },
    {
     "data": {
      "text/markdown": [
       "<span style=\"color:#33cc33\">Correct</span>"
      ],
      "text/plain": [
       "Correct"
      ]
     },
     "metadata": {},
     "output_type": "display_data"
    },
    {
     "data": {
      "text/html": [
       "<div>\n",
       "<style scoped>\n",
       "    .dataframe tbody tr th:only-of-type {\n",
       "        vertical-align: middle;\n",
       "    }\n",
       "\n",
       "    .dataframe tbody tr th {\n",
       "        vertical-align: top;\n",
       "    }\n",
       "\n",
       "    .dataframe thead th {\n",
       "        text-align: right;\n",
       "    }\n",
       "</style>\n",
       "<table border=\"1\" class=\"dataframe\">\n",
       "  <thead>\n",
       "    <tr style=\"text-align: right;\">\n",
       "      <th></th>\n",
       "      <th>Apples</th>\n",
       "      <th>Bananas</th>\n",
       "    </tr>\n",
       "  </thead>\n",
       "  <tbody>\n",
       "    <tr>\n",
       "      <th>0</th>\n",
       "      <td>30</td>\n",
       "      <td>21</td>\n",
       "    </tr>\n",
       "  </tbody>\n",
       "</table>\n",
       "</div>"
      ],
      "text/plain": [
       "   Apples  Bananas\n",
       "0      30       21"
      ]
     },
     "execution_count": 2,
     "metadata": {},
     "output_type": "execute_result"
    }
   ],
   "source": [
    "# Your code goes here. Create a dataframe matching the above diagram and assign it to the variable fruits.\n",
    "fruits = pd.DataFrame(data=[[30,21]],columns=['Apples','Bananas'])\n",
    "\n",
    "# Check your answer\n",
    "q1.check()\n",
    "fruits"
   ]
  },
  {
   "cell_type": "code",
   "execution_count": 3,
   "id": "bc2bf6e3",
   "metadata": {
    "execution": {
     "iopub.execute_input": "2022-06-11T13:42:26.471993Z",
     "iopub.status.busy": "2022-06-11T13:42:26.470154Z",
     "iopub.status.idle": "2022-06-11T13:42:26.475217Z",
     "shell.execute_reply": "2022-06-11T13:42:26.474563Z"
    },
    "papermill": {
     "duration": 0.014442,
     "end_time": "2022-06-11T13:42:26.477164",
     "exception": false,
     "start_time": "2022-06-11T13:42:26.462722",
     "status": "completed"
    },
    "tags": []
   },
   "outputs": [],
   "source": [
    "#q1.hint()\n",
    "#q1.solution()"
   ]
  },
  {
   "cell_type": "markdown",
   "id": "ee60c3eb",
   "metadata": {
    "papermill": {
     "duration": 0.005742,
     "end_time": "2022-06-11T13:42:26.488981",
     "exception": false,
     "start_time": "2022-06-11T13:42:26.483239",
     "status": "completed"
    },
    "tags": []
   },
   "source": [
    "## 2.\n",
    "\n",
    "Create a dataframe `fruit_sales` that matches the diagram below:\n",
    "\n",
    "![](https://i.imgur.com/CHPn7ZF.png)"
   ]
  },
  {
   "cell_type": "code",
   "execution_count": 4,
   "id": "8d29204b",
   "metadata": {
    "execution": {
     "iopub.execute_input": "2022-06-11T13:42:26.503159Z",
     "iopub.status.busy": "2022-06-11T13:42:26.502145Z",
     "iopub.status.idle": "2022-06-11T13:42:26.518016Z",
     "shell.execute_reply": "2022-06-11T13:42:26.516962Z"
    },
    "papermill": {
     "duration": 0.025149,
     "end_time": "2022-06-11T13:42:26.520074",
     "exception": false,
     "start_time": "2022-06-11T13:42:26.494925",
     "status": "completed"
    },
    "tags": []
   },
   "outputs": [
    {
     "data": {
      "application/javascript": [
       "parent.postMessage({\"jupyterEvent\": \"custom.exercise_interaction\", \"data\": {\"outcomeType\": 1, \"valueTowardsCompletion\": 0.16666666666666666, \"interactionType\": 1, \"questionType\": 1, \"questionId\": \"2_FruitSalesDfCreation\", \"learnToolsVersion\": \"0.3.4\", \"failureMessage\": \"\", \"exceptionClass\": \"\", \"trace\": \"\"}}, \"*\")"
      ],
      "text/plain": [
       "<IPython.core.display.Javascript object>"
      ]
     },
     "metadata": {},
     "output_type": "display_data"
    },
    {
     "data": {
      "text/markdown": [
       "<span style=\"color:#33cc33\">Correct</span>"
      ],
      "text/plain": [
       "Correct"
      ]
     },
     "metadata": {},
     "output_type": "display_data"
    },
    {
     "data": {
      "text/html": [
       "<div>\n",
       "<style scoped>\n",
       "    .dataframe tbody tr th:only-of-type {\n",
       "        vertical-align: middle;\n",
       "    }\n",
       "\n",
       "    .dataframe tbody tr th {\n",
       "        vertical-align: top;\n",
       "    }\n",
       "\n",
       "    .dataframe thead th {\n",
       "        text-align: right;\n",
       "    }\n",
       "</style>\n",
       "<table border=\"1\" class=\"dataframe\">\n",
       "  <thead>\n",
       "    <tr style=\"text-align: right;\">\n",
       "      <th></th>\n",
       "      <th>Apples</th>\n",
       "      <th>Bananas</th>\n",
       "    </tr>\n",
       "  </thead>\n",
       "  <tbody>\n",
       "    <tr>\n",
       "      <th>2017 Sales</th>\n",
       "      <td>35</td>\n",
       "      <td>21</td>\n",
       "    </tr>\n",
       "    <tr>\n",
       "      <th>2018 Sales</th>\n",
       "      <td>41</td>\n",
       "      <td>34</td>\n",
       "    </tr>\n",
       "  </tbody>\n",
       "</table>\n",
       "</div>"
      ],
      "text/plain": [
       "            Apples  Bananas\n",
       "2017 Sales      35       21\n",
       "2018 Sales      41       34"
      ]
     },
     "execution_count": 4,
     "metadata": {},
     "output_type": "execute_result"
    }
   ],
   "source": [
    "# Your code goes here. Create a dataframe matching the above diagram and assign it to the variable fruit_sales.\n",
    "fruit_sales = pd.DataFrame(data=[[35,21],[41,34]],columns=['Apples','Bananas'],index=['2017 Sales','2018 Sales'])\n",
    "\n",
    "# Check your answer\n",
    "q2.check()\n",
    "fruit_sales"
   ]
  },
  {
   "cell_type": "markdown",
   "id": "f7b01d6a",
   "metadata": {
    "papermill": {
     "duration": 0.006276,
     "end_time": "2022-06-11T13:42:26.532814",
     "exception": false,
     "start_time": "2022-06-11T13:42:26.526538",
     "status": "completed"
    },
    "tags": []
   },
   "source": [
    "### q2.hint()\n",
    "#q2.solution()"
   ]
  },
  {
   "cell_type": "markdown",
   "id": "882b4456",
   "metadata": {
    "papermill": {
     "duration": 0.006085,
     "end_time": "2022-06-11T13:42:26.545312",
     "exception": false,
     "start_time": "2022-06-11T13:42:26.539227",
     "status": "completed"
    },
    "tags": []
   },
   "source": [
    "## 3.\n",
    "\n",
    "Create a variable `ingredients` with a Series that looks like:\n",
    "\n",
    "```\n",
    "Flour     4 cups\n",
    "Milk       1 cup\n",
    "Eggs     2 large\n",
    "Spam       1 can\n",
    "Name: Dinner, dtype: object\n",
    "```"
   ]
  },
  {
   "cell_type": "code",
   "execution_count": 5,
   "id": "35e2a01d",
   "metadata": {
    "execution": {
     "iopub.execute_input": "2022-06-11T13:42:26.560261Z",
     "iopub.status.busy": "2022-06-11T13:42:26.559565Z",
     "iopub.status.idle": "2022-06-11T13:42:26.569922Z",
     "shell.execute_reply": "2022-06-11T13:42:26.569159Z"
    },
    "papermill": {
     "duration": 0.020163,
     "end_time": "2022-06-11T13:42:26.571806",
     "exception": false,
     "start_time": "2022-06-11T13:42:26.551643",
     "status": "completed"
    },
    "tags": []
   },
   "outputs": [
    {
     "data": {
      "application/javascript": [
       "parent.postMessage({\"jupyterEvent\": \"custom.exercise_interaction\", \"data\": {\"outcomeType\": 4, \"interactionType\": 1, \"questionType\": 2, \"questionId\": \"3_RecipeSeriesCreation\", \"learnToolsVersion\": \"0.3.4\", \"valueTowardsCompletion\": 0.0, \"failureMessage\": \"\", \"exceptionClass\": \"\", \"trace\": \"\"}}, \"*\")"
      ],
      "text/plain": [
       "<IPython.core.display.Javascript object>"
      ]
     },
     "metadata": {},
     "output_type": "display_data"
    },
    {
     "data": {
      "text/markdown": [
       "<span style=\"color:#ccaa33\">Check:</span> When you've updated the starter code, `check()` will tell you whether your code is correct. You need to update the code that creates variable `ingredients`"
      ],
      "text/plain": [
       "Check: When you've updated the starter code, `check()` will tell you whether your code is correct. You need to update the code that creates variable `ingredients`"
      ]
     },
     "metadata": {},
     "output_type": "display_data"
    },
    {
     "data": {
      "text/markdown": [],
      "text/plain": [
       "<learntools.core.constants.PlaceholderValue at 0x7fab7bde6950>"
      ]
     },
     "execution_count": 5,
     "metadata": {},
     "output_type": "execute_result"
    }
   ],
   "source": [
    "ingredients = ____\n",
    "\n",
    "# Check your answer\n",
    "q3.check()\n",
    "ingredients"
   ]
  },
  {
   "cell_type": "code",
   "execution_count": 6,
   "id": "a274daab",
   "metadata": {
    "execution": {
     "iopub.execute_input": "2022-06-11T13:42:26.587567Z",
     "iopub.status.busy": "2022-06-11T13:42:26.586506Z",
     "iopub.status.idle": "2022-06-11T13:42:26.590975Z",
     "shell.execute_reply": "2022-06-11T13:42:26.590292Z"
    },
    "papermill": {
     "duration": 0.014327,
     "end_time": "2022-06-11T13:42:26.592895",
     "exception": false,
     "start_time": "2022-06-11T13:42:26.578568",
     "status": "completed"
    },
    "tags": []
   },
   "outputs": [],
   "source": [
    "#q3.hint()\n",
    "#q3.solution()"
   ]
  },
  {
   "cell_type": "markdown",
   "id": "0ffd1c17",
   "metadata": {
    "papermill": {
     "duration": 0.00662,
     "end_time": "2022-06-11T13:42:26.606437",
     "exception": false,
     "start_time": "2022-06-11T13:42:26.599817",
     "status": "completed"
    },
    "tags": []
   },
   "source": [
    "## 4.\n",
    "\n",
    "Read the following csv dataset of wine reviews into a DataFrame called `reviews`:\n",
    "\n",
    "![](https://i.imgur.com/74RCZtU.png)\n",
    "\n",
    "The filepath to the csv file is `../input/wine-reviews/winemag-data_first150k.csv`. The first few lines look like:\n",
    "\n",
    "```\n",
    ",country,description,designation,points,price,province,region_1,region_2,variety,winery\n",
    "0,US,\"This tremendous 100% varietal wine[...]\",Martha's Vineyard,96,235.0,California,Napa Valley,Napa,Cabernet Sauvignon,Heitz\n",
    "1,Spain,\"Ripe aromas of fig, blackberry and[...]\",Carodorum Selección Especial Reserva,96,110.0,Northern Spain,Toro,,Tinta de Toro,Bodega Carmen Rodríguez\n",
    "```"
   ]
  },
  {
   "cell_type": "code",
   "execution_count": 7,
   "id": "bee70df4",
   "metadata": {
    "execution": {
     "iopub.execute_input": "2022-06-11T13:42:26.622460Z",
     "iopub.status.busy": "2022-06-11T13:42:26.621762Z",
     "iopub.status.idle": "2022-06-11T13:42:26.631956Z",
     "shell.execute_reply": "2022-06-11T13:42:26.631192Z"
    },
    "papermill": {
     "duration": 0.020305,
     "end_time": "2022-06-11T13:42:26.633865",
     "exception": false,
     "start_time": "2022-06-11T13:42:26.613560",
     "status": "completed"
    },
    "tags": []
   },
   "outputs": [
    {
     "data": {
      "application/javascript": [
       "parent.postMessage({\"jupyterEvent\": \"custom.exercise_interaction\", \"data\": {\"outcomeType\": 4, \"interactionType\": 1, \"questionType\": 1, \"questionId\": \"4_ReadWineCsv\", \"learnToolsVersion\": \"0.3.4\", \"valueTowardsCompletion\": 0.0, \"failureMessage\": \"\", \"exceptionClass\": \"\", \"trace\": \"\"}}, \"*\")"
      ],
      "text/plain": [
       "<IPython.core.display.Javascript object>"
      ]
     },
     "metadata": {},
     "output_type": "display_data"
    },
    {
     "data": {
      "text/markdown": [
       "<span style=\"color:#ccaa33\">Check:</span> When you've updated the starter code, `check()` will tell you whether your code is correct. You need to update the code that creates variable `reviews`"
      ],
      "text/plain": [
       "Check: When you've updated the starter code, `check()` will tell you whether your code is correct. You need to update the code that creates variable `reviews`"
      ]
     },
     "metadata": {},
     "output_type": "display_data"
    },
    {
     "data": {
      "text/markdown": [],
      "text/plain": [
       "<learntools.core.constants.PlaceholderValue at 0x7fab7bde6950>"
      ]
     },
     "execution_count": 7,
     "metadata": {},
     "output_type": "execute_result"
    }
   ],
   "source": [
    "reviews = ____\n",
    "\n",
    "# Check your answer\n",
    "q4.check()\n",
    "reviews"
   ]
  },
  {
   "cell_type": "code",
   "execution_count": 8,
   "id": "31800505",
   "metadata": {
    "execution": {
     "iopub.execute_input": "2022-06-11T13:42:26.650426Z",
     "iopub.status.busy": "2022-06-11T13:42:26.649751Z",
     "iopub.status.idle": "2022-06-11T13:42:26.653928Z",
     "shell.execute_reply": "2022-06-11T13:42:26.653130Z"
    },
    "papermill": {
     "duration": 0.014794,
     "end_time": "2022-06-11T13:42:26.655944",
     "exception": false,
     "start_time": "2022-06-11T13:42:26.641150",
     "status": "completed"
    },
    "tags": []
   },
   "outputs": [],
   "source": [
    "#q4.hint()\n",
    "#q4.solution()"
   ]
  },
  {
   "cell_type": "markdown",
   "id": "5f5b3b25",
   "metadata": {
    "papermill": {
     "duration": 0.008257,
     "end_time": "2022-06-11T13:42:26.671720",
     "exception": false,
     "start_time": "2022-06-11T13:42:26.663463",
     "status": "completed"
    },
    "tags": []
   },
   "source": [
    "## 5.\n",
    "\n",
    "Run the cell below to create and display a DataFrame called `animals`:"
   ]
  },
  {
   "cell_type": "code",
   "execution_count": 9,
   "id": "45138524",
   "metadata": {
    "execution": {
     "iopub.execute_input": "2022-06-11T13:42:26.688593Z",
     "iopub.status.busy": "2022-06-11T13:42:26.687904Z",
     "iopub.status.idle": "2022-06-11T13:42:26.698015Z",
     "shell.execute_reply": "2022-06-11T13:42:26.697104Z"
    },
    "papermill": {
     "duration": 0.020826,
     "end_time": "2022-06-11T13:42:26.700029",
     "exception": false,
     "start_time": "2022-06-11T13:42:26.679203",
     "status": "completed"
    },
    "tags": []
   },
   "outputs": [
    {
     "data": {
      "text/html": [
       "<div>\n",
       "<style scoped>\n",
       "    .dataframe tbody tr th:only-of-type {\n",
       "        vertical-align: middle;\n",
       "    }\n",
       "\n",
       "    .dataframe tbody tr th {\n",
       "        vertical-align: top;\n",
       "    }\n",
       "\n",
       "    .dataframe thead th {\n",
       "        text-align: right;\n",
       "    }\n",
       "</style>\n",
       "<table border=\"1\" class=\"dataframe\">\n",
       "  <thead>\n",
       "    <tr style=\"text-align: right;\">\n",
       "      <th></th>\n",
       "      <th>Cows</th>\n",
       "      <th>Goats</th>\n",
       "    </tr>\n",
       "  </thead>\n",
       "  <tbody>\n",
       "    <tr>\n",
       "      <th>Year 1</th>\n",
       "      <td>12</td>\n",
       "      <td>22</td>\n",
       "    </tr>\n",
       "    <tr>\n",
       "      <th>Year 2</th>\n",
       "      <td>20</td>\n",
       "      <td>19</td>\n",
       "    </tr>\n",
       "  </tbody>\n",
       "</table>\n",
       "</div>"
      ],
      "text/plain": [
       "        Cows  Goats\n",
       "Year 1    12     22\n",
       "Year 2    20     19"
      ]
     },
     "execution_count": 9,
     "metadata": {},
     "output_type": "execute_result"
    }
   ],
   "source": [
    "animals = pd.DataFrame({'Cows': [12, 20], 'Goats': [22, 19]}, index=['Year 1', 'Year 2'])\n",
    "animals"
   ]
  },
  {
   "cell_type": "markdown",
   "id": "40dc3e37",
   "metadata": {
    "papermill": {
     "duration": 0.007567,
     "end_time": "2022-06-11T13:42:26.715370",
     "exception": false,
     "start_time": "2022-06-11T13:42:26.707803",
     "status": "completed"
    },
    "tags": []
   },
   "source": [
    "In the cell below, write code to save this DataFrame to disk as a csv file with the name `cows_and_goats.csv`."
   ]
  },
  {
   "cell_type": "code",
   "execution_count": 10,
   "id": "1eb3202f",
   "metadata": {
    "execution": {
     "iopub.execute_input": "2022-06-11T13:42:26.733179Z",
     "iopub.status.busy": "2022-06-11T13:42:26.732402Z",
     "iopub.status.idle": "2022-06-11T13:42:26.740988Z",
     "shell.execute_reply": "2022-06-11T13:42:26.740116Z"
    },
    "papermill": {
     "duration": 0.019708,
     "end_time": "2022-06-11T13:42:26.742974",
     "exception": false,
     "start_time": "2022-06-11T13:42:26.723266",
     "status": "completed"
    },
    "tags": []
   },
   "outputs": [
    {
     "data": {
      "application/javascript": [
       "parent.postMessage({\"jupyterEvent\": \"custom.exercise_interaction\", \"data\": {\"outcomeType\": 2, \"failureMessage\": \"Expected file to exist with name `cows_and_goats.csv`\", \"interactionType\": 1, \"questionType\": 2, \"questionId\": \"5_SaveAnimalsCsv\", \"learnToolsVersion\": \"0.3.4\", \"valueTowardsCompletion\": 0.0, \"exceptionClass\": \"\", \"trace\": \"\"}}, \"*\")"
      ],
      "text/plain": [
       "<IPython.core.display.Javascript object>"
      ]
     },
     "metadata": {},
     "output_type": "display_data"
    },
    {
     "data": {
      "text/markdown": [
       "<span style=\"color:#cc3333\">Incorrect:</span> Expected file to exist with name `cows_and_goats.csv`"
      ],
      "text/plain": [
       "Incorrect: Expected file to exist with name `cows_and_goats.csv`"
      ]
     },
     "metadata": {},
     "output_type": "display_data"
    }
   ],
   "source": [
    "# Your code goes here\n",
    "\n",
    "# Check your answer\n",
    "q5.check()"
   ]
  },
  {
   "cell_type": "code",
   "execution_count": 11,
   "id": "251f9623",
   "metadata": {
    "execution": {
     "iopub.execute_input": "2022-06-11T13:42:26.760512Z",
     "iopub.status.busy": "2022-06-11T13:42:26.760119Z",
     "iopub.status.idle": "2022-06-11T13:42:26.763957Z",
     "shell.execute_reply": "2022-06-11T13:42:26.763029Z"
    },
    "papermill": {
     "duration": 0.014968,
     "end_time": "2022-06-11T13:42:26.765994",
     "exception": false,
     "start_time": "2022-06-11T13:42:26.751026",
     "status": "completed"
    },
    "tags": []
   },
   "outputs": [],
   "source": [
    "#q5.hint()\n",
    "#q5.solution()"
   ]
  },
  {
   "cell_type": "markdown",
   "id": "15bf22c2",
   "metadata": {
    "papermill": {
     "duration": 0.007806,
     "end_time": "2022-06-11T13:42:26.781871",
     "exception": false,
     "start_time": "2022-06-11T13:42:26.774065",
     "status": "completed"
    },
    "tags": []
   },
   "source": [
    "# Keep going\n",
    "\n",
    "Move on to learn about **[indexing, selecting and assigning](https://www.kaggle.com/residentmario/indexing-selecting-assigning)**."
   ]
  },
  {
   "cell_type": "markdown",
   "id": "36cd7aa8",
   "metadata": {
    "papermill": {
     "duration": 0.007826,
     "end_time": "2022-06-11T13:42:26.797892",
     "exception": false,
     "start_time": "2022-06-11T13:42:26.790066",
     "status": "completed"
    },
    "tags": []
   },
   "source": [
    "---\n",
    "\n",
    "\n",
    "\n",
    "\n",
    "*Have questions or comments? Visit the [course discussion forum](https://www.kaggle.com/learn/pandas/discussion) to chat with other learners.*"
   ]
  }
 ],
 "metadata": {
  "kernelspec": {
   "display_name": "Python 3",
   "language": "python",
   "name": "python3"
  },
  "language_info": {
   "codemirror_mode": {
    "name": "ipython",
    "version": 3
   },
   "file_extension": ".py",
   "mimetype": "text/x-python",
   "name": "python",
   "nbconvert_exporter": "python",
   "pygments_lexer": "ipython3",
   "version": "3.7.12"
  },
  "papermill": {
   "default_parameters": {},
   "duration": 13.269894,
   "end_time": "2022-06-11T13:42:27.427901",
   "environment_variables": {},
   "exception": null,
   "input_path": "__notebook__.ipynb",
   "output_path": "__notebook__.ipynb",
   "parameters": {},
   "start_time": "2022-06-11T13:42:14.158007",
   "version": "2.3.4"
  }
 },
 "nbformat": 4,
 "nbformat_minor": 5
}

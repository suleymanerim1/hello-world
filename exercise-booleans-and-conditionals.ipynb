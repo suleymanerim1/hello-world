{
 "cells": [
  {
   "cell_type": "markdown",
   "id": "abed51b1",
   "metadata": {
    "papermill": {
     "duration": 0.04109,
     "end_time": "2022-05-09T20:42:26.100083",
     "exception": false,
     "start_time": "2022-05-09T20:42:26.058993",
     "status": "completed"
    },
    "tags": []
   },
   "source": [
    "**This notebook is an exercise in the [Python](https://www.kaggle.com/learn/python) course.  You can reference the tutorial at [this link](https://www.kaggle.com/colinmorris/booleans-and-conditionals).**\n",
    "\n",
    "---\n"
   ]
  },
  {
   "cell_type": "markdown",
   "id": "0c516c34",
   "metadata": {
    "papermill": {
     "duration": 0.02483,
     "end_time": "2022-05-09T20:42:26.153890",
     "exception": false,
     "start_time": "2022-05-09T20:42:26.129060",
     "status": "completed"
    },
    "tags": []
   },
   "source": [
    "In this exercise, you'll put to work what you have learned about booleans and conditionals.\n",
    "\n",
    "To get started, **run the setup code below** before writing your own code (and if you leave this notebook and come back later, don't forget to run the setup code again)."
   ]
  },
  {
   "cell_type": "code",
   "execution_count": 1,
   "id": "bfe083d5",
   "metadata": {
    "execution": {
     "iopub.execute_input": "2022-05-09T20:42:26.207347Z",
     "iopub.status.busy": "2022-05-09T20:42:26.206896Z",
     "iopub.status.idle": "2022-05-09T20:42:26.254455Z",
     "shell.execute_reply": "2022-05-09T20:42:26.253310Z"
    },
    "papermill": {
     "duration": 0.077391,
     "end_time": "2022-05-09T20:42:26.256994",
     "exception": false,
     "start_time": "2022-05-09T20:42:26.179603",
     "status": "completed"
    },
    "tags": []
   },
   "outputs": [
    {
     "name": "stdout",
     "output_type": "stream",
     "text": [
      "Setup complete.\n"
     ]
    }
   ],
   "source": [
    "from learntools.core import binder; binder.bind(globals())\n",
    "from learntools.python.ex3 import *\n",
    "print('Setup complete.')"
   ]
  },
  {
   "cell_type": "markdown",
   "id": "6fe07578",
   "metadata": {
    "papermill": {
     "duration": 0.026403,
     "end_time": "2022-05-09T20:42:26.310335",
     "exception": false,
     "start_time": "2022-05-09T20:42:26.283932",
     "status": "completed"
    },
    "tags": []
   },
   "source": [
    "# 1.\n",
    "\n",
    "Many programming languages have [`sign`](https://en.wikipedia.org/wiki/Sign_function) available as a built-in function. Python doesn't, but we can define our own!\n",
    "\n",
    "In the cell below, define a function called `sign` which takes a numerical argument and returns -1 if it's negative, 1 if it's positive, and 0 if it's 0."
   ]
  },
  {
   "cell_type": "code",
   "execution_count": 2,
   "id": "478525f9",
   "metadata": {
    "execution": {
     "iopub.execute_input": "2022-05-09T20:42:26.369769Z",
     "iopub.status.busy": "2022-05-09T20:42:26.369096Z",
     "iopub.status.idle": "2022-05-09T20:42:26.380447Z",
     "shell.execute_reply": "2022-05-09T20:42:26.379871Z"
    },
    "papermill": {
     "duration": 0.047706,
     "end_time": "2022-05-09T20:42:26.384673",
     "exception": false,
     "start_time": "2022-05-09T20:42:26.336967",
     "status": "completed"
    },
    "tags": []
   },
   "outputs": [
    {
     "data": {
      "application/javascript": [
       "parent.postMessage({\"jupyterEvent\": \"custom.exercise_interaction\", \"data\": {\"outcomeType\": 1, \"valueTowardsCompletion\": 0.2, \"interactionType\": 1, \"questionType\": 2, \"questionId\": \"1_SignFunctionProblem\", \"learnToolsVersion\": \"0.3.4\", \"failureMessage\": \"\", \"exceptionClass\": \"\", \"trace\": \"\"}}, \"*\")"
      ],
      "text/plain": [
       "<IPython.core.display.Javascript object>"
      ]
     },
     "metadata": {},
     "output_type": "display_data"
    },
    {
     "data": {
      "text/markdown": [
       "<span style=\"color:#33cc33\">Correct</span>"
      ],
      "text/plain": [
       "Correct"
      ]
     },
     "metadata": {},
     "output_type": "display_data"
    }
   ],
   "source": [
    "# Your code goes here. Define a function called 'sign'\n",
    "def sign( x):\n",
    "    if x < 0 :\n",
    "        return -1\n",
    "    elif x>0:\n",
    "        return 1\n",
    "    else:\n",
    "        return 0\n",
    "# Check your answer\n",
    "q1.check()"
   ]
  },
  {
   "cell_type": "code",
   "execution_count": 3,
   "id": "35d1b6b6",
   "metadata": {
    "execution": {
     "iopub.execute_input": "2022-05-09T20:42:26.447270Z",
     "iopub.status.busy": "2022-05-09T20:42:26.446746Z",
     "iopub.status.idle": "2022-05-09T20:42:26.451689Z",
     "shell.execute_reply": "2022-05-09T20:42:26.450627Z"
    },
    "papermill": {
     "duration": 0.035848,
     "end_time": "2022-05-09T20:42:26.453574",
     "exception": false,
     "start_time": "2022-05-09T20:42:26.417726",
     "status": "completed"
    },
    "tags": []
   },
   "outputs": [],
   "source": [
    "#q1.solution()"
   ]
  },
  {
   "cell_type": "markdown",
   "id": "5d884c4b",
   "metadata": {
    "papermill": {
     "duration": 0.028663,
     "end_time": "2022-05-09T20:42:26.511176",
     "exception": false,
     "start_time": "2022-05-09T20:42:26.482513",
     "status": "completed"
    },
    "tags": []
   },
   "source": [
    "# 2.\n",
    "\n",
    "We've decided to add \"logging\" to our `to_smash` function from the previous exercise."
   ]
  },
  {
   "cell_type": "code",
   "execution_count": 4,
   "id": "e1e0e34a",
   "metadata": {
    "execution": {
     "iopub.execute_input": "2022-05-09T20:42:26.567276Z",
     "iopub.status.busy": "2022-05-09T20:42:26.566783Z",
     "iopub.status.idle": "2022-05-09T20:42:26.573409Z",
     "shell.execute_reply": "2022-05-09T20:42:26.572502Z"
    },
    "papermill": {
     "duration": 0.03584,
     "end_time": "2022-05-09T20:42:26.575130",
     "exception": false,
     "start_time": "2022-05-09T20:42:26.539290",
     "status": "completed"
    },
    "tags": []
   },
   "outputs": [
    {
     "name": "stdout",
     "output_type": "stream",
     "text": [
      "Splitting 91 candies\n"
     ]
    },
    {
     "data": {
      "text/plain": [
       "1"
      ]
     },
     "execution_count": 4,
     "metadata": {},
     "output_type": "execute_result"
    }
   ],
   "source": [
    "def to_smash(total_candies):\n",
    "    \"\"\"Return the number of leftover candies that must be smashed after distributing\n",
    "    the given number of candies evenly between 3 friends.\n",
    "    \n",
    "    >>> to_smash(91)\n",
    "    1\n",
    "    \"\"\"\n",
    "    print(\"Splitting\", total_candies, \"candies\")\n",
    "    return total_candies % 3\n",
    "\n",
    "to_smash(91)"
   ]
  },
  {
   "cell_type": "markdown",
   "id": "75e27a8c",
   "metadata": {
    "papermill": {
     "duration": 0.028308,
     "end_time": "2022-05-09T20:42:26.631773",
     "exception": false,
     "start_time": "2022-05-09T20:42:26.603465",
     "status": "completed"
    },
    "tags": []
   },
   "source": [
    "What happens if we call it with `total_candies = 1`?"
   ]
  },
  {
   "cell_type": "code",
   "execution_count": 5,
   "id": "4e59236e",
   "metadata": {
    "execution": {
     "iopub.execute_input": "2022-05-09T20:42:26.688951Z",
     "iopub.status.busy": "2022-05-09T20:42:26.688391Z",
     "iopub.status.idle": "2022-05-09T20:42:26.695275Z",
     "shell.execute_reply": "2022-05-09T20:42:26.694507Z"
    },
    "papermill": {
     "duration": 0.037607,
     "end_time": "2022-05-09T20:42:26.697039",
     "exception": false,
     "start_time": "2022-05-09T20:42:26.659432",
     "status": "completed"
    },
    "tags": []
   },
   "outputs": [
    {
     "name": "stdout",
     "output_type": "stream",
     "text": [
      "Splitting 1 candies\n"
     ]
    },
    {
     "data": {
      "text/plain": [
       "1"
      ]
     },
     "execution_count": 5,
     "metadata": {},
     "output_type": "execute_result"
    }
   ],
   "source": [
    "to_smash(1)"
   ]
  },
  {
   "cell_type": "markdown",
   "id": "ccd793a5",
   "metadata": {
    "papermill": {
     "duration": 0.027949,
     "end_time": "2022-05-09T20:42:26.753918",
     "exception": false,
     "start_time": "2022-05-09T20:42:26.725969",
     "status": "completed"
    },
    "tags": []
   },
   "source": [
    "That isn't great grammar!\n",
    "\n",
    "Modify the definition in the cell below to correct the grammar of our print statement. (If there's only one candy, we should use the singular \"candy\" instead of the plural \"candies\")"
   ]
  },
  {
   "cell_type": "code",
   "execution_count": 6,
   "id": "247fdcff",
   "metadata": {
    "execution": {
     "iopub.execute_input": "2022-05-09T20:42:26.812218Z",
     "iopub.status.busy": "2022-05-09T20:42:26.811671Z",
     "iopub.status.idle": "2022-05-09T20:42:26.820277Z",
     "shell.execute_reply": "2022-05-09T20:42:26.819371Z"
    },
    "papermill": {
     "duration": 0.040368,
     "end_time": "2022-05-09T20:42:26.822216",
     "exception": false,
     "start_time": "2022-05-09T20:42:26.781848",
     "status": "completed"
    },
    "tags": []
   },
   "outputs": [
    {
     "name": "stdout",
     "output_type": "stream",
     "text": [
      "Splitting 91 candy\n",
      "Splitting 1 candy\n"
     ]
    },
    {
     "data": {
      "text/plain": [
       "1"
      ]
     },
     "execution_count": 6,
     "metadata": {},
     "output_type": "execute_result"
    }
   ],
   "source": [
    "def to_smash(total_candies):\n",
    "    \"\"\"Return the number of leftover candies that must be smashed after distributing\n",
    "    the given number of candies evenly between 3 friends.\n",
    "    \n",
    "    >>> to_smash(91)\n",
    "    1\n",
    "    \"\"\"\n",
    "    if total_candies % 3 == 1:\n",
    "        print(\"Splitting\", total_candies, \"candy\")\n",
    "    else: \n",
    "        print(\"Splitting\", total_candies, \"candies\")\n",
    "        \n",
    "    return total_candies % 3\n",
    "\n",
    "to_smash(91)\n",
    "to_smash(1)"
   ]
  },
  {
   "cell_type": "markdown",
   "id": "a4924c4f",
   "metadata": {
    "papermill": {
     "duration": 0.028025,
     "end_time": "2022-05-09T20:42:26.878827",
     "exception": false,
     "start_time": "2022-05-09T20:42:26.850802",
     "status": "completed"
    },
    "tags": []
   },
   "source": [
    "To get credit for completing this problem, and to see the official answer, run the code cell below."
   ]
  },
  {
   "cell_type": "code",
   "execution_count": 7,
   "id": "a2fb655a",
   "metadata": {
    "execution": {
     "iopub.execute_input": "2022-05-09T20:42:26.938430Z",
     "iopub.status.busy": "2022-05-09T20:42:26.937971Z",
     "iopub.status.idle": "2022-05-09T20:42:26.944805Z",
     "shell.execute_reply": "2022-05-09T20:42:26.943957Z"
    },
    "papermill": {
     "duration": 0.038062,
     "end_time": "2022-05-09T20:42:26.946490",
     "exception": false,
     "start_time": "2022-05-09T20:42:26.908428",
     "status": "completed"
    },
    "tags": []
   },
   "outputs": [
    {
     "data": {
      "application/javascript": [
       "parent.postMessage({\"jupyterEvent\": \"custom.exercise_interaction\", \"data\": {\"interactionType\": 3, \"questionType\": 4, \"questionId\": \"2_PluralizationProblem\", \"learnToolsVersion\": \"0.3.4\", \"valueTowardsCompletion\": 0.0, \"failureMessage\": \"\", \"exceptionClass\": \"\", \"trace\": \"\", \"outcomeType\": 4}}, \"*\")"
      ],
      "text/plain": [
       "<IPython.core.display.Javascript object>"
      ]
     },
     "metadata": {},
     "output_type": "display_data"
    },
    {
     "data": {
      "text/markdown": [
       "<span style=\"color:#33cc99\">Solution:</span> A straightforward (and totally fine) solution is to replace the original `print` call with:\n",
       "\n",
       "```python\n",
       "if total_candies == 1:\n",
       "    print(\"Splitting 1 candy\")\n",
       "else:\n",
       "    print(\"Splitting\", total_candies, \"candies\")\n",
       "```\n",
       "\n",
       "Here's a slightly more succinct solution using a conditional expression:\n",
       "\n",
       "```python\n",
       "print(\"Splitting\", total_candies, \"candy\" if total_candies == 1 else \"candies\")\n",
       "```"
      ],
      "text/plain": [
       "Solution: A straightforward (and totally fine) solution is to replace the original `print` call with:\n",
       "\n",
       "```python\n",
       "if total_candies == 1:\n",
       "    print(\"Splitting 1 candy\")\n",
       "else:\n",
       "    print(\"Splitting\", total_candies, \"candies\")\n",
       "```\n",
       "\n",
       "Here's a slightly more succinct solution using a conditional expression:\n",
       "\n",
       "```python\n",
       "print(\"Splitting\", total_candies, \"candy\" if total_candies == 1 else \"candies\")\n",
       "```"
      ]
     },
     "metadata": {},
     "output_type": "display_data"
    }
   ],
   "source": [
    "# Check your answer (Run this code cell to receive credit!)\n",
    "q2.solution()"
   ]
  },
  {
   "cell_type": "markdown",
   "id": "c8c71b71",
   "metadata": {
    "papermill": {
     "duration": 0.028821,
     "end_time": "2022-05-09T20:42:27.004630",
     "exception": false,
     "start_time": "2022-05-09T20:42:26.975809",
     "status": "completed"
    },
    "tags": []
   },
   "source": [
    "# 3. <span title=\"A bit spicy\" style=\"color: darkgreen \">🌶️</span>\n",
    "\n",
    "In the tutorial, we talked about deciding whether we're prepared for the weather. I said that I'm safe from today's weather if...\n",
    "- I have an umbrella...\n",
    "- or if the rain isn't too heavy and I have a hood...\n",
    "- otherwise, I'm still fine unless it's raining *and* it's a workday\n",
    "\n",
    "The function below uses our first attempt at turning this logic into a Python expression. I claimed that there was a bug in that code. Can you find it?\n",
    "\n",
    "To prove that `prepared_for_weather` is buggy, come up with a set of inputs where either:\n",
    "- the function returns `False` (but should have returned `True`), or\n",
    "- the function returned `True` (but should have returned `False`).\n",
    "\n",
    "To get credit for completing this question, your code should return a <font color='#33cc33'>Correct</font> result."
   ]
  },
  {
   "cell_type": "code",
   "execution_count": 8,
   "id": "f6b03172",
   "metadata": {
    "execution": {
     "iopub.execute_input": "2022-05-09T20:42:27.066549Z",
     "iopub.status.busy": "2022-05-09T20:42:27.065852Z",
     "iopub.status.idle": "2022-05-09T20:42:27.076234Z",
     "shell.execute_reply": "2022-05-09T20:42:27.075206Z"
    },
    "papermill": {
     "duration": 0.043584,
     "end_time": "2022-05-09T20:42:27.078378",
     "exception": false,
     "start_time": "2022-05-09T20:42:27.034794",
     "status": "completed"
    },
    "tags": []
   },
   "outputs": [
    {
     "name": "stdout",
     "output_type": "stream",
     "text": [
      "False\n"
     ]
    },
    {
     "data": {
      "application/javascript": [
       "parent.postMessage({\"jupyterEvent\": \"custom.exercise_interaction\", \"data\": {\"outcomeType\": 1, \"valueTowardsCompletion\": 0.2, \"interactionType\": 1, \"questionType\": 1, \"questionId\": \"3_WeatherDebug\", \"learnToolsVersion\": \"0.3.4\", \"failureMessage\": \"\", \"exceptionClass\": \"\", \"trace\": \"\"}}, \"*\")"
      ],
      "text/plain": [
       "<IPython.core.display.Javascript object>"
      ]
     },
     "metadata": {},
     "output_type": "display_data"
    },
    {
     "data": {
      "text/markdown": [
       "<span style=\"color:#33cc33\">Correct:</span> \n",
       "\n",
       "One example of a failing test case is:\n",
       "\n",
       "```python\n",
       "have_umbrella = False\n",
       "rain_level = 0.0\n",
       "have_hood = False\n",
       "is_workday = False\n",
       "```\n",
       "\n",
       "Clearly we're prepared for the weather in this case. It's not raining. Not only that, it's not a workday, so we don't even need to leave the house! But our function will return False on these inputs.\n",
       "\n",
       "The key problem is that Python implictly parenthesizes the last part as:\n",
       "\n",
       "```python\n",
       "(not (rain_level > 0)) and is_workday\n",
       "```\n",
       "\n",
       "Whereas what we were trying to express would look more like:\n",
       "\n",
       "```python\n",
       "not (rain_level > 0 and is_workday)\n",
       "```\n"
      ],
      "text/plain": [
       "Correct: \n",
       "\n",
       "One example of a failing test case is:\n",
       "\n",
       "```python\n",
       "have_umbrella = False\n",
       "rain_level = 0.0\n",
       "have_hood = False\n",
       "is_workday = False\n",
       "```\n",
       "\n",
       "Clearly we're prepared for the weather in this case. It's not raining. Not only that, it's not a workday, so we don't even need to leave the house! But our function will return False on these inputs.\n",
       "\n",
       "The key problem is that Python implictly parenthesizes the last part as:\n",
       "\n",
       "```python\n",
       "(not (rain_level > 0)) and is_workday\n",
       "```\n",
       "\n",
       "Whereas what we were trying to express would look more like:\n",
       "\n",
       "```python\n",
       "not (rain_level > 0 and is_workday)\n",
       "```"
      ]
     },
     "metadata": {},
     "output_type": "display_data"
    }
   ],
   "source": [
    "def prepared_for_weather(have_umbrella, rain_level, have_hood, is_workday):\n",
    "    # Don't change this code. Our goal is just to find the bug, not fix it!\n",
    "    return have_umbrella or rain_level < 5 and have_hood or not rain_level > 0 and is_workday\n",
    "\n",
    "# Change the values of these inputs so they represent a case where prepared_for_weather\n",
    "# returns the wrong answer.\n",
    "have_umbrella = False\n",
    "rain_level = 4\n",
    "have_hood = False\n",
    "is_workday = False\n",
    "\n",
    "# Check what the function returns given the current values of the variables above\n",
    "actual = prepared_for_weather(have_umbrella, rain_level, have_hood, is_workday)\n",
    "print(actual)\n",
    "\n",
    "# Check your answer\n",
    "q3.check()"
   ]
  },
  {
   "cell_type": "code",
   "execution_count": 9,
   "id": "f7b77477",
   "metadata": {
    "execution": {
     "iopub.execute_input": "2022-05-09T20:42:27.141744Z",
     "iopub.status.busy": "2022-05-09T20:42:27.141478Z",
     "iopub.status.idle": "2022-05-09T20:42:27.144885Z",
     "shell.execute_reply": "2022-05-09T20:42:27.144013Z"
    },
    "papermill": {
     "duration": 0.037147,
     "end_time": "2022-05-09T20:42:27.146728",
     "exception": false,
     "start_time": "2022-05-09T20:42:27.109581",
     "status": "completed"
    },
    "tags": []
   },
   "outputs": [],
   "source": [
    "#q3.hint()\n",
    "#q3.solution()"
   ]
  },
  {
   "cell_type": "markdown",
   "id": "ff530959",
   "metadata": {
    "papermill": {
     "duration": 0.030121,
     "end_time": "2022-05-09T20:42:27.207667",
     "exception": false,
     "start_time": "2022-05-09T20:42:27.177546",
     "status": "completed"
    },
    "tags": []
   },
   "source": [
    "# 4.\n",
    "\n",
    "The function `is_negative` below is implemented correctly - it returns True if the given number is negative and False otherwise.\n",
    "\n",
    "However, it's more verbose than it needs to be. We can actually reduce the number of lines of code in this function by *75%* while keeping the same behaviour. \n",
    "\n",
    "See if you can come up with an equivalent body that uses just **one line** of code, and put it in the function `concise_is_negative`. (HINT: you don't even need Python's ternary syntax)"
   ]
  },
  {
   "cell_type": "code",
   "execution_count": 10,
   "id": "e650bd51",
   "metadata": {
    "execution": {
     "iopub.execute_input": "2022-05-09T20:42:27.270027Z",
     "iopub.status.busy": "2022-05-09T20:42:27.269741Z",
     "iopub.status.idle": "2022-05-09T20:42:27.276882Z",
     "shell.execute_reply": "2022-05-09T20:42:27.276346Z"
    },
    "papermill": {
     "duration": 0.040456,
     "end_time": "2022-05-09T20:42:27.278555",
     "exception": false,
     "start_time": "2022-05-09T20:42:27.238099",
     "status": "completed"
    },
    "tags": []
   },
   "outputs": [
    {
     "data": {
      "application/javascript": [
       "parent.postMessage({\"jupyterEvent\": \"custom.exercise_interaction\", \"data\": {\"outcomeType\": 1, \"valueTowardsCompletion\": 0.2, \"interactionType\": 1, \"questionType\": 2, \"questionId\": \"4_ConciseIsNegative\", \"learnToolsVersion\": \"0.3.4\", \"failureMessage\": \"\", \"exceptionClass\": \"\", \"trace\": \"\"}}, \"*\")"
      ],
      "text/plain": [
       "<IPython.core.display.Javascript object>"
      ]
     },
     "metadata": {},
     "output_type": "display_data"
    },
    {
     "data": {
      "text/markdown": [
       "<span style=\"color:#33cc33\">Correct</span>"
      ],
      "text/plain": [
       "Correct"
      ]
     },
     "metadata": {},
     "output_type": "display_data"
    }
   ],
   "source": [
    "def is_negative(number):\n",
    "    if number < 0:\n",
    "        return True\n",
    "    else:\n",
    "        return False\n",
    "\n",
    "def concise_is_negative(number):\n",
    "    return is_negative(number)==True \n",
    "\n",
    "# Check your answer\n",
    "q4.check()"
   ]
  },
  {
   "cell_type": "code",
   "execution_count": 11,
   "id": "8d08521e",
   "metadata": {
    "execution": {
     "iopub.execute_input": "2022-05-09T20:42:27.343635Z",
     "iopub.status.busy": "2022-05-09T20:42:27.343147Z",
     "iopub.status.idle": "2022-05-09T20:42:27.349323Z",
     "shell.execute_reply": "2022-05-09T20:42:27.348765Z"
    },
    "papermill": {
     "duration": 0.040823,
     "end_time": "2022-05-09T20:42:27.350864",
     "exception": false,
     "start_time": "2022-05-09T20:42:27.310041",
     "status": "completed"
    },
    "tags": []
   },
   "outputs": [
    {
     "data": {
      "application/javascript": [
       "parent.postMessage({\"jupyterEvent\": \"custom.exercise_interaction\", \"data\": {\"interactionType\": 2, \"questionType\": 2, \"questionId\": \"4_ConciseIsNegative\", \"learnToolsVersion\": \"0.3.4\", \"valueTowardsCompletion\": 0.0, \"failureMessage\": \"\", \"exceptionClass\": \"\", \"trace\": \"\", \"outcomeType\": 4}}, \"*\")"
      ],
      "text/plain": [
       "<IPython.core.display.Javascript object>"
      ]
     },
     "metadata": {},
     "output_type": "display_data"
    },
    {
     "data": {
      "text/markdown": [
       "<span style=\"color:#3366cc\">Hint:</span> If the value of the expression `number < 0` is `True`, then we return `True`. If it's `False`, then we return `False`..."
      ],
      "text/plain": [
       "Hint: If the value of the expression `number < 0` is `True`, then we return `True`. If it's `False`, then we return `False`..."
      ]
     },
     "metadata": {},
     "output_type": "display_data"
    }
   ],
   "source": [
    "q4.hint()\n",
    "#q4.solution()"
   ]
  },
  {
   "cell_type": "markdown",
   "id": "924ab965",
   "metadata": {
    "papermill": {
     "duration": 0.032252,
     "end_time": "2022-05-09T20:42:27.415639",
     "exception": false,
     "start_time": "2022-05-09T20:42:27.383387",
     "status": "completed"
    },
    "tags": []
   },
   "source": [
    "# 5a.\n",
    "\n",
    "The boolean variables `ketchup`, `mustard` and `onion` represent whether a customer wants a particular topping on their hot dog. We want to implement a number of boolean functions that correspond to some yes-or-no questions about the customer's order. For example:"
   ]
  },
  {
   "cell_type": "code",
   "execution_count": 12,
   "id": "80932932",
   "metadata": {
    "execution": {
     "iopub.execute_input": "2022-05-09T20:42:27.484147Z",
     "iopub.status.busy": "2022-05-09T20:42:27.483231Z",
     "iopub.status.idle": "2022-05-09T20:42:27.487241Z",
     "shell.execute_reply": "2022-05-09T20:42:27.486653Z"
    },
    "papermill": {
     "duration": 0.040224,
     "end_time": "2022-05-09T20:42:27.489005",
     "exception": false,
     "start_time": "2022-05-09T20:42:27.448781",
     "status": "completed"
    },
    "tags": []
   },
   "outputs": [],
   "source": [
    "def onionless(ketchup, mustard, onion):\n",
    "    \"\"\"Return whether the customer doesn't want onions.\n",
    "    \"\"\"\n",
    "    return not onion"
   ]
  },
  {
   "cell_type": "code",
   "execution_count": 13,
   "id": "31303537",
   "metadata": {
    "execution": {
     "iopub.execute_input": "2022-05-09T20:42:27.555980Z",
     "iopub.status.busy": "2022-05-09T20:42:27.555257Z",
     "iopub.status.idle": "2022-05-09T20:42:27.562626Z",
     "shell.execute_reply": "2022-05-09T20:42:27.561955Z"
    },
    "papermill": {
     "duration": 0.042542,
     "end_time": "2022-05-09T20:42:27.564613",
     "exception": false,
     "start_time": "2022-05-09T20:42:27.522071",
     "status": "completed"
    },
    "tags": []
   },
   "outputs": [
    {
     "data": {
      "application/javascript": [
       "parent.postMessage({\"jupyterEvent\": \"custom.exercise_interaction\", \"data\": {\"outcomeType\": 1, \"valueTowardsCompletion\": 0.2, \"interactionType\": 1, \"questionType\": 2, \"questionId\": \"5.1_AllToppings\", \"learnToolsVersion\": \"0.3.4\", \"failureMessage\": \"\", \"exceptionClass\": \"\", \"trace\": \"\"}}, \"*\")"
      ],
      "text/plain": [
       "<IPython.core.display.Javascript object>"
      ]
     },
     "metadata": {},
     "output_type": "display_data"
    },
    {
     "data": {
      "text/markdown": [
       "<span style=\"color:#33cc33\">Correct</span>"
      ],
      "text/plain": [
       "Correct"
      ]
     },
     "metadata": {},
     "output_type": "display_data"
    }
   ],
   "source": [
    "def wants_all_toppings(ketchup, mustard, onion):\n",
    "    \"\"\"Return whether the customer wants \"the works\" (all 3 toppings)\n",
    "    \"\"\"\n",
    "    return ketchup and mustard and onion\n",
    "# Check your answer\n",
    "q5.a.check()"
   ]
  },
  {
   "cell_type": "code",
   "execution_count": 14,
   "id": "6e2959f1",
   "metadata": {
    "execution": {
     "iopub.execute_input": "2022-05-09T20:42:27.632559Z",
     "iopub.status.busy": "2022-05-09T20:42:27.632240Z",
     "iopub.status.idle": "2022-05-09T20:42:27.638807Z",
     "shell.execute_reply": "2022-05-09T20:42:27.638024Z"
    },
    "papermill": {
     "duration": 0.042559,
     "end_time": "2022-05-09T20:42:27.640606",
     "exception": false,
     "start_time": "2022-05-09T20:42:27.598047",
     "status": "completed"
    },
    "tags": []
   },
   "outputs": [
    {
     "data": {
      "application/javascript": [
       "parent.postMessage({\"jupyterEvent\": \"custom.exercise_interaction\", \"data\": {\"interactionType\": 2, \"questionType\": 2, \"questionId\": \"5.1_AllToppings\", \"learnToolsVersion\": \"0.3.4\", \"valueTowardsCompletion\": 0.0, \"failureMessage\": \"\", \"exceptionClass\": \"\", \"trace\": \"\", \"outcomeType\": 4}}, \"*\")"
      ],
      "text/plain": [
       "<IPython.core.display.Javascript object>"
      ]
     },
     "metadata": {},
     "output_type": "display_data"
    },
    {
     "data": {
      "text/markdown": [
       "<span style=\"color:#3366cc\">Hint:</span> You'll need to use the `and` operator."
      ],
      "text/plain": [
       "Hint: You'll need to use the `and` operator."
      ]
     },
     "metadata": {},
     "output_type": "display_data"
    }
   ],
   "source": [
    "q5.a.hint()\n",
    "#q5.a.solution()"
   ]
  },
  {
   "cell_type": "markdown",
   "id": "827a4d1e",
   "metadata": {
    "papermill": {
     "duration": 0.033721,
     "end_time": "2022-05-09T20:42:27.708529",
     "exception": false,
     "start_time": "2022-05-09T20:42:27.674808",
     "status": "completed"
    },
    "tags": []
   },
   "source": [
    "# 5b.\n",
    "\n",
    "For the next function, fill in the body to match the English description in the docstring. "
   ]
  },
  {
   "cell_type": "code",
   "execution_count": 15,
   "id": "3a8ecad5",
   "metadata": {
    "execution": {
     "iopub.execute_input": "2022-05-09T20:42:27.799255Z",
     "iopub.status.busy": "2022-05-09T20:42:27.798672Z",
     "iopub.status.idle": "2022-05-09T20:42:27.808650Z",
     "shell.execute_reply": "2022-05-09T20:42:27.807884Z"
    },
    "papermill": {
     "duration": 0.060037,
     "end_time": "2022-05-09T20:42:27.811211",
     "exception": false,
     "start_time": "2022-05-09T20:42:27.751174",
     "status": "completed"
    },
    "tags": []
   },
   "outputs": [
    {
     "data": {
      "application/javascript": [
       "parent.postMessage({\"jupyterEvent\": \"custom.exercise_interaction\", \"data\": {\"outcomeType\": 1, \"valueTowardsCompletion\": 0.2, \"interactionType\": 1, \"questionType\": 2, \"questionId\": \"5.2_PlainDog\", \"learnToolsVersion\": \"0.3.4\", \"failureMessage\": \"\", \"exceptionClass\": \"\", \"trace\": \"\"}}, \"*\")"
      ],
      "text/plain": [
       "<IPython.core.display.Javascript object>"
      ]
     },
     "metadata": {},
     "output_type": "display_data"
    },
    {
     "data": {
      "text/markdown": [
       "<span style=\"color:#33cc33\">Correct:</span> \n",
       "\n",
       "One solution looks like:\n",
       "```python\n",
       "return not ketchup and not mustard and not onion\n",
       "```\n",
       "\n",
       "We can also [\"factor out\" the nots](https://en.wikipedia.org/wiki/De_Morgan%27s_laws) to get:\n",
       "\n",
       "```python\n",
       "return not (ketchup or mustard or onion)\n",
       "```"
      ],
      "text/plain": [
       "Correct: \n",
       "\n",
       "One solution looks like:\n",
       "```python\n",
       "return not ketchup and not mustard and not onion\n",
       "```\n",
       "\n",
       "We can also [\"factor out\" the nots](https://en.wikipedia.org/wiki/De_Morgan%27s_laws) to get:\n",
       "\n",
       "```python\n",
       "return not (ketchup or mustard or onion)\n",
       "```"
      ]
     },
     "metadata": {},
     "output_type": "display_data"
    }
   ],
   "source": [
    "def wants_plain_hotdog(ketchup, mustard, onion):\n",
    "    \"\"\"Return whether the customer wants a plain hot dog with no toppings.\n",
    "    \"\"\"\n",
    "    return  not (ketchup or mustard or onion)\n",
    "             \n",
    "# Check your answer\n",
    "q5.b.check()"
   ]
  },
  {
   "cell_type": "code",
   "execution_count": 16,
   "id": "bc5f2369",
   "metadata": {
    "execution": {
     "iopub.execute_input": "2022-05-09T20:42:27.886816Z",
     "iopub.status.busy": "2022-05-09T20:42:27.886026Z",
     "iopub.status.idle": "2022-05-09T20:42:27.893471Z",
     "shell.execute_reply": "2022-05-09T20:42:27.892642Z"
    },
    "papermill": {
     "duration": 0.044945,
     "end_time": "2022-05-09T20:42:27.895111",
     "exception": false,
     "start_time": "2022-05-09T20:42:27.850166",
     "status": "completed"
    },
    "tags": []
   },
   "outputs": [
    {
     "data": {
      "application/javascript": [
       "parent.postMessage({\"jupyterEvent\": \"custom.exercise_interaction\", \"data\": {\"interactionType\": 2, \"questionType\": 2, \"questionId\": \"5.2_PlainDog\", \"learnToolsVersion\": \"0.3.4\", \"valueTowardsCompletion\": 0.0, \"failureMessage\": \"\", \"exceptionClass\": \"\", \"trace\": \"\", \"outcomeType\": 4}}, \"*\")"
      ],
      "text/plain": [
       "<IPython.core.display.Javascript object>"
      ]
     },
     "metadata": {},
     "output_type": "display_data"
    },
    {
     "data": {
      "text/markdown": [
       "<span style=\"color:#3366cc\">Hint:</span> You'll need to use the `not` operator."
      ],
      "text/plain": [
       "Hint: You'll need to use the `not` operator."
      ]
     },
     "metadata": {},
     "output_type": "display_data"
    }
   ],
   "source": [
    "q5.b.hint()\n",
    "#q5.b.solution()"
   ]
  },
  {
   "cell_type": "markdown",
   "id": "330b61f5",
   "metadata": {
    "papermill": {
     "duration": 0.035591,
     "end_time": "2022-05-09T20:42:27.966992",
     "exception": false,
     "start_time": "2022-05-09T20:42:27.931401",
     "status": "completed"
    },
    "tags": []
   },
   "source": [
    "# 5c.\n",
    "\n",
    "You know what to do: for the next function, fill in the body to match the English description in the docstring."
   ]
  },
  {
   "cell_type": "code",
   "execution_count": 17,
   "id": "179fc6c3",
   "metadata": {
    "execution": {
     "iopub.execute_input": "2022-05-09T20:42:28.040365Z",
     "iopub.status.busy": "2022-05-09T20:42:28.040058Z",
     "iopub.status.idle": "2022-05-09T20:42:28.046811Z",
     "shell.execute_reply": "2022-05-09T20:42:28.046199Z"
    },
    "papermill": {
     "duration": 0.045712,
     "end_time": "2022-05-09T20:42:28.048399",
     "exception": false,
     "start_time": "2022-05-09T20:42:28.002687",
     "status": "completed"
    },
    "tags": []
   },
   "outputs": [
    {
     "data": {
      "application/javascript": [
       "parent.postMessage({\"jupyterEvent\": \"custom.exercise_interaction\", \"data\": {\"outcomeType\": 1, \"valueTowardsCompletion\": 0.2, \"interactionType\": 1, \"questionType\": 2, \"questionId\": \"5.3_OneSauce\", \"learnToolsVersion\": \"0.3.4\", \"failureMessage\": \"\", \"exceptionClass\": \"\", \"trace\": \"\"}}, \"*\")"
      ],
      "text/plain": [
       "<IPython.core.display.Javascript object>"
      ]
     },
     "metadata": {},
     "output_type": "display_data"
    },
    {
     "data": {
      "text/markdown": [
       "<span style=\"color:#33cc33\">Correct</span>"
      ],
      "text/plain": [
       "Correct"
      ]
     },
     "metadata": {},
     "output_type": "display_data"
    }
   ],
   "source": [
    "def exactly_one_sauce(ketchup, mustard, onion):\n",
    "    \"\"\"Return whether the customer wants either ketchup or mustard, but not both.\n",
    "    (You may be familiar with this operation under the name \"exclusive or\")\n",
    "    \"\"\"\n",
    "    return (ketchup and not mustard) or (not ketchup and mustard)\n",
    "\n",
    "# Check your answer\n",
    "q5.c.check()"
   ]
  },
  {
   "cell_type": "code",
   "execution_count": 18,
   "id": "8d082ff9",
   "metadata": {
    "execution": {
     "iopub.execute_input": "2022-05-09T20:42:28.125740Z",
     "iopub.status.busy": "2022-05-09T20:42:28.125466Z",
     "iopub.status.idle": "2022-05-09T20:42:28.131072Z",
     "shell.execute_reply": "2022-05-09T20:42:28.130585Z"
    },
    "papermill": {
     "duration": 0.047581,
     "end_time": "2022-05-09T20:42:28.132602",
     "exception": false,
     "start_time": "2022-05-09T20:42:28.085021",
     "status": "completed"
    },
    "tags": []
   },
   "outputs": [
    {
     "data": {
      "application/javascript": [
       "parent.postMessage({\"jupyterEvent\": \"custom.exercise_interaction\", \"data\": {\"interactionType\": 2, \"questionType\": 2, \"questionId\": \"5.3_OneSauce\", \"learnToolsVersion\": \"0.3.4\", \"valueTowardsCompletion\": 0.0, \"failureMessage\": \"\", \"exceptionClass\": \"\", \"trace\": \"\", \"outcomeType\": 4}}, \"*\")"
      ],
      "text/plain": [
       "<IPython.core.display.Javascript object>"
      ]
     },
     "metadata": {},
     "output_type": "display_data"
    },
    {
     "data": {
      "text/markdown": [
       "<span style=\"color:#3366cc\">Hint:</span> There are exactly two ways to set ketchup and mustard to make this true. What are they?"
      ],
      "text/plain": [
       "Hint: There are exactly two ways to set ketchup and mustard to make this true. What are they?"
      ]
     },
     "metadata": {},
     "output_type": "display_data"
    }
   ],
   "source": [
    "q5.c.hint()\n",
    "#q5.c.solution()"
   ]
  },
  {
   "cell_type": "markdown",
   "id": "866b8102",
   "metadata": {
    "papermill": {
     "duration": 0.037187,
     "end_time": "2022-05-09T20:42:28.207244",
     "exception": false,
     "start_time": "2022-05-09T20:42:28.170057",
     "status": "completed"
    },
    "tags": []
   },
   "source": [
    "# 6. <span title=\"A bit spicy\" style=\"color: darkgreen \">🌶️</span>\n",
    "\n",
    "We’ve seen that calling `bool()` on an integer returns `False` if it’s equal to 0 and `True` otherwise. What happens if we call `int()` on a bool? Try it out in the notebook cell below.\n",
    "\n",
    "Can you take advantage of this to write a succinct function that corresponds to the English sentence \"does the customer want exactly one topping?\"?"
   ]
  },
  {
   "cell_type": "code",
   "execution_count": 19,
   "id": "95a6b76f",
   "metadata": {
    "execution": {
     "iopub.execute_input": "2022-05-09T20:42:28.285664Z",
     "iopub.status.busy": "2022-05-09T20:42:28.284895Z",
     "iopub.status.idle": "2022-05-09T20:42:28.292091Z",
     "shell.execute_reply": "2022-05-09T20:42:28.291533Z"
    },
    "papermill": {
     "duration": 0.048003,
     "end_time": "2022-05-09T20:42:28.293848",
     "exception": false,
     "start_time": "2022-05-09T20:42:28.245845",
     "status": "completed"
    },
    "tags": []
   },
   "outputs": [
    {
     "data": {
      "application/javascript": [
       "parent.postMessage({\"jupyterEvent\": \"custom.exercise_interaction\", \"data\": {\"outcomeType\": 4, \"interactionType\": 1, \"questionType\": 2, \"questionId\": \"6_OneTopping\", \"learnToolsVersion\": \"0.3.4\", \"valueTowardsCompletion\": 0.0, \"failureMessage\": \"\", \"exceptionClass\": \"\", \"trace\": \"\"}}, \"*\")"
      ],
      "text/plain": [
       "<IPython.core.display.Javascript object>"
      ]
     },
     "metadata": {},
     "output_type": "display_data"
    },
    {
     "data": {
      "text/markdown": [
       "<span style=\"color:#ccaa33\">Check:</span> When you've updated the starter code, `check()` will tell you whether your code is correct. "
      ],
      "text/plain": [
       "Check: When you've updated the starter code, `check()` will tell you whether your code is correct. "
      ]
     },
     "metadata": {},
     "output_type": "display_data"
    }
   ],
   "source": [
    "def exactly_one_topping(ketchup, mustard, onion):\n",
    "    \"\"\"Return whether the customer wants exactly one of the three available toppings\n",
    "    on their hot dog.\n",
    "    \"\"\"\n",
    "    pass\n",
    "\n",
    "# Check your answer\n",
    "q6.check()"
   ]
  },
  {
   "cell_type": "code",
   "execution_count": 20,
   "id": "3d87a662",
   "metadata": {
    "execution": {
     "iopub.execute_input": "2022-05-09T20:42:28.372383Z",
     "iopub.status.busy": "2022-05-09T20:42:28.371876Z",
     "iopub.status.idle": "2022-05-09T20:42:28.375448Z",
     "shell.execute_reply": "2022-05-09T20:42:28.374607Z"
    },
    "papermill": {
     "duration": 0.044648,
     "end_time": "2022-05-09T20:42:28.377155",
     "exception": false,
     "start_time": "2022-05-09T20:42:28.332507",
     "status": "completed"
    },
    "tags": []
   },
   "outputs": [],
   "source": [
    "#q6.hint()\n",
    "#q6.solution()"
   ]
  },
  {
   "cell_type": "markdown",
   "id": "1510d3dd",
   "metadata": {
    "papermill": {
     "duration": 0.038336,
     "end_time": "2022-05-09T20:42:28.454283",
     "exception": false,
     "start_time": "2022-05-09T20:42:28.415947",
     "status": "completed"
    },
    "tags": []
   },
   "source": [
    "# 7. <span title=\"A bit spicy\" style=\"color: darkgreen \">🌶️</span> (Optional)\n",
    "\n",
    "In this problem we'll be working with a simplified version of [blackjack](https://en.wikipedia.org/wiki/Blackjack) (aka twenty-one). In this version there is one player (who you'll control) and a dealer. Play proceeds as follows:\n",
    "\n",
    "- The player is dealt two face-up cards. The dealer is dealt one face-up card.\n",
    "- The player may ask to be dealt another card ('hit') as many times as they wish. If the sum of their cards exceeds 21, they lose the round immediately.\n",
    "- The dealer then deals additional cards to himself until either:\n",
    "    - the sum of the dealer's cards exceeds 21, in which case the player wins the round\n",
    "    - the sum of the dealer's cards is greater than or equal to 17. If the player's total is greater than the dealer's, the player wins. Otherwise, the dealer wins (even in case of a tie).\n",
    "    \n",
    "When calculating the sum of cards, Jack, Queen, and King count for 10. Aces can count as 1 or 11 (when referring to a player's \"total\" above, we mean the largest total that can be made without exceeding 21. So e.g. A+8 = 19, A+8+8 = 17)\n",
    "\n",
    "For this problem, you'll write a function representing the player's decision-making strategy in this game. We've provided a very unintelligent implementation below:"
   ]
  },
  {
   "cell_type": "code",
   "execution_count": 21,
   "id": "c800d2f6",
   "metadata": {
    "execution": {
     "iopub.execute_input": "2022-05-09T20:42:28.532972Z",
     "iopub.status.busy": "2022-05-09T20:42:28.532719Z",
     "iopub.status.idle": "2022-05-09T20:42:28.536739Z",
     "shell.execute_reply": "2022-05-09T20:42:28.535823Z"
    },
    "papermill": {
     "duration": 0.045556,
     "end_time": "2022-05-09T20:42:28.538423",
     "exception": false,
     "start_time": "2022-05-09T20:42:28.492867",
     "status": "completed"
    },
    "tags": []
   },
   "outputs": [],
   "source": [
    "def should_hit(dealer_total, player_total, player_low_aces, player_high_aces):\n",
    "    \"\"\"Return True if the player should hit (request another card) given the current game\n",
    "    state, or False if the player should stay.\n",
    "    When calculating a hand's total value, we count aces as \"high\" (with value 11) if doing so\n",
    "    doesn't bring the total above 21, otherwise we count them as low (with value 1). \n",
    "    For example, if the player's hand is {A, A, A, 7}, we will count it as 11 + 1 + 1 + 7,\n",
    "    and therefore set player_total=20, player_low_aces=2, player_high_aces=1.\n",
    "    \"\"\"\n",
    "    return False"
   ]
  },
  {
   "cell_type": "markdown",
   "id": "b0523014",
   "metadata": {
    "papermill": {
     "duration": 0.038305,
     "end_time": "2022-05-09T20:42:28.615806",
     "exception": false,
     "start_time": "2022-05-09T20:42:28.577501",
     "status": "completed"
    },
    "tags": []
   },
   "source": [
    "This very conservative agent *always* sticks with the hand of two cards that they're dealt.\n",
    "\n",
    "We'll be simulating games between your player agent and our own dealer agent by calling your function.\n",
    "\n",
    "Try running the function below to see an example of a simulated game:"
   ]
  },
  {
   "cell_type": "code",
   "execution_count": 22,
   "id": "ed383ab7",
   "metadata": {
    "execution": {
     "iopub.execute_input": "2022-05-09T20:42:28.694851Z",
     "iopub.status.busy": "2022-05-09T20:42:28.694311Z",
     "iopub.status.idle": "2022-05-09T20:42:28.700794Z",
     "shell.execute_reply": "2022-05-09T20:42:28.699533Z"
    },
    "papermill": {
     "duration": 0.048187,
     "end_time": "2022-05-09T20:42:28.702631",
     "exception": false,
     "start_time": "2022-05-09T20:42:28.654444",
     "status": "completed"
    },
    "tags": []
   },
   "outputs": [
    {
     "name": "stdout",
     "output_type": "stream",
     "text": [
      "Player starts with K and 9 (total = 19)\n",
      "Dealer starts with 10\n",
      "\n",
      "__Player's turn__\n",
      "Player stays\n",
      "\n",
      "__Dealer's turn__\n",
      "Dealer hits and receives 6. (total = 16)\n",
      "Dealer hits and receives Q. (total = 26)\n",
      "Dealer busts! Player wins.\n"
     ]
    }
   ],
   "source": [
    "q7.simulate_one_game()"
   ]
  },
  {
   "cell_type": "markdown",
   "id": "15a6e906",
   "metadata": {
    "papermill": {
     "duration": 0.040108,
     "end_time": "2022-05-09T20:42:28.782624",
     "exception": false,
     "start_time": "2022-05-09T20:42:28.742516",
     "status": "completed"
    },
    "tags": []
   },
   "source": [
    "The real test of your agent's mettle is their average win rate over many games. Try calling the function below to simulate 50000 games of blackjack (it may take a couple seconds):"
   ]
  },
  {
   "cell_type": "code",
   "execution_count": 23,
   "id": "d4b123ad",
   "metadata": {
    "execution": {
     "iopub.execute_input": "2022-05-09T20:42:28.862896Z",
     "iopub.status.busy": "2022-05-09T20:42:28.862460Z",
     "iopub.status.idle": "2022-05-09T20:42:30.103699Z",
     "shell.execute_reply": "2022-05-09T20:42:30.103016Z"
    },
    "papermill": {
     "duration": 1.283748,
     "end_time": "2022-05-09T20:42:30.105717",
     "exception": false,
     "start_time": "2022-05-09T20:42:28.821969",
     "status": "completed"
    },
    "tags": []
   },
   "outputs": [
    {
     "name": "stdout",
     "output_type": "stream",
     "text": [
      "Player won 19024 out of 50000 games (win rate = 38.0%)\n"
     ]
    }
   ],
   "source": [
    "q7.simulate(n_games=50000)"
   ]
  },
  {
   "cell_type": "markdown",
   "id": "09bef618",
   "metadata": {
    "papermill": {
     "duration": 0.039378,
     "end_time": "2022-05-09T20:42:30.186097",
     "exception": false,
     "start_time": "2022-05-09T20:42:30.146719",
     "status": "completed"
    },
    "tags": []
   },
   "source": [
    "Our dumb agent that completely ignores the game state still manages to win shockingly often!\n",
    "\n",
    "Try adding some more smarts to the `should_hit` function and see how it affects the results."
   ]
  },
  {
   "cell_type": "code",
   "execution_count": 24,
   "id": "218139db",
   "metadata": {
    "execution": {
     "iopub.execute_input": "2022-05-09T20:42:30.272342Z",
     "iopub.status.busy": "2022-05-09T20:42:30.271805Z",
     "iopub.status.idle": "2022-05-09T20:42:31.558613Z",
     "shell.execute_reply": "2022-05-09T20:42:31.557734Z"
    },
    "papermill": {
     "duration": 1.33292,
     "end_time": "2022-05-09T20:42:31.560486",
     "exception": false,
     "start_time": "2022-05-09T20:42:30.227566",
     "status": "completed"
    },
    "tags": []
   },
   "outputs": [
    {
     "name": "stdout",
     "output_type": "stream",
     "text": [
      "Player won 18928 out of 50000 games (win rate = 37.9%)\n"
     ]
    }
   ],
   "source": [
    "def should_hit(dealer_total, player_total, player_low_aces, player_high_aces):\n",
    "    \"\"\"Return True if the player should hit (request another card) given the current game\n",
    "    state, or False if the player should stay.\n",
    "    When calculating a hand's total value, we count aces as \"high\" (with value 11) if doing so\n",
    "    doesn't bring the total above 21, otherwise we count them as low (with value 1). \n",
    "    For example, if the player's hand is {A, A, A, 7}, we will count it as 11 + 1 + 1 + 7,\n",
    "    and therefore set player_total=20, player_low_aces=2, player_high_aces=1.\n",
    "    \"\"\"\n",
    "    return False\n",
    "\n",
    "q7.simulate(n_games=50000)"
   ]
  },
  {
   "cell_type": "markdown",
   "id": "51e05044",
   "metadata": {
    "papermill": {
     "duration": 0.04328,
     "end_time": "2022-05-09T20:42:31.645388",
     "exception": false,
     "start_time": "2022-05-09T20:42:31.602108",
     "status": "completed"
    },
    "tags": []
   },
   "source": [
    "# Keep Going\n",
    "\n",
    "Learn about **[lists and tuples](https://www.kaggle.com/colinmorris/lists)** to handle multiple items of data in a systematic way."
   ]
  },
  {
   "cell_type": "markdown",
   "id": "bb6de372",
   "metadata": {
    "papermill": {
     "duration": 0.042385,
     "end_time": "2022-05-09T20:42:31.728528",
     "exception": false,
     "start_time": "2022-05-09T20:42:31.686143",
     "status": "completed"
    },
    "tags": []
   },
   "source": [
    "---\n",
    "\n",
    "\n",
    "\n",
    "\n",
    "*Have questions or comments? Visit the [course discussion forum](https://www.kaggle.com/learn/python/discussion) to chat with other learners.*"
   ]
  }
 ],
 "metadata": {
  "kernelspec": {
   "display_name": "Python 3",
   "language": "python",
   "name": "python3"
  },
  "language_info": {
   "codemirror_mode": {
    "name": "ipython",
    "version": 3
   },
   "file_extension": ".py",
   "mimetype": "text/x-python",
   "name": "python",
   "nbconvert_exporter": "python",
   "pygments_lexer": "ipython3",
   "version": "3.7.12"
  },
  "papermill": {
   "default_parameters": {},
   "duration": 14.763958,
   "end_time": "2022-05-09T20:42:32.393123",
   "environment_variables": {},
   "exception": null,
   "input_path": "__notebook__.ipynb",
   "output_path": "__notebook__.ipynb",
   "parameters": {},
   "start_time": "2022-05-09T20:42:17.629165",
   "version": "2.3.4"
  }
 },
 "nbformat": 4,
 "nbformat_minor": 5
}

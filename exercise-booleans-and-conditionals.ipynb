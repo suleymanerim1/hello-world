{
 "cells": [
  {
   "cell_type": "markdown",
   "id": "5cf162b6",
   "metadata": {
    "papermill": {
     "duration": 0.03724,
     "end_time": "2022-05-10T05:13:34.405852",
     "exception": false,
     "start_time": "2022-05-10T05:13:34.368612",
     "status": "completed"
    },
    "tags": []
   },
   "source": [
    "**This notebook is an exercise in the [Python](https://www.kaggle.com/learn/python) course.  You can reference the tutorial at [this link](https://www.kaggle.com/colinmorris/booleans-and-conditionals).**\n",
    "\n",
    "---\n"
   ]
  },
  {
   "cell_type": "markdown",
   "id": "2a736b83",
   "metadata": {
    "papermill": {
     "duration": 0.034811,
     "end_time": "2022-05-10T05:13:34.476049",
     "exception": false,
     "start_time": "2022-05-10T05:13:34.441238",
     "status": "completed"
    },
    "tags": []
   },
   "source": [
    "In this exercise, you'll put to work what you have learned about booleans and conditionals.\n",
    "\n",
    "To get started, **run the setup code below** before writing your own code (and if you leave this notebook and come back later, don't forget to run the setup code again)."
   ]
  },
  {
   "cell_type": "code",
   "execution_count": 1,
   "id": "57eb36e3",
   "metadata": {
    "execution": {
     "iopub.execute_input": "2022-05-10T05:13:34.549303Z",
     "iopub.status.busy": "2022-05-10T05:13:34.548556Z",
     "iopub.status.idle": "2022-05-10T05:13:34.595962Z",
     "shell.execute_reply": "2022-05-10T05:13:34.595115Z"
    },
    "papermill": {
     "duration": 0.086748,
     "end_time": "2022-05-10T05:13:34.598167",
     "exception": false,
     "start_time": "2022-05-10T05:13:34.511419",
     "status": "completed"
    },
    "tags": []
   },
   "outputs": [
    {
     "name": "stdout",
     "output_type": "stream",
     "text": [
      "Setup complete.\n"
     ]
    }
   ],
   "source": [
    "from learntools.core import binder; binder.bind(globals())\n",
    "from learntools.python.ex3 import *\n",
    "print('Setup complete.')"
   ]
  },
  {
   "cell_type": "markdown",
   "id": "9a43bf23",
   "metadata": {
    "papermill": {
     "duration": 0.035785,
     "end_time": "2022-05-10T05:13:34.670711",
     "exception": false,
     "start_time": "2022-05-10T05:13:34.634926",
     "status": "completed"
    },
    "tags": []
   },
   "source": [
    "# 1.\n",
    "\n",
    "Many programming languages have [`sign`](https://en.wikipedia.org/wiki/Sign_function) available as a built-in function. Python doesn't, but we can define our own!\n",
    "\n",
    "In the cell below, define a function called `sign` which takes a numerical argument and returns -1 if it's negative, 1 if it's positive, and 0 if it's 0."
   ]
  },
  {
   "cell_type": "code",
   "execution_count": 2,
   "id": "557d1ecd",
   "metadata": {
    "execution": {
     "iopub.execute_input": "2022-05-10T05:13:34.746569Z",
     "iopub.status.busy": "2022-05-10T05:13:34.746095Z",
     "iopub.status.idle": "2022-05-10T05:13:34.755488Z",
     "shell.execute_reply": "2022-05-10T05:13:34.754843Z"
    },
    "papermill": {
     "duration": 0.051023,
     "end_time": "2022-05-10T05:13:34.757717",
     "exception": false,
     "start_time": "2022-05-10T05:13:34.706694",
     "status": "completed"
    },
    "tags": []
   },
   "outputs": [
    {
     "data": {
      "application/javascript": [
       "parent.postMessage({\"jupyterEvent\": \"custom.exercise_interaction\", \"data\": {\"outcomeType\": 1, \"valueTowardsCompletion\": 0.2, \"interactionType\": 1, \"questionType\": 2, \"questionId\": \"1_SignFunctionProblem\", \"learnToolsVersion\": \"0.3.4\", \"failureMessage\": \"\", \"exceptionClass\": \"\", \"trace\": \"\"}}, \"*\")"
      ],
      "text/plain": [
       "<IPython.core.display.Javascript object>"
      ]
     },
     "metadata": {},
     "output_type": "display_data"
    },
    {
     "data": {
      "text/markdown": [
       "<span style=\"color:#33cc33\">Correct</span>"
      ],
      "text/plain": [
       "Correct"
      ]
     },
     "metadata": {},
     "output_type": "display_data"
    }
   ],
   "source": [
    "# Your code goes here. Define a function called 'sign'\n",
    "def sign( x):\n",
    "    if x < 0 :\n",
    "        return -1\n",
    "    elif x>0:\n",
    "        return 1\n",
    "    else:\n",
    "        return 0\n",
    "# Check your answer\n",
    "q1.check()"
   ]
  },
  {
   "cell_type": "code",
   "execution_count": 3,
   "id": "58c252ff",
   "metadata": {
    "execution": {
     "iopub.execute_input": "2022-05-10T05:13:34.834105Z",
     "iopub.status.busy": "2022-05-10T05:13:34.833592Z",
     "iopub.status.idle": "2022-05-10T05:13:34.836987Z",
     "shell.execute_reply": "2022-05-10T05:13:34.836352Z"
    },
    "papermill": {
     "duration": 0.043882,
     "end_time": "2022-05-10T05:13:34.838812",
     "exception": false,
     "start_time": "2022-05-10T05:13:34.794930",
     "status": "completed"
    },
    "tags": []
   },
   "outputs": [],
   "source": [
    "#q1.solution()"
   ]
  },
  {
   "cell_type": "markdown",
   "id": "edd7de46",
   "metadata": {
    "papermill": {
     "duration": 0.041174,
     "end_time": "2022-05-10T05:13:34.921749",
     "exception": false,
     "start_time": "2022-05-10T05:13:34.880575",
     "status": "completed"
    },
    "tags": []
   },
   "source": [
    "# 2.\n",
    "\n",
    "We've decided to add \"logging\" to our `to_smash` function from the previous exercise."
   ]
  },
  {
   "cell_type": "code",
   "execution_count": 4,
   "id": "a1270afe",
   "metadata": {
    "execution": {
     "iopub.execute_input": "2022-05-10T05:13:34.999636Z",
     "iopub.status.busy": "2022-05-10T05:13:34.999028Z",
     "iopub.status.idle": "2022-05-10T05:13:35.007776Z",
     "shell.execute_reply": "2022-05-10T05:13:35.006839Z"
    },
    "papermill": {
     "duration": 0.049307,
     "end_time": "2022-05-10T05:13:35.010007",
     "exception": false,
     "start_time": "2022-05-10T05:13:34.960700",
     "status": "completed"
    },
    "tags": []
   },
   "outputs": [
    {
     "name": "stdout",
     "output_type": "stream",
     "text": [
      "Splitting 91 candies\n"
     ]
    },
    {
     "data": {
      "text/plain": [
       "1"
      ]
     },
     "execution_count": 4,
     "metadata": {},
     "output_type": "execute_result"
    }
   ],
   "source": [
    "def to_smash(total_candies):\n",
    "    \"\"\"Return the number of leftover candies that must be smashed after distributing\n",
    "    the given number of candies evenly between 3 friends.\n",
    "    \n",
    "    >>> to_smash(91)\n",
    "    1\n",
    "    \"\"\"\n",
    "    print(\"Splitting\", total_candies, \"candies\")\n",
    "    return total_candies % 3\n",
    "\n",
    "to_smash(91)"
   ]
  },
  {
   "cell_type": "markdown",
   "id": "7be658b1",
   "metadata": {
    "papermill": {
     "duration": 0.037823,
     "end_time": "2022-05-10T05:13:35.086582",
     "exception": false,
     "start_time": "2022-05-10T05:13:35.048759",
     "status": "completed"
    },
    "tags": []
   },
   "source": [
    "What happens if we call it with `total_candies = 1`?"
   ]
  },
  {
   "cell_type": "code",
   "execution_count": 5,
   "id": "a4450c84",
   "metadata": {
    "execution": {
     "iopub.execute_input": "2022-05-10T05:13:35.165350Z",
     "iopub.status.busy": "2022-05-10T05:13:35.165045Z",
     "iopub.status.idle": "2022-05-10T05:13:35.170602Z",
     "shell.execute_reply": "2022-05-10T05:13:35.169956Z"
    },
    "papermill": {
     "duration": 0.047856,
     "end_time": "2022-05-10T05:13:35.173438",
     "exception": false,
     "start_time": "2022-05-10T05:13:35.125582",
     "status": "completed"
    },
    "tags": []
   },
   "outputs": [
    {
     "name": "stdout",
     "output_type": "stream",
     "text": [
      "Splitting 1 candies\n"
     ]
    },
    {
     "data": {
      "text/plain": [
       "1"
      ]
     },
     "execution_count": 5,
     "metadata": {},
     "output_type": "execute_result"
    }
   ],
   "source": [
    "to_smash(1)"
   ]
  },
  {
   "cell_type": "markdown",
   "id": "716b6150",
   "metadata": {
    "papermill": {
     "duration": 0.038085,
     "end_time": "2022-05-10T05:13:35.250329",
     "exception": false,
     "start_time": "2022-05-10T05:13:35.212244",
     "status": "completed"
    },
    "tags": []
   },
   "source": [
    "That isn't great grammar!\n",
    "\n",
    "Modify the definition in the cell below to correct the grammar of our print statement. (If there's only one candy, we should use the singular \"candy\" instead of the plural \"candies\")"
   ]
  },
  {
   "cell_type": "code",
   "execution_count": 6,
   "id": "22b95027",
   "metadata": {
    "execution": {
     "iopub.execute_input": "2022-05-10T05:13:35.329550Z",
     "iopub.status.busy": "2022-05-10T05:13:35.328679Z",
     "iopub.status.idle": "2022-05-10T05:13:35.338954Z",
     "shell.execute_reply": "2022-05-10T05:13:35.337557Z"
    },
    "papermill": {
     "duration": 0.052232,
     "end_time": "2022-05-10T05:13:35.341039",
     "exception": false,
     "start_time": "2022-05-10T05:13:35.288807",
     "status": "completed"
    },
    "tags": []
   },
   "outputs": [
    {
     "name": "stdout",
     "output_type": "stream",
     "text": [
      "Splitting 91 candy\n",
      "Splitting 1 candy\n"
     ]
    },
    {
     "data": {
      "text/plain": [
       "1"
      ]
     },
     "execution_count": 6,
     "metadata": {},
     "output_type": "execute_result"
    }
   ],
   "source": [
    "def to_smash(total_candies):\n",
    "    \"\"\"Return the number of leftover candies that must be smashed after distributing\n",
    "    the given number of candies evenly between 3 friends.\n",
    "    \n",
    "    >>> to_smash(91)\n",
    "    1\n",
    "    \"\"\"\n",
    "    if total_candies % 3 == 1:\n",
    "        print(\"Splitting\", total_candies, \"candy\")\n",
    "    else: \n",
    "        print(\"Splitting\", total_candies, \"candies\")\n",
    "        \n",
    "    return total_candies % 3\n",
    "\n",
    "to_smash(91)\n",
    "to_smash(1)"
   ]
  },
  {
   "cell_type": "markdown",
   "id": "413e0c12",
   "metadata": {
    "papermill": {
     "duration": 0.039161,
     "end_time": "2022-05-10T05:13:35.420243",
     "exception": false,
     "start_time": "2022-05-10T05:13:35.381082",
     "status": "completed"
    },
    "tags": []
   },
   "source": [
    "To get credit for completing this problem, and to see the official answer, run the code cell below."
   ]
  },
  {
   "cell_type": "code",
   "execution_count": 7,
   "id": "69c98f27",
   "metadata": {
    "execution": {
     "iopub.execute_input": "2022-05-10T05:13:35.500861Z",
     "iopub.status.busy": "2022-05-10T05:13:35.500001Z",
     "iopub.status.idle": "2022-05-10T05:13:35.506140Z",
     "shell.execute_reply": "2022-05-10T05:13:35.505589Z"
    },
    "papermill": {
     "duration": 0.048514,
     "end_time": "2022-05-10T05:13:35.508048",
     "exception": false,
     "start_time": "2022-05-10T05:13:35.459534",
     "status": "completed"
    },
    "tags": []
   },
   "outputs": [
    {
     "data": {
      "application/javascript": [
       "parent.postMessage({\"jupyterEvent\": \"custom.exercise_interaction\", \"data\": {\"interactionType\": 3, \"questionType\": 4, \"questionId\": \"2_PluralizationProblem\", \"learnToolsVersion\": \"0.3.4\", \"valueTowardsCompletion\": 0.0, \"failureMessage\": \"\", \"exceptionClass\": \"\", \"trace\": \"\", \"outcomeType\": 4}}, \"*\")"
      ],
      "text/plain": [
       "<IPython.core.display.Javascript object>"
      ]
     },
     "metadata": {},
     "output_type": "display_data"
    },
    {
     "data": {
      "text/markdown": [
       "<span style=\"color:#33cc99\">Solution:</span> A straightforward (and totally fine) solution is to replace the original `print` call with:\n",
       "\n",
       "```python\n",
       "if total_candies == 1:\n",
       "    print(\"Splitting 1 candy\")\n",
       "else:\n",
       "    print(\"Splitting\", total_candies, \"candies\")\n",
       "```\n",
       "\n",
       "Here's a slightly more succinct solution using a conditional expression:\n",
       "\n",
       "```python\n",
       "print(\"Splitting\", total_candies, \"candy\" if total_candies == 1 else \"candies\")\n",
       "```"
      ],
      "text/plain": [
       "Solution: A straightforward (and totally fine) solution is to replace the original `print` call with:\n",
       "\n",
       "```python\n",
       "if total_candies == 1:\n",
       "    print(\"Splitting 1 candy\")\n",
       "else:\n",
       "    print(\"Splitting\", total_candies, \"candies\")\n",
       "```\n",
       "\n",
       "Here's a slightly more succinct solution using a conditional expression:\n",
       "\n",
       "```python\n",
       "print(\"Splitting\", total_candies, \"candy\" if total_candies == 1 else \"candies\")\n",
       "```"
      ]
     },
     "metadata": {},
     "output_type": "display_data"
    }
   ],
   "source": [
    "# Check your answer (Run this code cell to receive credit!)\n",
    "q2.solution()"
   ]
  },
  {
   "cell_type": "markdown",
   "id": "f250414f",
   "metadata": {
    "papermill": {
     "duration": 0.040264,
     "end_time": "2022-05-10T05:13:35.589367",
     "exception": false,
     "start_time": "2022-05-10T05:13:35.549103",
     "status": "completed"
    },
    "tags": []
   },
   "source": [
    "# 3. <span title=\"A bit spicy\" style=\"color: darkgreen \">🌶️</span>\n",
    "\n",
    "In the tutorial, we talked about deciding whether we're prepared for the weather. I said that I'm safe from today's weather if...\n",
    "- I have an umbrella...\n",
    "- or if the rain isn't too heavy and I have a hood...\n",
    "- otherwise, I'm still fine unless it's raining *and* it's a workday\n",
    "\n",
    "The function below uses our first attempt at turning this logic into a Python expression. I claimed that there was a bug in that code. Can you find it?\n",
    "\n",
    "To prove that `prepared_for_weather` is buggy, come up with a set of inputs where either:\n",
    "- the function returns `False` (but should have returned `True`), or\n",
    "- the function returned `True` (but should have returned `False`).\n",
    "\n",
    "To get credit for completing this question, your code should return a <font color='#33cc33'>Correct</font> result."
   ]
  },
  {
   "cell_type": "code",
   "execution_count": 8,
   "id": "7f0cd7bc",
   "metadata": {
    "execution": {
     "iopub.execute_input": "2022-05-10T05:13:35.672511Z",
     "iopub.status.busy": "2022-05-10T05:13:35.672053Z",
     "iopub.status.idle": "2022-05-10T05:13:35.682901Z",
     "shell.execute_reply": "2022-05-10T05:13:35.682096Z"
    },
    "papermill": {
     "duration": 0.055438,
     "end_time": "2022-05-10T05:13:35.685188",
     "exception": false,
     "start_time": "2022-05-10T05:13:35.629750",
     "status": "completed"
    },
    "tags": []
   },
   "outputs": [
    {
     "name": "stdout",
     "output_type": "stream",
     "text": [
      "False\n"
     ]
    },
    {
     "data": {
      "application/javascript": [
       "parent.postMessage({\"jupyterEvent\": \"custom.exercise_interaction\", \"data\": {\"outcomeType\": 1, \"valueTowardsCompletion\": 0.2, \"interactionType\": 1, \"questionType\": 1, \"questionId\": \"3_WeatherDebug\", \"learnToolsVersion\": \"0.3.4\", \"failureMessage\": \"\", \"exceptionClass\": \"\", \"trace\": \"\"}}, \"*\")"
      ],
      "text/plain": [
       "<IPython.core.display.Javascript object>"
      ]
     },
     "metadata": {},
     "output_type": "display_data"
    },
    {
     "data": {
      "text/markdown": [
       "<span style=\"color:#33cc33\">Correct:</span> \n",
       "\n",
       "One example of a failing test case is:\n",
       "\n",
       "```python\n",
       "have_umbrella = False\n",
       "rain_level = 0.0\n",
       "have_hood = False\n",
       "is_workday = False\n",
       "```\n",
       "\n",
       "Clearly we're prepared for the weather in this case. It's not raining. Not only that, it's not a workday, so we don't even need to leave the house! But our function will return False on these inputs.\n",
       "\n",
       "The key problem is that Python implictly parenthesizes the last part as:\n",
       "\n",
       "```python\n",
       "(not (rain_level > 0)) and is_workday\n",
       "```\n",
       "\n",
       "Whereas what we were trying to express would look more like:\n",
       "\n",
       "```python\n",
       "not (rain_level > 0 and is_workday)\n",
       "```\n"
      ],
      "text/plain": [
       "Correct: \n",
       "\n",
       "One example of a failing test case is:\n",
       "\n",
       "```python\n",
       "have_umbrella = False\n",
       "rain_level = 0.0\n",
       "have_hood = False\n",
       "is_workday = False\n",
       "```\n",
       "\n",
       "Clearly we're prepared for the weather in this case. It's not raining. Not only that, it's not a workday, so we don't even need to leave the house! But our function will return False on these inputs.\n",
       "\n",
       "The key problem is that Python implictly parenthesizes the last part as:\n",
       "\n",
       "```python\n",
       "(not (rain_level > 0)) and is_workday\n",
       "```\n",
       "\n",
       "Whereas what we were trying to express would look more like:\n",
       "\n",
       "```python\n",
       "not (rain_level > 0 and is_workday)\n",
       "```"
      ]
     },
     "metadata": {},
     "output_type": "display_data"
    }
   ],
   "source": [
    "def prepared_for_weather(have_umbrella, rain_level, have_hood, is_workday):\n",
    "    # Don't change this code. Our goal is just to find the bug, not fix it!\n",
    "    return have_umbrella or rain_level < 5 and have_hood or not rain_level > 0 and is_workday\n",
    "\n",
    "# Change the values of these inputs so they represent a case where prepared_for_weather\n",
    "# returns the wrong answer.\n",
    "have_umbrella = False\n",
    "rain_level = 4\n",
    "have_hood = False\n",
    "is_workday = False\n",
    "\n",
    "# Check what the function returns given the current values of the variables above\n",
    "actual = prepared_for_weather(have_umbrella, rain_level, have_hood, is_workday)\n",
    "print(actual)\n",
    "\n",
    "# Check your answer\n",
    "q3.check()"
   ]
  },
  {
   "cell_type": "code",
   "execution_count": 9,
   "id": "b6d0213f",
   "metadata": {
    "execution": {
     "iopub.execute_input": "2022-05-10T05:13:35.772416Z",
     "iopub.status.busy": "2022-05-10T05:13:35.771960Z",
     "iopub.status.idle": "2022-05-10T05:13:35.775525Z",
     "shell.execute_reply": "2022-05-10T05:13:35.774771Z"
    },
    "papermill": {
     "duration": 0.048907,
     "end_time": "2022-05-10T05:13:35.777386",
     "exception": false,
     "start_time": "2022-05-10T05:13:35.728479",
     "status": "completed"
    },
    "tags": []
   },
   "outputs": [],
   "source": [
    "#q3.hint()\n",
    "#q3.solution()"
   ]
  },
  {
   "cell_type": "markdown",
   "id": "664776f8",
   "metadata": {
    "papermill": {
     "duration": 0.042347,
     "end_time": "2022-05-10T05:13:35.862755",
     "exception": false,
     "start_time": "2022-05-10T05:13:35.820408",
     "status": "completed"
    },
    "tags": []
   },
   "source": [
    "# 4.\n",
    "\n",
    "The function `is_negative` below is implemented correctly - it returns True if the given number is negative and False otherwise.\n",
    "\n",
    "However, it's more verbose than it needs to be. We can actually reduce the number of lines of code in this function by *75%* while keeping the same behaviour. \n",
    "\n",
    "See if you can come up with an equivalent body that uses just **one line** of code, and put it in the function `concise_is_negative`. (HINT: you don't even need Python's ternary syntax)"
   ]
  },
  {
   "cell_type": "code",
   "execution_count": 10,
   "id": "52b238dc",
   "metadata": {
    "execution": {
     "iopub.execute_input": "2022-05-10T05:13:35.955407Z",
     "iopub.status.busy": "2022-05-10T05:13:35.954984Z",
     "iopub.status.idle": "2022-05-10T05:13:35.965801Z",
     "shell.execute_reply": "2022-05-10T05:13:35.965086Z"
    },
    "papermill": {
     "duration": 0.063085,
     "end_time": "2022-05-10T05:13:35.968529",
     "exception": false,
     "start_time": "2022-05-10T05:13:35.905444",
     "status": "completed"
    },
    "tags": []
   },
   "outputs": [
    {
     "data": {
      "application/javascript": [
       "parent.postMessage({\"jupyterEvent\": \"custom.exercise_interaction\", \"data\": {\"outcomeType\": 1, \"valueTowardsCompletion\": 0.2, \"interactionType\": 1, \"questionType\": 2, \"questionId\": \"4_ConciseIsNegative\", \"learnToolsVersion\": \"0.3.4\", \"failureMessage\": \"\", \"exceptionClass\": \"\", \"trace\": \"\"}}, \"*\")"
      ],
      "text/plain": [
       "<IPython.core.display.Javascript object>"
      ]
     },
     "metadata": {},
     "output_type": "display_data"
    },
    {
     "data": {
      "text/markdown": [
       "<span style=\"color:#33cc33\">Correct</span>"
      ],
      "text/plain": [
       "Correct"
      ]
     },
     "metadata": {},
     "output_type": "display_data"
    }
   ],
   "source": [
    "def is_negative(number):\n",
    "    if number < 0:\n",
    "        return True\n",
    "    else:\n",
    "        return False\n",
    "\n",
    "def concise_is_negative(number):\n",
    "    return is_negative(number)==True \n",
    "\n",
    "# Check your answer\n",
    "q4.check()"
   ]
  },
  {
   "cell_type": "code",
   "execution_count": 11,
   "id": "07d75d7c",
   "metadata": {
    "execution": {
     "iopub.execute_input": "2022-05-10T05:13:36.071047Z",
     "iopub.status.busy": "2022-05-10T05:13:36.070528Z",
     "iopub.status.idle": "2022-05-10T05:13:36.078334Z",
     "shell.execute_reply": "2022-05-10T05:13:36.077487Z"
    },
    "papermill": {
     "duration": 0.055721,
     "end_time": "2022-05-10T05:13:36.080380",
     "exception": false,
     "start_time": "2022-05-10T05:13:36.024659",
     "status": "completed"
    },
    "tags": []
   },
   "outputs": [
    {
     "data": {
      "application/javascript": [
       "parent.postMessage({\"jupyterEvent\": \"custom.exercise_interaction\", \"data\": {\"interactionType\": 2, \"questionType\": 2, \"questionId\": \"4_ConciseIsNegative\", \"learnToolsVersion\": \"0.3.4\", \"valueTowardsCompletion\": 0.0, \"failureMessage\": \"\", \"exceptionClass\": \"\", \"trace\": \"\", \"outcomeType\": 4}}, \"*\")"
      ],
      "text/plain": [
       "<IPython.core.display.Javascript object>"
      ]
     },
     "metadata": {},
     "output_type": "display_data"
    },
    {
     "data": {
      "text/markdown": [
       "<span style=\"color:#3366cc\">Hint:</span> If the value of the expression `number < 0` is `True`, then we return `True`. If it's `False`, then we return `False`..."
      ],
      "text/plain": [
       "Hint: If the value of the expression `number < 0` is `True`, then we return `True`. If it's `False`, then we return `False`..."
      ]
     },
     "metadata": {},
     "output_type": "display_data"
    }
   ],
   "source": [
    "q4.hint()\n",
    "#q4.solution()"
   ]
  },
  {
   "cell_type": "markdown",
   "id": "88a358e8",
   "metadata": {
    "papermill": {
     "duration": 0.044791,
     "end_time": "2022-05-10T05:13:36.175893",
     "exception": false,
     "start_time": "2022-05-10T05:13:36.131102",
     "status": "completed"
    },
    "tags": []
   },
   "source": [
    "# 5a.\n",
    "\n",
    "The boolean variables `ketchup`, `mustard` and `onion` represent whether a customer wants a particular topping on their hot dog. We want to implement a number of boolean functions that correspond to some yes-or-no questions about the customer's order. For example:"
   ]
  },
  {
   "cell_type": "code",
   "execution_count": 12,
   "id": "e419eece",
   "metadata": {
    "execution": {
     "iopub.execute_input": "2022-05-10T05:13:36.279995Z",
     "iopub.status.busy": "2022-05-10T05:13:36.279022Z",
     "iopub.status.idle": "2022-05-10T05:13:36.284059Z",
     "shell.execute_reply": "2022-05-10T05:13:36.283325Z"
    },
    "papermill": {
     "duration": 0.061318,
     "end_time": "2022-05-10T05:13:36.286131",
     "exception": false,
     "start_time": "2022-05-10T05:13:36.224813",
     "status": "completed"
    },
    "tags": []
   },
   "outputs": [],
   "source": [
    "def onionless(ketchup, mustard, onion):\n",
    "    \"\"\"Return whether the customer doesn't want onions.\n",
    "    \"\"\"\n",
    "    return not onion"
   ]
  },
  {
   "cell_type": "code",
   "execution_count": 13,
   "id": "5198e998",
   "metadata": {
    "execution": {
     "iopub.execute_input": "2022-05-10T05:13:36.379873Z",
     "iopub.status.busy": "2022-05-10T05:13:36.379182Z",
     "iopub.status.idle": "2022-05-10T05:13:36.388152Z",
     "shell.execute_reply": "2022-05-10T05:13:36.387462Z"
    },
    "papermill": {
     "duration": 0.058336,
     "end_time": "2022-05-10T05:13:36.390107",
     "exception": false,
     "start_time": "2022-05-10T05:13:36.331771",
     "status": "completed"
    },
    "tags": []
   },
   "outputs": [
    {
     "data": {
      "application/javascript": [
       "parent.postMessage({\"jupyterEvent\": \"custom.exercise_interaction\", \"data\": {\"outcomeType\": 1, \"valueTowardsCompletion\": 0.2, \"interactionType\": 1, \"questionType\": 2, \"questionId\": \"5.1_AllToppings\", \"learnToolsVersion\": \"0.3.4\", \"failureMessage\": \"\", \"exceptionClass\": \"\", \"trace\": \"\"}}, \"*\")"
      ],
      "text/plain": [
       "<IPython.core.display.Javascript object>"
      ]
     },
     "metadata": {},
     "output_type": "display_data"
    },
    {
     "data": {
      "text/markdown": [
       "<span style=\"color:#33cc33\">Correct</span>"
      ],
      "text/plain": [
       "Correct"
      ]
     },
     "metadata": {},
     "output_type": "display_data"
    }
   ],
   "source": [
    "def wants_all_toppings(ketchup, mustard, onion):\n",
    "    \"\"\"Return whether the customer wants \"the works\" (all 3 toppings)\n",
    "    \"\"\"\n",
    "    return ketchup and mustard and onion\n",
    "# Check your answer\n",
    "q5.a.check()"
   ]
  },
  {
   "cell_type": "code",
   "execution_count": 14,
   "id": "d62443e4",
   "metadata": {
    "execution": {
     "iopub.execute_input": "2022-05-10T05:13:36.486463Z",
     "iopub.status.busy": "2022-05-10T05:13:36.485758Z",
     "iopub.status.idle": "2022-05-10T05:13:36.493636Z",
     "shell.execute_reply": "2022-05-10T05:13:36.492922Z"
    },
    "papermill": {
     "duration": 0.057946,
     "end_time": "2022-05-10T05:13:36.495535",
     "exception": false,
     "start_time": "2022-05-10T05:13:36.437589",
     "status": "completed"
    },
    "tags": []
   },
   "outputs": [
    {
     "data": {
      "application/javascript": [
       "parent.postMessage({\"jupyterEvent\": \"custom.exercise_interaction\", \"data\": {\"interactionType\": 2, \"questionType\": 2, \"questionId\": \"5.1_AllToppings\", \"learnToolsVersion\": \"0.3.4\", \"valueTowardsCompletion\": 0.0, \"failureMessage\": \"\", \"exceptionClass\": \"\", \"trace\": \"\", \"outcomeType\": 4}}, \"*\")"
      ],
      "text/plain": [
       "<IPython.core.display.Javascript object>"
      ]
     },
     "metadata": {},
     "output_type": "display_data"
    },
    {
     "data": {
      "text/markdown": [
       "<span style=\"color:#3366cc\">Hint:</span> You'll need to use the `and` operator."
      ],
      "text/plain": [
       "Hint: You'll need to use the `and` operator."
      ]
     },
     "metadata": {},
     "output_type": "display_data"
    }
   ],
   "source": [
    "q5.a.hint()\n",
    "#q5.a.solution()"
   ]
  },
  {
   "cell_type": "markdown",
   "id": "a43a239d",
   "metadata": {
    "papermill": {
     "duration": 0.050917,
     "end_time": "2022-05-10T05:13:36.596895",
     "exception": false,
     "start_time": "2022-05-10T05:13:36.545978",
     "status": "completed"
    },
    "tags": []
   },
   "source": [
    "# 5b.\n",
    "\n",
    "For the next function, fill in the body to match the English description in the docstring. "
   ]
  },
  {
   "cell_type": "code",
   "execution_count": 15,
   "id": "b03282b1",
   "metadata": {
    "execution": {
     "iopub.execute_input": "2022-05-10T05:13:36.694705Z",
     "iopub.status.busy": "2022-05-10T05:13:36.694038Z",
     "iopub.status.idle": "2022-05-10T05:13:36.703071Z",
     "shell.execute_reply": "2022-05-10T05:13:36.702378Z"
    },
    "papermill": {
     "duration": 0.060026,
     "end_time": "2022-05-10T05:13:36.705137",
     "exception": false,
     "start_time": "2022-05-10T05:13:36.645111",
     "status": "completed"
    },
    "tags": []
   },
   "outputs": [
    {
     "data": {
      "application/javascript": [
       "parent.postMessage({\"jupyterEvent\": \"custom.exercise_interaction\", \"data\": {\"outcomeType\": 1, \"valueTowardsCompletion\": 0.2, \"interactionType\": 1, \"questionType\": 2, \"questionId\": \"5.2_PlainDog\", \"learnToolsVersion\": \"0.3.4\", \"failureMessage\": \"\", \"exceptionClass\": \"\", \"trace\": \"\"}}, \"*\")"
      ],
      "text/plain": [
       "<IPython.core.display.Javascript object>"
      ]
     },
     "metadata": {},
     "output_type": "display_data"
    },
    {
     "data": {
      "text/markdown": [
       "<span style=\"color:#33cc33\">Correct:</span> \n",
       "\n",
       "One solution looks like:\n",
       "```python\n",
       "return not ketchup and not mustard and not onion\n",
       "```\n",
       "\n",
       "We can also [\"factor out\" the nots](https://en.wikipedia.org/wiki/De_Morgan%27s_laws) to get:\n",
       "\n",
       "```python\n",
       "return not (ketchup or mustard or onion)\n",
       "```"
      ],
      "text/plain": [
       "Correct: \n",
       "\n",
       "One solution looks like:\n",
       "```python\n",
       "return not ketchup and not mustard and not onion\n",
       "```\n",
       "\n",
       "We can also [\"factor out\" the nots](https://en.wikipedia.org/wiki/De_Morgan%27s_laws) to get:\n",
       "\n",
       "```python\n",
       "return not (ketchup or mustard or onion)\n",
       "```"
      ]
     },
     "metadata": {},
     "output_type": "display_data"
    }
   ],
   "source": [
    "def wants_plain_hotdog(ketchup, mustard, onion):\n",
    "    \"\"\"Return whether the customer wants a plain hot dog with no toppings.\n",
    "    \"\"\"\n",
    "    return  not (ketchup or mustard or onion)\n",
    "             \n",
    "# Check your answer\n",
    "q5.b.check()"
   ]
  },
  {
   "cell_type": "code",
   "execution_count": 16,
   "id": "f2e2916a",
   "metadata": {
    "execution": {
     "iopub.execute_input": "2022-05-10T05:13:36.807082Z",
     "iopub.status.busy": "2022-05-10T05:13:36.806826Z",
     "iopub.status.idle": "2022-05-10T05:13:36.812654Z",
     "shell.execute_reply": "2022-05-10T05:13:36.812100Z"
    },
    "papermill": {
     "duration": 0.059876,
     "end_time": "2022-05-10T05:13:36.814720",
     "exception": false,
     "start_time": "2022-05-10T05:13:36.754844",
     "status": "completed"
    },
    "tags": []
   },
   "outputs": [
    {
     "data": {
      "application/javascript": [
       "parent.postMessage({\"jupyterEvent\": \"custom.exercise_interaction\", \"data\": {\"interactionType\": 2, \"questionType\": 2, \"questionId\": \"5.2_PlainDog\", \"learnToolsVersion\": \"0.3.4\", \"valueTowardsCompletion\": 0.0, \"failureMessage\": \"\", \"exceptionClass\": \"\", \"trace\": \"\", \"outcomeType\": 4}}, \"*\")"
      ],
      "text/plain": [
       "<IPython.core.display.Javascript object>"
      ]
     },
     "metadata": {},
     "output_type": "display_data"
    },
    {
     "data": {
      "text/markdown": [
       "<span style=\"color:#3366cc\">Hint:</span> You'll need to use the `not` operator."
      ],
      "text/plain": [
       "Hint: You'll need to use the `not` operator."
      ]
     },
     "metadata": {},
     "output_type": "display_data"
    }
   ],
   "source": [
    "q5.b.hint()\n",
    "#q5.b.solution()"
   ]
  },
  {
   "cell_type": "markdown",
   "id": "5e440382",
   "metadata": {
    "papermill": {
     "duration": 0.049345,
     "end_time": "2022-05-10T05:13:36.914088",
     "exception": false,
     "start_time": "2022-05-10T05:13:36.864743",
     "status": "completed"
    },
    "tags": []
   },
   "source": [
    "# 5c.\n",
    "\n",
    "You know what to do: for the next function, fill in the body to match the English description in the docstring."
   ]
  },
  {
   "cell_type": "code",
   "execution_count": 17,
   "id": "1fda666f",
   "metadata": {
    "execution": {
     "iopub.execute_input": "2022-05-10T05:13:37.016210Z",
     "iopub.status.busy": "2022-05-10T05:13:37.015750Z",
     "iopub.status.idle": "2022-05-10T05:13:37.022609Z",
     "shell.execute_reply": "2022-05-10T05:13:37.021989Z"
    },
    "papermill": {
     "duration": 0.060056,
     "end_time": "2022-05-10T05:13:37.024335",
     "exception": false,
     "start_time": "2022-05-10T05:13:36.964279",
     "status": "completed"
    },
    "tags": []
   },
   "outputs": [
    {
     "data": {
      "application/javascript": [
       "parent.postMessage({\"jupyterEvent\": \"custom.exercise_interaction\", \"data\": {\"outcomeType\": 1, \"valueTowardsCompletion\": 0.2, \"interactionType\": 1, \"questionType\": 2, \"questionId\": \"5.3_OneSauce\", \"learnToolsVersion\": \"0.3.4\", \"failureMessage\": \"\", \"exceptionClass\": \"\", \"trace\": \"\"}}, \"*\")"
      ],
      "text/plain": [
       "<IPython.core.display.Javascript object>"
      ]
     },
     "metadata": {},
     "output_type": "display_data"
    },
    {
     "data": {
      "text/markdown": [
       "<span style=\"color:#33cc33\">Correct</span>"
      ],
      "text/plain": [
       "Correct"
      ]
     },
     "metadata": {},
     "output_type": "display_data"
    }
   ],
   "source": [
    "def exactly_one_sauce(ketchup, mustard, onion):\n",
    "    \"\"\"Return whether the customer wants either ketchup or mustard, but not both.\n",
    "    (You may be familiar with this operation under the name \"exclusive or\")\n",
    "    \"\"\"\n",
    "    return (ketchup and not mustard) or (not ketchup and mustard)\n",
    "\n",
    "# Check your answer\n",
    "q5.c.check()"
   ]
  },
  {
   "cell_type": "code",
   "execution_count": 18,
   "id": "7ceb0307",
   "metadata": {
    "execution": {
     "iopub.execute_input": "2022-05-10T05:13:37.127986Z",
     "iopub.status.busy": "2022-05-10T05:13:37.127268Z",
     "iopub.status.idle": "2022-05-10T05:13:37.133227Z",
     "shell.execute_reply": "2022-05-10T05:13:37.132643Z"
    },
    "papermill": {
     "duration": 0.059734,
     "end_time": "2022-05-10T05:13:37.135067",
     "exception": false,
     "start_time": "2022-05-10T05:13:37.075333",
     "status": "completed"
    },
    "tags": []
   },
   "outputs": [
    {
     "data": {
      "application/javascript": [
       "parent.postMessage({\"jupyterEvent\": \"custom.exercise_interaction\", \"data\": {\"interactionType\": 2, \"questionType\": 2, \"questionId\": \"5.3_OneSauce\", \"learnToolsVersion\": \"0.3.4\", \"valueTowardsCompletion\": 0.0, \"failureMessage\": \"\", \"exceptionClass\": \"\", \"trace\": \"\", \"outcomeType\": 4}}, \"*\")"
      ],
      "text/plain": [
       "<IPython.core.display.Javascript object>"
      ]
     },
     "metadata": {},
     "output_type": "display_data"
    },
    {
     "data": {
      "text/markdown": [
       "<span style=\"color:#3366cc\">Hint:</span> There are exactly two ways to set ketchup and mustard to make this true. What are they?"
      ],
      "text/plain": [
       "Hint: There are exactly two ways to set ketchup and mustard to make this true. What are they?"
      ]
     },
     "metadata": {},
     "output_type": "display_data"
    }
   ],
   "source": [
    "q5.c.hint()\n",
    "#q5.c.solution()"
   ]
  },
  {
   "cell_type": "markdown",
   "id": "3c05b4a6",
   "metadata": {
    "papermill": {
     "duration": 0.051606,
     "end_time": "2022-05-10T05:13:37.239099",
     "exception": false,
     "start_time": "2022-05-10T05:13:37.187493",
     "status": "completed"
    },
    "tags": []
   },
   "source": [
    "# 6. <span title=\"A bit spicy\" style=\"color: darkgreen \">🌶️</span>\n",
    "\n",
    "We’ve seen that calling `bool()` on an integer returns `False` if it’s equal to 0 and `True` otherwise. What happens if we call `int()` on a bool? Try it out in the notebook cell below.\n",
    "\n",
    "Can you take advantage of this to write a succinct function that corresponds to the English sentence \"does the customer want exactly one topping?\"?"
   ]
  },
  {
   "cell_type": "code",
   "execution_count": 19,
   "id": "aaadc061",
   "metadata": {
    "execution": {
     "iopub.execute_input": "2022-05-10T05:13:37.344828Z",
     "iopub.status.busy": "2022-05-10T05:13:37.344379Z",
     "iopub.status.idle": "2022-05-10T05:13:37.351482Z",
     "shell.execute_reply": "2022-05-10T05:13:37.350800Z"
    },
    "papermill": {
     "duration": 0.0621,
     "end_time": "2022-05-10T05:13:37.353307",
     "exception": false,
     "start_time": "2022-05-10T05:13:37.291207",
     "status": "completed"
    },
    "tags": []
   },
   "outputs": [
    {
     "data": {
      "application/javascript": [
       "parent.postMessage({\"jupyterEvent\": \"custom.exercise_interaction\", \"data\": {\"outcomeType\": 1, \"valueTowardsCompletion\": 0.2, \"interactionType\": 1, \"questionType\": 2, \"questionId\": \"6_OneTopping\", \"learnToolsVersion\": \"0.3.4\", \"failureMessage\": \"\", \"exceptionClass\": \"\", \"trace\": \"\"}}, \"*\")"
      ],
      "text/plain": [
       "<IPython.core.display.Javascript object>"
      ]
     },
     "metadata": {},
     "output_type": "display_data"
    },
    {
     "data": {
      "text/markdown": [
       "<span style=\"color:#33cc33\">Correct:</span> \n",
       "\n",
       "This condition would be pretty complicated to express using just `and`, `or` and `not`, but using boolean-to-integer conversion gives us this short solution:\n",
       "```python\n",
       "return (int(ketchup) + int(mustard) + int(onion)) == 1\n",
       "```\n",
       "\n",
       "Fun fact: we don't technically need to call `int` on the arguments. Just by doing addition with booleans, Python implicitly does the integer conversion. So we could also write...\n",
       "\n",
       "```python\n",
       "return (ketchup + mustard + onion) == 1\n",
       "```"
      ],
      "text/plain": [
       "Correct: \n",
       "\n",
       "This condition would be pretty complicated to express using just `and`, `or` and `not`, but using boolean-to-integer conversion gives us this short solution:\n",
       "```python\n",
       "return (int(ketchup) + int(mustard) + int(onion)) == 1\n",
       "```\n",
       "\n",
       "Fun fact: we don't technically need to call `int` on the arguments. Just by doing addition with booleans, Python implicitly does the integer conversion. So we could also write...\n",
       "\n",
       "```python\n",
       "return (ketchup + mustard + onion) == 1\n",
       "```"
      ]
     },
     "metadata": {},
     "output_type": "display_data"
    }
   ],
   "source": [
    "def exactly_one_topping(ketchup, mustard, onion):\n",
    "    \"\"\"Return whether the customer wants exactly one of the three available toppings\n",
    "    on their hot dog.\n",
    "    \"\"\"\n",
    "    return 1== ketchup+mustard+onion\n",
    "\n",
    "# Check your answer\n",
    "q6.check()"
   ]
  },
  {
   "cell_type": "code",
   "execution_count": 20,
   "id": "e5ad25a7",
   "metadata": {
    "execution": {
     "iopub.execute_input": "2022-05-10T05:13:37.461097Z",
     "iopub.status.busy": "2022-05-10T05:13:37.460829Z",
     "iopub.status.idle": "2022-05-10T05:13:37.463934Z",
     "shell.execute_reply": "2022-05-10T05:13:37.463303Z"
    },
    "papermill": {
     "duration": 0.059018,
     "end_time": "2022-05-10T05:13:37.465669",
     "exception": false,
     "start_time": "2022-05-10T05:13:37.406651",
     "status": "completed"
    },
    "tags": []
   },
   "outputs": [],
   "source": [
    "#q6.hint()\n",
    "#q6.solution()"
   ]
  },
  {
   "cell_type": "markdown",
   "id": "5b4e6253",
   "metadata": {
    "papermill": {
     "duration": 0.052556,
     "end_time": "2022-05-10T05:13:37.571876",
     "exception": false,
     "start_time": "2022-05-10T05:13:37.519320",
     "status": "completed"
    },
    "tags": []
   },
   "source": [
    "# 7. <span title=\"A bit spicy\" style=\"color: darkgreen \">🌶️</span> (Optional)\n",
    "\n",
    "In this problem we'll be working with a simplified version of [blackjack](https://en.wikipedia.org/wiki/Blackjack) (aka twenty-one). In this version there is one player (who you'll control) and a dealer. Play proceeds as follows:\n",
    "\n",
    "- The player is dealt two face-up cards. The dealer is dealt one face-up card.\n",
    "- The player may ask to be dealt another card ('hit') as many times as they wish. If the sum of their cards exceeds 21, they lose the round immediately.\n",
    "- The dealer then deals additional cards to himself until either:\n",
    "    - the sum of the dealer's cards exceeds 21, in which case the player wins the round\n",
    "    - the sum of the dealer's cards is greater than or equal to 17. If the player's total is greater than the dealer's, the player wins. Otherwise, the dealer wins (even in case of a tie).\n",
    "    \n",
    "When calculating the sum of cards, Jack, Queen, and King count for 10. Aces can count as 1 or 11 (when referring to a player's \"total\" above, we mean the largest total that can be made without exceeding 21. So e.g. A+8 = 19, A+8+8 = 17)\n",
    "\n",
    "For this problem, you'll write a function representing the player's decision-making strategy in this game. We've provided a very unintelligent implementation below:"
   ]
  },
  {
   "cell_type": "code",
   "execution_count": 21,
   "id": "540f6599",
   "metadata": {
    "execution": {
     "iopub.execute_input": "2022-05-10T05:13:37.679933Z",
     "iopub.status.busy": "2022-05-10T05:13:37.679547Z",
     "iopub.status.idle": "2022-05-10T05:13:37.684474Z",
     "shell.execute_reply": "2022-05-10T05:13:37.683802Z"
    },
    "papermill": {
     "duration": 0.061456,
     "end_time": "2022-05-10T05:13:37.686375",
     "exception": false,
     "start_time": "2022-05-10T05:13:37.624919",
     "status": "completed"
    },
    "tags": []
   },
   "outputs": [],
   "source": [
    "def should_hit(dealer_total, player_total, player_low_aces, player_high_aces):\n",
    "    \"\"\"Return True if the player should hit (request another card) given the current game\n",
    "    state, or False if the player should stay.\n",
    "    When calculating a hand's total value, we count aces as \"high\" (with value 11) if doing so\n",
    "    doesn't bring the total above 21, otherwise we count them as low (with value 1). \n",
    "    For example, if the player's hand is {A, A, A, 7}, we will count it as 11 + 1 + 1 + 7,\n",
    "    and therefore set player_total=20, player_low_aces=2, player_high_aces=1.\n",
    "    \"\"\"\n",
    "    hit= False\n",
    "    if player_total > 19:\n",
    "        hit = False\n",
    "    elif player_total >17: \n",
    "        hit= True\n",
    "    elif player_total<17:\n",
    "        hit= True\n",
    "    \n",
    "    \n",
    "    return hit"
   ]
  },
  {
   "cell_type": "markdown",
   "id": "e0fb39f9",
   "metadata": {
    "papermill": {
     "duration": 0.053283,
     "end_time": "2022-05-10T05:13:37.793130",
     "exception": false,
     "start_time": "2022-05-10T05:13:37.739847",
     "status": "completed"
    },
    "tags": []
   },
   "source": [
    "This very conservative agent *always* sticks with the hand of two cards that they're dealt.\n",
    "\n",
    "We'll be simulating games between your player agent and our own dealer agent by calling your function.\n",
    "\n",
    "Try running the function below to see an example of a simulated game:"
   ]
  },
  {
   "cell_type": "code",
   "execution_count": 22,
   "id": "2a39d05c",
   "metadata": {
    "execution": {
     "iopub.execute_input": "2022-05-10T05:13:37.901136Z",
     "iopub.status.busy": "2022-05-10T05:13:37.900880Z",
     "iopub.status.idle": "2022-05-10T05:13:37.905815Z",
     "shell.execute_reply": "2022-05-10T05:13:37.905049Z"
    },
    "papermill": {
     "duration": 0.061748,
     "end_time": "2022-05-10T05:13:37.907908",
     "exception": false,
     "start_time": "2022-05-10T05:13:37.846160",
     "status": "completed"
    },
    "tags": []
   },
   "outputs": [
    {
     "name": "stdout",
     "output_type": "stream",
     "text": [
      "Player starts with 7 and 8 (total = 15)\n",
      "Dealer starts with 5\n",
      "\n",
      "__Player's turn__\n",
      "Player hits and receives A. (total = 16)\n",
      "Player hits and receives 6. (total = 22)\n",
      "Player busts! Dealer wins.\n"
     ]
    }
   ],
   "source": [
    "q7.simulate_one_game()"
   ]
  },
  {
   "cell_type": "markdown",
   "id": "d5c84a40",
   "metadata": {
    "papermill": {
     "duration": 0.052881,
     "end_time": "2022-05-10T05:13:38.014460",
     "exception": false,
     "start_time": "2022-05-10T05:13:37.961579",
     "status": "completed"
    },
    "tags": []
   },
   "source": [
    "The real test of your agent's mettle is their average win rate over many games. Try calling the function below to simulate 50000 games of blackjack (it may take a couple seconds):"
   ]
  },
  {
   "cell_type": "code",
   "execution_count": 23,
   "id": "fa3e2d2a",
   "metadata": {
    "execution": {
     "iopub.execute_input": "2022-05-10T05:13:38.123181Z",
     "iopub.status.busy": "2022-05-10T05:13:38.122611Z",
     "iopub.status.idle": "2022-05-10T05:13:40.174383Z",
     "shell.execute_reply": "2022-05-10T05:13:40.173450Z"
    },
    "papermill": {
     "duration": 2.108504,
     "end_time": "2022-05-10T05:13:40.176563",
     "exception": false,
     "start_time": "2022-05-10T05:13:38.068059",
     "status": "completed"
    },
    "tags": []
   },
   "outputs": [
    {
     "name": "stdout",
     "output_type": "stream",
     "text": [
      "Player won 15651 out of 50000 games (win rate = 31.3%)\n"
     ]
    }
   ],
   "source": [
    "q7.simulate(n_games=50000)"
   ]
  },
  {
   "cell_type": "markdown",
   "id": "5649ac4b",
   "metadata": {
    "papermill": {
     "duration": 0.053724,
     "end_time": "2022-05-10T05:13:40.284513",
     "exception": false,
     "start_time": "2022-05-10T05:13:40.230789",
     "status": "completed"
    },
    "tags": []
   },
   "source": [
    "Our dumb agent that completely ignores the game state still manages to win shockingly often!\n",
    "\n",
    "Try adding some more smarts to the `should_hit` function and see how it affects the results."
   ]
  },
  {
   "cell_type": "code",
   "execution_count": 24,
   "id": "5535a965",
   "metadata": {
    "execution": {
     "iopub.execute_input": "2022-05-10T05:13:40.395076Z",
     "iopub.status.busy": "2022-05-10T05:13:40.394568Z",
     "iopub.status.idle": "2022-05-10T05:13:42.579781Z",
     "shell.execute_reply": "2022-05-10T05:13:42.578947Z"
    },
    "papermill": {
     "duration": 2.243309,
     "end_time": "2022-05-10T05:13:42.581939",
     "exception": false,
     "start_time": "2022-05-10T05:13:40.338630",
     "status": "completed"
    },
    "tags": []
   },
   "outputs": [
    {
     "name": "stdout",
     "output_type": "stream",
     "text": [
      "Player won 20668 out of 50000 games (win rate = 41.3%)\n"
     ]
    }
   ],
   "source": [
    "def should_hit(dealer_total, player_total, player_low_aces, player_high_aces):\n",
    "    \"\"\"Return True if the player should hit (request another card) given the current game\n",
    "    state, or False if the player should stay.\n",
    "    When calculating a hand's total value, we count aces as \"high\" (with value 11) if doing so\n",
    "    doesn't bring the total above 21, otherwise we count them as low (with value 1). \n",
    "    For example, if the player's hand is {A, A, A, 7}, we will count it as 11 + 1 + 1 + 7,\n",
    "    and therefore set player_total=20, player_low_aces=2, player_high_aces=1.\n",
    "    \"\"\"\n",
    "    hit= False\n",
    "    if player_total >= 16:\n",
    "        hit = False\n",
    "\n",
    "    elif player_total<16:\n",
    "        hit= True\n",
    "    \n",
    "    \n",
    "    return hit\n",
    "\n",
    "q7.simulate(n_games=50000)"
   ]
  },
  {
   "cell_type": "markdown",
   "id": "d30c18c6",
   "metadata": {
    "papermill": {
     "duration": 0.054019,
     "end_time": "2022-05-10T05:13:42.689990",
     "exception": false,
     "start_time": "2022-05-10T05:13:42.635971",
     "status": "completed"
    },
    "tags": []
   },
   "source": [
    "# Keep Going\n",
    "\n",
    "Learn about **[lists and tuples](https://www.kaggle.com/colinmorris/lists)** to handle multiple items of data in a systematic way."
   ]
  },
  {
   "cell_type": "markdown",
   "id": "9f7cdfc3",
   "metadata": {
    "papermill": {
     "duration": 0.05474,
     "end_time": "2022-05-10T05:13:42.799330",
     "exception": false,
     "start_time": "2022-05-10T05:13:42.744590",
     "status": "completed"
    },
    "tags": []
   },
   "source": [
    "---\n",
    "\n",
    "\n",
    "\n",
    "\n",
    "*Have questions or comments? Visit the [course discussion forum](https://www.kaggle.com/learn/python/discussion) to chat with other learners.*"
   ]
  }
 ],
 "metadata": {
  "kernelspec": {
   "display_name": "Python 3",
   "language": "python",
   "name": "python3"
  },
  "language_info": {
   "codemirror_mode": {
    "name": "ipython",
    "version": 3
   },
   "file_extension": ".py",
   "mimetype": "text/x-python",
   "name": "python",
   "nbconvert_exporter": "python",
   "pygments_lexer": "ipython3",
   "version": "3.7.12"
  },
  "papermill": {
   "default_parameters": {},
   "duration": 19.000278,
   "end_time": "2022-05-10T05:13:43.473985",
   "environment_variables": {},
   "exception": null,
   "input_path": "__notebook__.ipynb",
   "output_path": "__notebook__.ipynb",
   "parameters": {},
   "start_time": "2022-05-10T05:13:24.473707",
   "version": "2.3.4"
  }
 },
 "nbformat": 4,
 "nbformat_minor": 5
}

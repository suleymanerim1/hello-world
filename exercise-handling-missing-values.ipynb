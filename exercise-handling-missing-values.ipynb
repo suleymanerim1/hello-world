{
 "cells": [
  {
   "cell_type": "markdown",
   "id": "ed2785ca",
   "metadata": {
    "papermill": {
     "duration": 0.009046,
     "end_time": "2022-06-23T18:38:44.729814",
     "exception": false,
     "start_time": "2022-06-23T18:38:44.720768",
     "status": "completed"
    },
    "tags": []
   },
   "source": [
    "**This notebook is an exercise in the [Data Cleaning](https://www.kaggle.com/learn/data-cleaning) course.  You can reference the tutorial at [this link](https://www.kaggle.com/alexisbcook/handling-missing-values).**\n",
    "\n",
    "---\n"
   ]
  },
  {
   "cell_type": "markdown",
   "id": "eadcf900",
   "metadata": {
    "papermill": {
     "duration": 0.007548,
     "end_time": "2022-06-23T18:38:44.745996",
     "exception": false,
     "start_time": "2022-06-23T18:38:44.738448",
     "status": "completed"
    },
    "tags": []
   },
   "source": [
    "In this exercise, you'll apply what you learned in the **Handling missing values** tutorial.\n",
    "\n",
    "# Setup\n",
    "\n",
    "The questions below will give you feedback on your work. Run the following cell to set up the feedback system."
   ]
  },
  {
   "cell_type": "code",
   "execution_count": 1,
   "id": "f4c9a352",
   "metadata": {
    "execution": {
     "iopub.execute_input": "2022-06-23T18:38:44.763902Z",
     "iopub.status.busy": "2022-06-23T18:38:44.762787Z",
     "iopub.status.idle": "2022-06-23T18:38:50.066616Z",
     "shell.execute_reply": "2022-06-23T18:38:50.064449Z"
    },
    "papermill": {
     "duration": 5.316902,
     "end_time": "2022-06-23T18:38:50.070568",
     "exception": false,
     "start_time": "2022-06-23T18:38:44.753666",
     "status": "completed"
    },
    "tags": []
   },
   "outputs": [
    {
     "name": "stderr",
     "output_type": "stream",
     "text": [
      "/opt/conda/lib/python3.7/site-packages/ipykernel_launcher.py:3: DtypeWarning: Columns (22,32) have mixed types.Specify dtype option on import or set low_memory=False.\n",
      "  This is separate from the ipykernel package so we can avoid doing imports until\n"
     ]
    },
    {
     "name": "stdout",
     "output_type": "stream",
     "text": [
      "Setup Complete\n"
     ]
    }
   ],
   "source": [
    "from learntools.core import binder\n",
    "binder.bind(globals())\n",
    "from learntools.data_cleaning.ex1 import *\n",
    "print(\"Setup Complete\")"
   ]
  },
  {
   "cell_type": "markdown",
   "id": "8c25b552",
   "metadata": {
    "papermill": {
     "duration": 0.007195,
     "end_time": "2022-06-23T18:38:50.085924",
     "exception": false,
     "start_time": "2022-06-23T18:38:50.078729",
     "status": "completed"
    },
    "tags": []
   },
   "source": [
    "# 1) Take a first look at the data\n",
    "\n",
    "Run the next code cell to load in the libraries and dataset you'll use to complete the exercise."
   ]
  },
  {
   "cell_type": "code",
   "execution_count": 2,
   "id": "c3745753",
   "metadata": {
    "execution": {
     "iopub.execute_input": "2022-06-23T18:38:50.102785Z",
     "iopub.status.busy": "2022-06-23T18:38:50.102385Z",
     "iopub.status.idle": "2022-06-23T18:38:51.984539Z",
     "shell.execute_reply": "2022-06-23T18:38:51.983626Z"
    },
    "papermill": {
     "duration": 1.893924,
     "end_time": "2022-06-23T18:38:51.987380",
     "exception": false,
     "start_time": "2022-06-23T18:38:50.093456",
     "status": "completed"
    },
    "tags": []
   },
   "outputs": [
    {
     "name": "stderr",
     "output_type": "stream",
     "text": [
      "/opt/conda/lib/python3.7/site-packages/IPython/core/interactiveshell.py:3552: DtypeWarning: Columns (22,32) have mixed types.Specify dtype option on import or set low_memory=False.\n",
      "  exec(code_obj, self.user_global_ns, self.user_ns)\n"
     ]
    }
   ],
   "source": [
    "# modules we'll use\n",
    "import pandas as pd\n",
    "import numpy as np\n",
    "\n",
    "# read in all our data\n",
    "sf_permits = pd.read_csv(\"../input/building-permit-applications-data/Building_Permits.csv\")\n",
    "\n",
    "# set seed for reproducibility\n",
    "np.random.seed(0) "
   ]
  },
  {
   "cell_type": "markdown",
   "id": "b9d35149",
   "metadata": {
    "papermill": {
     "duration": 0.007864,
     "end_time": "2022-06-23T18:38:52.003137",
     "exception": false,
     "start_time": "2022-06-23T18:38:51.995273",
     "status": "completed"
    },
    "tags": []
   },
   "source": [
    "Use the code cell below to print the first five rows of the `sf_permits` DataFrame."
   ]
  },
  {
   "cell_type": "code",
   "execution_count": 3,
   "id": "b7b6c70a",
   "metadata": {
    "execution": {
     "iopub.execute_input": "2022-06-23T18:38:52.022456Z",
     "iopub.status.busy": "2022-06-23T18:38:52.021091Z",
     "iopub.status.idle": "2022-06-23T18:38:52.060210Z",
     "shell.execute_reply": "2022-06-23T18:38:52.059122Z"
    },
    "papermill": {
     "duration": 0.051229,
     "end_time": "2022-06-23T18:38:52.062753",
     "exception": false,
     "start_time": "2022-06-23T18:38:52.011524",
     "status": "completed"
    },
    "tags": []
   },
   "outputs": [
    {
     "data": {
      "text/html": [
       "<div>\n",
       "<style scoped>\n",
       "    .dataframe tbody tr th:only-of-type {\n",
       "        vertical-align: middle;\n",
       "    }\n",
       "\n",
       "    .dataframe tbody tr th {\n",
       "        vertical-align: top;\n",
       "    }\n",
       "\n",
       "    .dataframe thead th {\n",
       "        text-align: right;\n",
       "    }\n",
       "</style>\n",
       "<table border=\"1\" class=\"dataframe\">\n",
       "  <thead>\n",
       "    <tr style=\"text-align: right;\">\n",
       "      <th></th>\n",
       "      <th>Permit Number</th>\n",
       "      <th>Permit Type</th>\n",
       "      <th>Permit Type Definition</th>\n",
       "      <th>Permit Creation Date</th>\n",
       "      <th>Block</th>\n",
       "      <th>Lot</th>\n",
       "      <th>Street Number</th>\n",
       "      <th>Street Number Suffix</th>\n",
       "      <th>Street Name</th>\n",
       "      <th>Street Suffix</th>\n",
       "      <th>...</th>\n",
       "      <th>Existing Construction Type</th>\n",
       "      <th>Existing Construction Type Description</th>\n",
       "      <th>Proposed Construction Type</th>\n",
       "      <th>Proposed Construction Type Description</th>\n",
       "      <th>Site Permit</th>\n",
       "      <th>Supervisor District</th>\n",
       "      <th>Neighborhoods - Analysis Boundaries</th>\n",
       "      <th>Zipcode</th>\n",
       "      <th>Location</th>\n",
       "      <th>Record ID</th>\n",
       "    </tr>\n",
       "  </thead>\n",
       "  <tbody>\n",
       "    <tr>\n",
       "      <th>0</th>\n",
       "      <td>201505065519</td>\n",
       "      <td>4</td>\n",
       "      <td>sign - erect</td>\n",
       "      <td>05/06/2015</td>\n",
       "      <td>0326</td>\n",
       "      <td>023</td>\n",
       "      <td>140</td>\n",
       "      <td>NaN</td>\n",
       "      <td>Ellis</td>\n",
       "      <td>St</td>\n",
       "      <td>...</td>\n",
       "      <td>3.0</td>\n",
       "      <td>constr type 3</td>\n",
       "      <td>NaN</td>\n",
       "      <td>NaN</td>\n",
       "      <td>NaN</td>\n",
       "      <td>3.0</td>\n",
       "      <td>Tenderloin</td>\n",
       "      <td>94102.0</td>\n",
       "      <td>(37.785719256680785, -122.40852313194863)</td>\n",
       "      <td>1380611233945</td>\n",
       "    </tr>\n",
       "    <tr>\n",
       "      <th>1</th>\n",
       "      <td>201604195146</td>\n",
       "      <td>4</td>\n",
       "      <td>sign - erect</td>\n",
       "      <td>04/19/2016</td>\n",
       "      <td>0306</td>\n",
       "      <td>007</td>\n",
       "      <td>440</td>\n",
       "      <td>NaN</td>\n",
       "      <td>Geary</td>\n",
       "      <td>St</td>\n",
       "      <td>...</td>\n",
       "      <td>3.0</td>\n",
       "      <td>constr type 3</td>\n",
       "      <td>NaN</td>\n",
       "      <td>NaN</td>\n",
       "      <td>NaN</td>\n",
       "      <td>3.0</td>\n",
       "      <td>Tenderloin</td>\n",
       "      <td>94102.0</td>\n",
       "      <td>(37.78733980600732, -122.41063199757738)</td>\n",
       "      <td>1420164406718</td>\n",
       "    </tr>\n",
       "    <tr>\n",
       "      <th>2</th>\n",
       "      <td>201605278609</td>\n",
       "      <td>3</td>\n",
       "      <td>additions alterations or repairs</td>\n",
       "      <td>05/27/2016</td>\n",
       "      <td>0595</td>\n",
       "      <td>203</td>\n",
       "      <td>1647</td>\n",
       "      <td>NaN</td>\n",
       "      <td>Pacific</td>\n",
       "      <td>Av</td>\n",
       "      <td>...</td>\n",
       "      <td>1.0</td>\n",
       "      <td>constr type 1</td>\n",
       "      <td>1.0</td>\n",
       "      <td>constr type 1</td>\n",
       "      <td>NaN</td>\n",
       "      <td>3.0</td>\n",
       "      <td>Russian Hill</td>\n",
       "      <td>94109.0</td>\n",
       "      <td>(37.7946573324287, -122.42232562979227)</td>\n",
       "      <td>1424856504716</td>\n",
       "    </tr>\n",
       "    <tr>\n",
       "      <th>3</th>\n",
       "      <td>201611072166</td>\n",
       "      <td>8</td>\n",
       "      <td>otc alterations permit</td>\n",
       "      <td>11/07/2016</td>\n",
       "      <td>0156</td>\n",
       "      <td>011</td>\n",
       "      <td>1230</td>\n",
       "      <td>NaN</td>\n",
       "      <td>Pacific</td>\n",
       "      <td>Av</td>\n",
       "      <td>...</td>\n",
       "      <td>5.0</td>\n",
       "      <td>wood frame (5)</td>\n",
       "      <td>5.0</td>\n",
       "      <td>wood frame (5)</td>\n",
       "      <td>NaN</td>\n",
       "      <td>3.0</td>\n",
       "      <td>Nob Hill</td>\n",
       "      <td>94109.0</td>\n",
       "      <td>(37.79595867909168, -122.41557405519474)</td>\n",
       "      <td>1443574295566</td>\n",
       "    </tr>\n",
       "    <tr>\n",
       "      <th>4</th>\n",
       "      <td>201611283529</td>\n",
       "      <td>6</td>\n",
       "      <td>demolitions</td>\n",
       "      <td>11/28/2016</td>\n",
       "      <td>0342</td>\n",
       "      <td>001</td>\n",
       "      <td>950</td>\n",
       "      <td>NaN</td>\n",
       "      <td>Market</td>\n",
       "      <td>St</td>\n",
       "      <td>...</td>\n",
       "      <td>3.0</td>\n",
       "      <td>constr type 3</td>\n",
       "      <td>NaN</td>\n",
       "      <td>NaN</td>\n",
       "      <td>NaN</td>\n",
       "      <td>6.0</td>\n",
       "      <td>Tenderloin</td>\n",
       "      <td>94102.0</td>\n",
       "      <td>(37.78315261897309, -122.40950883997789)</td>\n",
       "      <td>144548169992</td>\n",
       "    </tr>\n",
       "  </tbody>\n",
       "</table>\n",
       "<p>5 rows × 43 columns</p>\n",
       "</div>"
      ],
      "text/plain": [
       "  Permit Number  Permit Type            Permit Type Definition  \\\n",
       "0  201505065519            4                      sign - erect   \n",
       "1  201604195146            4                      sign - erect   \n",
       "2  201605278609            3  additions alterations or repairs   \n",
       "3  201611072166            8            otc alterations permit   \n",
       "4  201611283529            6                       demolitions   \n",
       "\n",
       "  Permit Creation Date Block  Lot  Street Number Street Number Suffix  \\\n",
       "0           05/06/2015  0326  023            140                  NaN   \n",
       "1           04/19/2016  0306  007            440                  NaN   \n",
       "2           05/27/2016  0595  203           1647                  NaN   \n",
       "3           11/07/2016  0156  011           1230                  NaN   \n",
       "4           11/28/2016  0342  001            950                  NaN   \n",
       "\n",
       "  Street Name Street Suffix  ...  Existing Construction Type  \\\n",
       "0       Ellis            St  ...                         3.0   \n",
       "1       Geary            St  ...                         3.0   \n",
       "2     Pacific            Av  ...                         1.0   \n",
       "3     Pacific            Av  ...                         5.0   \n",
       "4      Market            St  ...                         3.0   \n",
       "\n",
       "  Existing Construction Type Description Proposed Construction Type  \\\n",
       "0                          constr type 3                        NaN   \n",
       "1                          constr type 3                        NaN   \n",
       "2                          constr type 1                        1.0   \n",
       "3                         wood frame (5)                        5.0   \n",
       "4                          constr type 3                        NaN   \n",
       "\n",
       "  Proposed Construction Type Description Site Permit Supervisor District  \\\n",
       "0                                    NaN         NaN                 3.0   \n",
       "1                                    NaN         NaN                 3.0   \n",
       "2                          constr type 1         NaN                 3.0   \n",
       "3                         wood frame (5)         NaN                 3.0   \n",
       "4                                    NaN         NaN                 6.0   \n",
       "\n",
       "  Neighborhoods - Analysis Boundaries  Zipcode  \\\n",
       "0                          Tenderloin  94102.0   \n",
       "1                          Tenderloin  94102.0   \n",
       "2                        Russian Hill  94109.0   \n",
       "3                            Nob Hill  94109.0   \n",
       "4                          Tenderloin  94102.0   \n",
       "\n",
       "                                    Location      Record ID  \n",
       "0  (37.785719256680785, -122.40852313194863)  1380611233945  \n",
       "1   (37.78733980600732, -122.41063199757738)  1420164406718  \n",
       "2    (37.7946573324287, -122.42232562979227)  1424856504716  \n",
       "3   (37.79595867909168, -122.41557405519474)  1443574295566  \n",
       "4   (37.78315261897309, -122.40950883997789)   144548169992  \n",
       "\n",
       "[5 rows x 43 columns]"
      ]
     },
     "execution_count": 3,
     "metadata": {},
     "output_type": "execute_result"
    }
   ],
   "source": [
    "# TODO: Your code here!\n",
    "sf_permits.head()"
   ]
  },
  {
   "cell_type": "markdown",
   "id": "4610ba05",
   "metadata": {
    "papermill": {
     "duration": 0.008173,
     "end_time": "2022-06-23T18:38:52.079416",
     "exception": false,
     "start_time": "2022-06-23T18:38:52.071243",
     "status": "completed"
    },
    "tags": []
   },
   "source": [
    "Does the dataset have any missing values?  Once you have an answer, run the code cell below to get credit for your work."
   ]
  },
  {
   "cell_type": "code",
   "execution_count": 4,
   "id": "e080e1a1",
   "metadata": {
    "execution": {
     "iopub.execute_input": "2022-06-23T18:38:52.098424Z",
     "iopub.status.busy": "2022-06-23T18:38:52.097999Z",
     "iopub.status.idle": "2022-06-23T18:38:52.105934Z",
     "shell.execute_reply": "2022-06-23T18:38:52.104990Z"
    },
    "papermill": {
     "duration": 0.019969,
     "end_time": "2022-06-23T18:38:52.107975",
     "exception": false,
     "start_time": "2022-06-23T18:38:52.088006",
     "status": "completed"
    },
    "tags": []
   },
   "outputs": [
    {
     "data": {
      "application/javascript": [
       "parent.postMessage({\"jupyterEvent\": \"custom.exercise_interaction\", \"data\": {\"outcomeType\": 1, \"valueTowardsCompletion\": 0.16666666666666666, \"interactionType\": 1, \"questionType\": 4, \"questionId\": \"1_TakeFirstLook\", \"learnToolsVersion\": \"0.3.4\", \"failureMessage\": \"\", \"exceptionClass\": \"\", \"trace\": \"\"}}, \"*\")"
      ],
      "text/plain": [
       "<IPython.core.display.Javascript object>"
      ]
     },
     "metadata": {},
     "output_type": "display_data"
    },
    {
     "data": {
      "text/markdown": [
       "<span style=\"color:#33cc33\">Correct:</span> \n",
       "\n",
       "The first five rows of the data does show that several columns have missing values.  You can see this in the \"Street Number Suffix\", \"Proposed Construction Type\" and \"Site Permit\" columns, among others."
      ],
      "text/plain": [
       "Correct: \n",
       "\n",
       "The first five rows of the data does show that several columns have missing values.  You can see this in the \"Street Number Suffix\", \"Proposed Construction Type\" and \"Site Permit\" columns, among others."
      ]
     },
     "metadata": {},
     "output_type": "display_data"
    }
   ],
   "source": [
    "# Check your answer (Run this code cell to receive credit!)\n",
    "q1.check()"
   ]
  },
  {
   "cell_type": "code",
   "execution_count": 5,
   "id": "557846b6",
   "metadata": {
    "execution": {
     "iopub.execute_input": "2022-06-23T18:38:52.126984Z",
     "iopub.status.busy": "2022-06-23T18:38:52.126630Z",
     "iopub.status.idle": "2022-06-23T18:38:52.130149Z",
     "shell.execute_reply": "2022-06-23T18:38:52.129407Z"
    },
    "papermill": {
     "duration": 0.015586,
     "end_time": "2022-06-23T18:38:52.132048",
     "exception": false,
     "start_time": "2022-06-23T18:38:52.116462",
     "status": "completed"
    },
    "tags": []
   },
   "outputs": [],
   "source": [
    "# Line below will give you a hint\n",
    "#q1.hint()"
   ]
  },
  {
   "cell_type": "markdown",
   "id": "e2bf5d70",
   "metadata": {
    "papermill": {
     "duration": 0.008434,
     "end_time": "2022-06-23T18:38:52.149227",
     "exception": false,
     "start_time": "2022-06-23T18:38:52.140793",
     "status": "completed"
    },
    "tags": []
   },
   "source": [
    "# 2) How many missing data points do we have?\n",
    "\n",
    "What percentage of the values in the dataset are missing?  Your answer should be a number between 0 and 100.  (If 1/4 of the values in the dataset are missing, the answer is 25.)"
   ]
  },
  {
   "cell_type": "code",
   "execution_count": 6,
   "id": "3a730ee9",
   "metadata": {
    "execution": {
     "iopub.execute_input": "2022-06-23T18:38:52.170269Z",
     "iopub.status.busy": "2022-06-23T18:38:52.169537Z",
     "iopub.status.idle": "2022-06-23T18:38:52.668039Z",
     "shell.execute_reply": "2022-06-23T18:38:52.666711Z"
    },
    "papermill": {
     "duration": 0.511821,
     "end_time": "2022-06-23T18:38:52.670799",
     "exception": false,
     "start_time": "2022-06-23T18:38:52.158978",
     "status": "completed"
    },
    "tags": []
   },
   "outputs": [
    {
     "data": {
      "text/plain": [
       "2245941"
      ]
     },
     "execution_count": 6,
     "metadata": {},
     "output_type": "execute_result"
    }
   ],
   "source": [
    "sf_permits.isnull().sum().sum()"
   ]
  },
  {
   "cell_type": "code",
   "execution_count": 7,
   "id": "f1055015",
   "metadata": {
    "execution": {
     "iopub.execute_input": "2022-06-23T18:38:52.690654Z",
     "iopub.status.busy": "2022-06-23T18:38:52.689896Z",
     "iopub.status.idle": "2022-06-23T18:38:53.209705Z",
     "shell.execute_reply": "2022-06-23T18:38:53.208332Z"
    },
    "papermill": {
     "duration": 0.532892,
     "end_time": "2022-06-23T18:38:53.212593",
     "exception": false,
     "start_time": "2022-06-23T18:38:52.679701",
     "status": "completed"
    },
    "tags": []
   },
   "outputs": [
    {
     "data": {
      "application/javascript": [
       "parent.postMessage({\"jupyterEvent\": \"custom.exercise_interaction\", \"data\": {\"outcomeType\": 1, \"valueTowardsCompletion\": 0.16666666666666666, \"interactionType\": 1, \"questionType\": 1, \"questionId\": \"2_PercentMissingValues\", \"learnToolsVersion\": \"0.3.4\", \"failureMessage\": \"\", \"exceptionClass\": \"\", \"trace\": \"\"}}, \"*\")"
      ],
      "text/plain": [
       "<IPython.core.display.Javascript object>"
      ]
     },
     "metadata": {},
     "output_type": "display_data"
    },
    {
     "data": {
      "text/markdown": [
       "<span style=\"color:#33cc33\">Correct</span>"
      ],
      "text/plain": [
       "Correct"
      ]
     },
     "metadata": {},
     "output_type": "display_data"
    }
   ],
   "source": [
    "# TODO: Your code here!\n",
    "percent_missing = sf_permits.isnull().sum().sum()/(sf_permits.shape[0]*sf_permits.shape[1])*100\n",
    "\n",
    "# Check your answer\n",
    "q2.check()"
   ]
  },
  {
   "cell_type": "code",
   "execution_count": 8,
   "id": "77fcc736",
   "metadata": {
    "execution": {
     "iopub.execute_input": "2022-06-23T18:38:53.233749Z",
     "iopub.status.busy": "2022-06-23T18:38:53.233288Z",
     "iopub.status.idle": "2022-06-23T18:38:53.237972Z",
     "shell.execute_reply": "2022-06-23T18:38:53.237087Z"
    },
    "papermill": {
     "duration": 0.017227,
     "end_time": "2022-06-23T18:38:53.239971",
     "exception": false,
     "start_time": "2022-06-23T18:38:53.222744",
     "status": "completed"
    },
    "tags": []
   },
   "outputs": [],
   "source": [
    "# Lines below will give you a hint or solution code\n",
    "#q2.hint()\n",
    "#q2.solution()"
   ]
  },
  {
   "cell_type": "markdown",
   "id": "678ce90f",
   "metadata": {
    "papermill": {
     "duration": 0.008908,
     "end_time": "2022-06-23T18:38:53.257922",
     "exception": false,
     "start_time": "2022-06-23T18:38:53.249014",
     "status": "completed"
    },
    "tags": []
   },
   "source": [
    "# 3) Figure out why the data is missing\n",
    "\n",
    "Look at the columns **\"Street Number Suffix\"** and **\"Zipcode\"** from the [San Francisco Building Permits dataset](https://www.kaggle.com/aparnashastry/building-permit-applications-data). Both of these contain missing values. \n",
    "- Which, if either, are missing because they don't exist? \n",
    "- Which, if either, are missing because they weren't recorded?  \n",
    "\n",
    "Once you have an answer, run the code cell below."
   ]
  },
  {
   "cell_type": "code",
   "execution_count": 9,
   "id": "4438e650",
   "metadata": {
    "execution": {
     "iopub.execute_input": "2022-06-23T18:38:53.278668Z",
     "iopub.status.busy": "2022-06-23T18:38:53.277521Z",
     "iopub.status.idle": "2022-06-23T18:38:53.303914Z",
     "shell.execute_reply": "2022-06-23T18:38:53.303118Z"
    },
    "papermill": {
     "duration": 0.038893,
     "end_time": "2022-06-23T18:38:53.305908",
     "exception": false,
     "start_time": "2022-06-23T18:38:53.267015",
     "status": "completed"
    },
    "tags": []
   },
   "outputs": [
    {
     "data": {
      "text/plain": [
       "A    1501\n",
       "B     291\n",
       "V     228\n",
       "C      56\n",
       "E      28\n",
       "F      24\n",
       "G      12\n",
       "D      11\n",
       "K      11\n",
       "H      11\n",
       "L      10\n",
       "R      10\n",
       "J       9\n",
       "I       7\n",
       "P       3\n",
       "N       2\n",
       "0       1\n",
       "½       1\n",
       "Name: Street Number Suffix, dtype: int64"
      ]
     },
     "execution_count": 9,
     "metadata": {},
     "output_type": "execute_result"
    }
   ],
   "source": [
    "sf_permits.loc[:,[\"Street Number Suffix\",\"Zipcode\"]]\n",
    "sf_permits[\"Street Number Suffix\"].value_counts()"
   ]
  },
  {
   "cell_type": "code",
   "execution_count": 10,
   "id": "977c36e4",
   "metadata": {
    "execution": {
     "iopub.execute_input": "2022-06-23T18:38:53.326700Z",
     "iopub.status.busy": "2022-06-23T18:38:53.325838Z",
     "iopub.status.idle": "2022-06-23T18:38:53.335224Z",
     "shell.execute_reply": "2022-06-23T18:38:53.334087Z"
    },
    "papermill": {
     "duration": 0.022612,
     "end_time": "2022-06-23T18:38:53.337653",
     "exception": false,
     "start_time": "2022-06-23T18:38:53.315041",
     "status": "completed"
    },
    "tags": []
   },
   "outputs": [
    {
     "data": {
      "application/javascript": [
       "parent.postMessage({\"jupyterEvent\": \"custom.exercise_interaction\", \"data\": {\"outcomeType\": 1, \"valueTowardsCompletion\": 0.16666666666666666, \"interactionType\": 1, \"questionType\": 4, \"questionId\": \"3_WhyDataMissing\", \"learnToolsVersion\": \"0.3.4\", \"failureMessage\": \"\", \"exceptionClass\": \"\", \"trace\": \"\"}}, \"*\")"
      ],
      "text/plain": [
       "<IPython.core.display.Javascript object>"
      ]
     },
     "metadata": {},
     "output_type": "display_data"
    },
    {
     "data": {
      "text/markdown": [
       "<span style=\"color:#33cc33\">Correct:</span> \n",
       "\n",
       "If a value in the \"Street Number Suffix\" column is missing, it is likely because it does not exist. If a value in the \"Zipcode\" column is missing, it was not recorded."
      ],
      "text/plain": [
       "Correct: \n",
       "\n",
       "If a value in the \"Street Number Suffix\" column is missing, it is likely because it does not exist. If a value in the \"Zipcode\" column is missing, it was not recorded."
      ]
     },
     "metadata": {},
     "output_type": "display_data"
    }
   ],
   "source": [
    "# Check your answer (Run this code cell to receive credit!)\"\"\n",
    "q3.check()"
   ]
  },
  {
   "cell_type": "code",
   "execution_count": 11,
   "id": "d5a7add8",
   "metadata": {
    "execution": {
     "iopub.execute_input": "2022-06-23T18:38:53.359088Z",
     "iopub.status.busy": "2022-06-23T18:38:53.358628Z",
     "iopub.status.idle": "2022-06-23T18:38:53.364069Z",
     "shell.execute_reply": "2022-06-23T18:38:53.362745Z"
    },
    "papermill": {
     "duration": 0.01933,
     "end_time": "2022-06-23T18:38:53.366547",
     "exception": false,
     "start_time": "2022-06-23T18:38:53.347217",
     "status": "completed"
    },
    "tags": []
   },
   "outputs": [],
   "source": [
    "# Line below will give you a hint\n",
    "#q3.hint()"
   ]
  },
  {
   "cell_type": "markdown",
   "id": "46af2d4e",
   "metadata": {
    "papermill": {
     "duration": 0.009746,
     "end_time": "2022-06-23T18:38:53.385862",
     "exception": false,
     "start_time": "2022-06-23T18:38:53.376116",
     "status": "completed"
    },
    "tags": []
   },
   "source": [
    "# 4) Drop missing values: rows\n",
    "\n",
    "If you removed all of the rows of `sf_permits` with missing values, how many rows are left?\n",
    "\n",
    "**Note**: Do not change the value of `sf_permits` when checking this.  "
   ]
  },
  {
   "cell_type": "code",
   "execution_count": 12,
   "id": "bc7d2a5f",
   "metadata": {
    "execution": {
     "iopub.execute_input": "2022-06-23T18:38:53.408125Z",
     "iopub.status.busy": "2022-06-23T18:38:53.407648Z",
     "iopub.status.idle": "2022-06-23T18:38:53.928498Z",
     "shell.execute_reply": "2022-06-23T18:38:53.926915Z"
    },
    "papermill": {
     "duration": 0.535596,
     "end_time": "2022-06-23T18:38:53.931420",
     "exception": false,
     "start_time": "2022-06-23T18:38:53.395824",
     "status": "completed"
    },
    "tags": []
   },
   "outputs": [
    {
     "data": {
      "text/html": [
       "<div>\n",
       "<style scoped>\n",
       "    .dataframe tbody tr th:only-of-type {\n",
       "        vertical-align: middle;\n",
       "    }\n",
       "\n",
       "    .dataframe tbody tr th {\n",
       "        vertical-align: top;\n",
       "    }\n",
       "\n",
       "    .dataframe thead th {\n",
       "        text-align: right;\n",
       "    }\n",
       "</style>\n",
       "<table border=\"1\" class=\"dataframe\">\n",
       "  <thead>\n",
       "    <tr style=\"text-align: right;\">\n",
       "      <th></th>\n",
       "      <th>Permit Number</th>\n",
       "      <th>Permit Type</th>\n",
       "      <th>Permit Type Definition</th>\n",
       "      <th>Permit Creation Date</th>\n",
       "      <th>Block</th>\n",
       "      <th>Lot</th>\n",
       "      <th>Street Number</th>\n",
       "      <th>Street Number Suffix</th>\n",
       "      <th>Street Name</th>\n",
       "      <th>Street Suffix</th>\n",
       "      <th>...</th>\n",
       "      <th>Existing Construction Type</th>\n",
       "      <th>Existing Construction Type Description</th>\n",
       "      <th>Proposed Construction Type</th>\n",
       "      <th>Proposed Construction Type Description</th>\n",
       "      <th>Site Permit</th>\n",
       "      <th>Supervisor District</th>\n",
       "      <th>Neighborhoods - Analysis Boundaries</th>\n",
       "      <th>Zipcode</th>\n",
       "      <th>Location</th>\n",
       "      <th>Record ID</th>\n",
       "    </tr>\n",
       "  </thead>\n",
       "  <tbody>\n",
       "  </tbody>\n",
       "</table>\n",
       "<p>0 rows × 43 columns</p>\n",
       "</div>"
      ],
      "text/plain": [
       "Empty DataFrame\n",
       "Columns: [Permit Number, Permit Type, Permit Type Definition, Permit Creation Date, Block, Lot, Street Number, Street Number Suffix, Street Name, Street Suffix, Unit, Unit Suffix, Description, Current Status, Current Status Date, Filed Date, Issued Date, Completed Date, First Construction Document Date, Structural Notification, Number of Existing Stories, Number of Proposed Stories, Voluntary Soft-Story Retrofit, Fire Only Permit, Permit Expiration Date, Estimated Cost, Revised Cost, Existing Use, Existing Units, Proposed Use, Proposed Units, Plansets, TIDF Compliance, Existing Construction Type, Existing Construction Type Description, Proposed Construction Type, Proposed Construction Type Description, Site Permit, Supervisor District, Neighborhoods - Analysis Boundaries, Zipcode, Location, Record ID]\n",
       "Index: []\n",
       "\n",
       "[0 rows x 43 columns]"
      ]
     },
     "execution_count": 12,
     "metadata": {},
     "output_type": "execute_result"
    }
   ],
   "source": [
    "# TODO: Your code here!\n",
    "a=sf_permits.dropna()\n",
    "a"
   ]
  },
  {
   "cell_type": "markdown",
   "id": "67c4b369",
   "metadata": {
    "papermill": {
     "duration": 0.009525,
     "end_time": "2022-06-23T18:38:53.950829",
     "exception": false,
     "start_time": "2022-06-23T18:38:53.941304",
     "status": "completed"
    },
    "tags": []
   },
   "source": [
    "Once you have an answer, run the code cell below."
   ]
  },
  {
   "cell_type": "code",
   "execution_count": 13,
   "id": "67e7e716",
   "metadata": {
    "execution": {
     "iopub.execute_input": "2022-06-23T18:38:53.973766Z",
     "iopub.status.busy": "2022-06-23T18:38:53.972598Z",
     "iopub.status.idle": "2022-06-23T18:38:53.981302Z",
     "shell.execute_reply": "2022-06-23T18:38:53.980234Z"
    },
    "papermill": {
     "duration": 0.022953,
     "end_time": "2022-06-23T18:38:53.984090",
     "exception": false,
     "start_time": "2022-06-23T18:38:53.961137",
     "status": "completed"
    },
    "tags": []
   },
   "outputs": [
    {
     "data": {
      "application/javascript": [
       "parent.postMessage({\"jupyterEvent\": \"custom.exercise_interaction\", \"data\": {\"outcomeType\": 1, \"valueTowardsCompletion\": 0.16666666666666666, \"interactionType\": 1, \"questionType\": 4, \"questionId\": \"4_DropMissingRows\", \"learnToolsVersion\": \"0.3.4\", \"failureMessage\": \"\", \"exceptionClass\": \"\", \"trace\": \"\"}}, \"*\")"
      ],
      "text/plain": [
       "<IPython.core.display.Javascript object>"
      ]
     },
     "metadata": {},
     "output_type": "display_data"
    },
    {
     "data": {
      "text/markdown": [
       "<span style=\"color:#33cc33\">Correct:</span> \n",
       "\n",
       "There are no rows remaining in the dataset!"
      ],
      "text/plain": [
       "Correct: \n",
       "\n",
       "There are no rows remaining in the dataset!"
      ]
     },
     "metadata": {},
     "output_type": "display_data"
    }
   ],
   "source": [
    "# Check your answer (Run this code cell to receive credit!)\n",
    "q4.check()"
   ]
  },
  {
   "cell_type": "code",
   "execution_count": 14,
   "id": "26c325bb",
   "metadata": {
    "execution": {
     "iopub.execute_input": "2022-06-23T18:38:54.006488Z",
     "iopub.status.busy": "2022-06-23T18:38:54.006000Z",
     "iopub.status.idle": "2022-06-23T18:38:54.011175Z",
     "shell.execute_reply": "2022-06-23T18:38:54.009987Z"
    },
    "papermill": {
     "duration": 0.019572,
     "end_time": "2022-06-23T18:38:54.013713",
     "exception": false,
     "start_time": "2022-06-23T18:38:53.994141",
     "status": "completed"
    },
    "tags": []
   },
   "outputs": [],
   "source": [
    "# Line below will give you a hint\n",
    "#q4.hint()"
   ]
  },
  {
   "cell_type": "markdown",
   "id": "e9f50c47",
   "metadata": {
    "papermill": {
     "duration": 0.009624,
     "end_time": "2022-06-23T18:38:54.033453",
     "exception": false,
     "start_time": "2022-06-23T18:38:54.023829",
     "status": "completed"
    },
    "tags": []
   },
   "source": [
    "# 5) Drop missing values: columns\n",
    "\n",
    "Now try removing all the columns with empty values.  \n",
    "- Create a new DataFrame called `sf_permits_with_na_dropped` that has all of the columns with empty values removed.  \n",
    "- How many columns were removed from the original `sf_permits` DataFrame? Use this number to set the value of the `dropped_columns` variable below."
   ]
  },
  {
   "cell_type": "code",
   "execution_count": 15,
   "id": "ee2e9f23",
   "metadata": {
    "execution": {
     "iopub.execute_input": "2022-06-23T18:38:54.055530Z",
     "iopub.status.busy": "2022-06-23T18:38:54.054988Z",
     "iopub.status.idle": "2022-06-23T18:38:54.581976Z",
     "shell.execute_reply": "2022-06-23T18:38:54.580608Z"
    },
    "papermill": {
     "duration": 0.541388,
     "end_time": "2022-06-23T18:38:54.584690",
     "exception": false,
     "start_time": "2022-06-23T18:38:54.043302",
     "status": "completed"
    },
    "tags": []
   },
   "outputs": [
    {
     "data": {
      "application/javascript": [
       "parent.postMessage({\"jupyterEvent\": \"custom.exercise_interaction\", \"data\": {\"outcomeType\": 1, \"valueTowardsCompletion\": 0.16666666666666666, \"interactionType\": 1, \"questionType\": 1, \"questionId\": \"5_DropMissingCols\", \"learnToolsVersion\": \"0.3.4\", \"failureMessage\": \"\", \"exceptionClass\": \"\", \"trace\": \"\"}}, \"*\")"
      ],
      "text/plain": [
       "<IPython.core.display.Javascript object>"
      ]
     },
     "metadata": {},
     "output_type": "display_data"
    },
    {
     "data": {
      "text/markdown": [
       "<span style=\"color:#33cc33\">Correct</span>"
      ],
      "text/plain": [
       "Correct"
      ]
     },
     "metadata": {},
     "output_type": "display_data"
    }
   ],
   "source": [
    "# TODO: Your code here\n",
    "sf_permits_with_na_dropped =sf_permits.dropna(axis=1)\n",
    "\n",
    "\n",
    "\n",
    "dropped_columns = sf_permits.shape[1]-sf_permits_with_na_dropped.shape[1]\n",
    "\n",
    "# Check your answer\n",
    "q5.check()"
   ]
  },
  {
   "cell_type": "code",
   "execution_count": 16,
   "id": "1631688a",
   "metadata": {
    "execution": {
     "iopub.execute_input": "2022-06-23T18:38:54.607547Z",
     "iopub.status.busy": "2022-06-23T18:38:54.607137Z",
     "iopub.status.idle": "2022-06-23T18:38:54.613740Z",
     "shell.execute_reply": "2022-06-23T18:38:54.612507Z"
    },
    "papermill": {
     "duration": 0.021254,
     "end_time": "2022-06-23T18:38:54.616677",
     "exception": false,
     "start_time": "2022-06-23T18:38:54.595423",
     "status": "completed"
    },
    "tags": []
   },
   "outputs": [],
   "source": [
    "# Lines below will give you a hint or solution code\n",
    "#q5.hint()\n",
    "#q5.solution()"
   ]
  },
  {
   "cell_type": "markdown",
   "id": "cd7f014e",
   "metadata": {
    "papermill": {
     "duration": 0.010168,
     "end_time": "2022-06-23T18:38:54.637507",
     "exception": false,
     "start_time": "2022-06-23T18:38:54.627339",
     "status": "completed"
    },
    "tags": []
   },
   "source": [
    "# 6) Fill in missing values automatically\n",
    "\n",
    "Try replacing all the NaN's in the `sf_permits` data with the one that comes directly after it and then replacing any remaining NaN's with 0.  Set the result to a new DataFrame `sf_permits_with_na_imputed`."
   ]
  },
  {
   "cell_type": "code",
   "execution_count": 17,
   "id": "f9451e25",
   "metadata": {
    "execution": {
     "iopub.execute_input": "2022-06-23T18:38:54.660293Z",
     "iopub.status.busy": "2022-06-23T18:38:54.659898Z",
     "iopub.status.idle": "2022-06-23T18:38:56.230344Z",
     "shell.execute_reply": "2022-06-23T18:38:56.228908Z"
    },
    "papermill": {
     "duration": 1.584882,
     "end_time": "2022-06-23T18:38:56.232917",
     "exception": false,
     "start_time": "2022-06-23T18:38:54.648035",
     "status": "completed"
    },
    "tags": []
   },
   "outputs": [
    {
     "data": {
      "application/javascript": [
       "parent.postMessage({\"jupyterEvent\": \"custom.exercise_interaction\", \"data\": {\"outcomeType\": 1, \"valueTowardsCompletion\": 0.16666666666666666, \"interactionType\": 1, \"questionType\": 1, \"questionId\": \"6_ImputeAutomatically\", \"learnToolsVersion\": \"0.3.4\", \"failureMessage\": \"\", \"exceptionClass\": \"\", \"trace\": \"\"}}, \"*\")"
      ],
      "text/plain": [
       "<IPython.core.display.Javascript object>"
      ]
     },
     "metadata": {},
     "output_type": "display_data"
    },
    {
     "data": {
      "text/markdown": [
       "<span style=\"color:#33cc33\">Correct</span>"
      ],
      "text/plain": [
       "Correct"
      ]
     },
     "metadata": {},
     "output_type": "display_data"
    }
   ],
   "source": [
    "# TODO: Your code here\n",
    "sf_permits_with_na_imputed = sf_permits.fillna(method='bfill').fillna(0)\n",
    "\n",
    "# Check your answer\n",
    "q6.check()"
   ]
  },
  {
   "cell_type": "code",
   "execution_count": 18,
   "id": "5f752980",
   "metadata": {
    "execution": {
     "iopub.execute_input": "2022-06-23T18:38:56.256410Z",
     "iopub.status.busy": "2022-06-23T18:38:56.256043Z",
     "iopub.status.idle": "2022-06-23T18:38:56.261277Z",
     "shell.execute_reply": "2022-06-23T18:38:56.259778Z"
    },
    "papermill": {
     "duration": 0.020441,
     "end_time": "2022-06-23T18:38:56.264183",
     "exception": false,
     "start_time": "2022-06-23T18:38:56.243742",
     "status": "completed"
    },
    "tags": []
   },
   "outputs": [],
   "source": [
    "# Lines below will give you a hint or solution code\n",
    "#q6.hint()\n",
    "#q6.solution()"
   ]
  },
  {
   "cell_type": "markdown",
   "id": "260fd16a",
   "metadata": {
    "papermill": {
     "duration": 0.010769,
     "end_time": "2022-06-23T18:38:56.286445",
     "exception": false,
     "start_time": "2022-06-23T18:38:56.275676",
     "status": "completed"
    },
    "tags": []
   },
   "source": [
    "# More practice\n",
    "\n",
    "If you're looking for more practice handling missing values:\n",
    "\n",
    "* Check out [this noteboook](https://www.kaggle.com/alexisbcook/missing-values) on handling missing values using scikit-learn's imputer. \n",
    "* Look back at the \"Zipcode\" column in the `sf_permits` dataset, which has some missing values. How would you go about figuring out what the actual zipcode of each address should be? (You might try using another dataset. You can search for datasets about San Fransisco on the [Datasets listing](https://www.kaggle.com/datasets).) \n",
    "\n",
    "# Keep going\n",
    "\n",
    "In the next lesson, learn how to [**apply scaling and normalization**](https://www.kaggle.com/alexisbcook/scaling-and-normalization) to transform your data."
   ]
  },
  {
   "cell_type": "markdown",
   "id": "965f0e43",
   "metadata": {
    "papermill": {
     "duration": 0.010754,
     "end_time": "2022-06-23T18:38:56.308117",
     "exception": false,
     "start_time": "2022-06-23T18:38:56.297363",
     "status": "completed"
    },
    "tags": []
   },
   "source": [
    "---\n",
    "\n",
    "\n",
    "\n",
    "\n",
    "*Have questions or comments? Visit the [course discussion forum](https://www.kaggle.com/learn/data-cleaning/discussion) to chat with other learners.*"
   ]
  }
 ],
 "metadata": {
  "kernelspec": {
   "display_name": "Python 3",
   "language": "python",
   "name": "python3"
  },
  "language_info": {
   "codemirror_mode": {
    "name": "ipython",
    "version": 3
   },
   "file_extension": ".py",
   "mimetype": "text/x-python",
   "name": "python",
   "nbconvert_exporter": "python",
   "pygments_lexer": "ipython3",
   "version": "3.7.12"
  },
  "papermill": {
   "default_parameters": {},
   "duration": 23.775413,
   "end_time": "2022-06-23T18:38:57.345587",
   "environment_variables": {},
   "exception": null,
   "input_path": "__notebook__.ipynb",
   "output_path": "__notebook__.ipynb",
   "parameters": {},
   "start_time": "2022-06-23T18:38:33.570174",
   "version": "2.3.4"
  }
 },
 "nbformat": 4,
 "nbformat_minor": 5
}

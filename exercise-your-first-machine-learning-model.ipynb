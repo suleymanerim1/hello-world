{
 "cells": [
  {
   "cell_type": "markdown",
   "id": "ccd56aac",
   "metadata": {
    "papermill": {
     "duration": 0.008897,
     "end_time": "2022-06-19T17:36:31.686068",
     "exception": false,
     "start_time": "2022-06-19T17:36:31.677171",
     "status": "completed"
    },
    "tags": []
   },
   "source": [
    "**This notebook is an exercise in the [Introduction to Machine Learning](https://www.kaggle.com/learn/intro-to-machine-learning) course.  You can reference the tutorial at [this link](https://www.kaggle.com/dansbecker/your-first-machine-learning-model).**\n",
    "\n",
    "---\n"
   ]
  },
  {
   "cell_type": "markdown",
   "id": "243a139b",
   "metadata": {
    "papermill": {
     "duration": 0.005275,
     "end_time": "2022-06-19T17:36:31.697104",
     "exception": false,
     "start_time": "2022-06-19T17:36:31.691829",
     "status": "completed"
    },
    "tags": []
   },
   "source": [
    "## Recap\n",
    "So far, you have loaded your data and reviewed it with the following code. Run this cell to set up your coding environment where the previous step left off."
   ]
  },
  {
   "cell_type": "code",
   "execution_count": 1,
   "id": "91838770",
   "metadata": {
    "execution": {
     "iopub.execute_input": "2022-06-19T17:36:31.710771Z",
     "iopub.status.busy": "2022-06-19T17:36:31.709867Z",
     "iopub.status.idle": "2022-06-19T17:36:33.010661Z",
     "shell.execute_reply": "2022-06-19T17:36:33.009057Z"
    },
    "papermill": {
     "duration": 1.311239,
     "end_time": "2022-06-19T17:36:33.013948",
     "exception": false,
     "start_time": "2022-06-19T17:36:31.702709",
     "status": "completed"
    },
    "tags": []
   },
   "outputs": [
    {
     "name": "stdout",
     "output_type": "stream",
     "text": [
      "Setup Complete\n"
     ]
    }
   ],
   "source": [
    "# Code you have previously used to load data\n",
    "import pandas as pd\n",
    "\n",
    "# Path of the file to read\n",
    "iowa_file_path = '../input/home-data-for-ml-course/train.csv'\n",
    "\n",
    "home_data = pd.read_csv(iowa_file_path)\n",
    "\n",
    "# Set up code checking\n",
    "from learntools.core import binder\n",
    "binder.bind(globals())\n",
    "from learntools.machine_learning.ex3 import *\n",
    "\n",
    "print(\"Setup Complete\")"
   ]
  },
  {
   "cell_type": "markdown",
   "id": "6708c6c4",
   "metadata": {
    "papermill": {
     "duration": 0.005902,
     "end_time": "2022-06-19T17:36:33.026178",
     "exception": false,
     "start_time": "2022-06-19T17:36:33.020276",
     "status": "completed"
    },
    "tags": []
   },
   "source": [
    "# Exercises\n",
    "\n",
    "## Step 1: Specify Prediction Target\n",
    "Select the target variable, which corresponds to the sales price. Save this to a new variable called `y`. You'll need to print a list of the columns to find the name of the column you need.\n"
   ]
  },
  {
   "cell_type": "code",
   "execution_count": 2,
   "id": "77ecf3af",
   "metadata": {
    "execution": {
     "iopub.execute_input": "2022-06-19T17:36:33.039700Z",
     "iopub.status.busy": "2022-06-19T17:36:33.038849Z",
     "iopub.status.idle": "2022-06-19T17:36:33.048469Z",
     "shell.execute_reply": "2022-06-19T17:36:33.047531Z"
    },
    "papermill": {
     "duration": 0.018544,
     "end_time": "2022-06-19T17:36:33.050522",
     "exception": false,
     "start_time": "2022-06-19T17:36:33.031978",
     "status": "completed"
    },
    "tags": []
   },
   "outputs": [
    {
     "data": {
      "text/plain": [
       "Index(['Id', 'MSSubClass', 'MSZoning', 'LotFrontage', 'LotArea', 'Street',\n",
       "       'Alley', 'LotShape', 'LandContour', 'Utilities', 'LotConfig',\n",
       "       'LandSlope', 'Neighborhood', 'Condition1', 'Condition2', 'BldgType',\n",
       "       'HouseStyle', 'OverallQual', 'OverallCond', 'YearBuilt', 'YearRemodAdd',\n",
       "       'RoofStyle', 'RoofMatl', 'Exterior1st', 'Exterior2nd', 'MasVnrType',\n",
       "       'MasVnrArea', 'ExterQual', 'ExterCond', 'Foundation', 'BsmtQual',\n",
       "       'BsmtCond', 'BsmtExposure', 'BsmtFinType1', 'BsmtFinSF1',\n",
       "       'BsmtFinType2', 'BsmtFinSF2', 'BsmtUnfSF', 'TotalBsmtSF', 'Heating',\n",
       "       'HeatingQC', 'CentralAir', 'Electrical', '1stFlrSF', '2ndFlrSF',\n",
       "       'LowQualFinSF', 'GrLivArea', 'BsmtFullBath', 'BsmtHalfBath', 'FullBath',\n",
       "       'HalfBath', 'BedroomAbvGr', 'KitchenAbvGr', 'KitchenQual',\n",
       "       'TotRmsAbvGrd', 'Functional', 'Fireplaces', 'FireplaceQu', 'GarageType',\n",
       "       'GarageYrBlt', 'GarageFinish', 'GarageCars', 'GarageArea', 'GarageQual',\n",
       "       'GarageCond', 'PavedDrive', 'WoodDeckSF', 'OpenPorchSF',\n",
       "       'EnclosedPorch', '3SsnPorch', 'ScreenPorch', 'PoolArea', 'PoolQC',\n",
       "       'Fence', 'MiscFeature', 'MiscVal', 'MoSold', 'YrSold', 'SaleType',\n",
       "       'SaleCondition', 'SalePrice'],\n",
       "      dtype='object')"
      ]
     },
     "execution_count": 2,
     "metadata": {},
     "output_type": "execute_result"
    }
   ],
   "source": [
    "# print the list of columns in the dataset to find the name of the prediction target\n",
    "home_data.columns"
   ]
  },
  {
   "cell_type": "code",
   "execution_count": 3,
   "id": "7e7695e8",
   "metadata": {
    "execution": {
     "iopub.execute_input": "2022-06-19T17:36:33.064771Z",
     "iopub.status.busy": "2022-06-19T17:36:33.064029Z",
     "iopub.status.idle": "2022-06-19T17:36:33.076981Z",
     "shell.execute_reply": "2022-06-19T17:36:33.076002Z"
    },
    "papermill": {
     "duration": 0.022481,
     "end_time": "2022-06-19T17:36:33.078961",
     "exception": false,
     "start_time": "2022-06-19T17:36:33.056480",
     "status": "completed"
    },
    "tags": []
   },
   "outputs": [
    {
     "data": {
      "application/javascript": [
       "parent.postMessage({\"jupyterEvent\": \"custom.exercise_interaction\", \"data\": {\"outcomeType\": 1, \"valueTowardsCompletion\": 0.25, \"interactionType\": 1, \"questionType\": 2, \"questionId\": \"1_SetTarget\", \"learnToolsVersion\": \"0.3.4\", \"failureMessage\": \"\", \"exceptionClass\": \"\", \"trace\": \"\"}}, \"*\")"
      ],
      "text/plain": [
       "<IPython.core.display.Javascript object>"
      ]
     },
     "metadata": {},
     "output_type": "display_data"
    },
    {
     "data": {
      "text/markdown": [
       "<span style=\"color:#33cc33\">Correct</span>"
      ],
      "text/plain": [
       "Correct"
      ]
     },
     "metadata": {},
     "output_type": "display_data"
    }
   ],
   "source": [
    "y = home_data.SalePrice\n",
    "\n",
    "# Check your answer\n",
    "step_1.check()"
   ]
  },
  {
   "cell_type": "code",
   "execution_count": 4,
   "id": "68fb8a2b",
   "metadata": {
    "execution": {
     "iopub.execute_input": "2022-06-19T17:36:33.093521Z",
     "iopub.status.busy": "2022-06-19T17:36:33.093104Z",
     "iopub.status.idle": "2022-06-19T17:36:33.096939Z",
     "shell.execute_reply": "2022-06-19T17:36:33.096329Z"
    },
    "papermill": {
     "duration": 0.013379,
     "end_time": "2022-06-19T17:36:33.098806",
     "exception": false,
     "start_time": "2022-06-19T17:36:33.085427",
     "status": "completed"
    },
    "tags": []
   },
   "outputs": [],
   "source": [
    "# The lines below will show you a hint or the solution.\n",
    "# step_1.hint() \n",
    "# step_1.solution()"
   ]
  },
  {
   "cell_type": "markdown",
   "id": "c153f788",
   "metadata": {
    "papermill": {
     "duration": 0.005971,
     "end_time": "2022-06-19T17:36:33.110935",
     "exception": false,
     "start_time": "2022-06-19T17:36:33.104964",
     "status": "completed"
    },
    "tags": []
   },
   "source": [
    "## Step 2: Create X\n",
    "Now you will create a DataFrame called `X` holding the predictive features.\n",
    "\n",
    "Since you want only some columns from the original data, you'll first create a list with the names of the columns you want in `X`.\n",
    "\n",
    "You'll use just the following columns in the list (you can copy and paste the whole list to save some typing, though you'll still need to add quotes):\n",
    "  * LotArea\n",
    "  * YearBuilt\n",
    "  * 1stFlrSF\n",
    "  * 2ndFlrSF\n",
    "  * FullBath\n",
    "  * BedroomAbvGr\n",
    "  * TotRmsAbvGrd\n",
    "\n",
    "After you've created that list of features, use it to create the DataFrame that you'll use to fit the model."
   ]
  },
  {
   "cell_type": "code",
   "execution_count": 5,
   "id": "c54c4e03",
   "metadata": {
    "execution": {
     "iopub.execute_input": "2022-06-19T17:36:33.125294Z",
     "iopub.status.busy": "2022-06-19T17:36:33.124896Z",
     "iopub.status.idle": "2022-06-19T17:36:33.139189Z",
     "shell.execute_reply": "2022-06-19T17:36:33.138484Z"
    },
    "papermill": {
     "duration": 0.023731,
     "end_time": "2022-06-19T17:36:33.141088",
     "exception": false,
     "start_time": "2022-06-19T17:36:33.117357",
     "status": "completed"
    },
    "tags": []
   },
   "outputs": [
    {
     "data": {
      "application/javascript": [
       "parent.postMessage({\"jupyterEvent\": \"custom.exercise_interaction\", \"data\": {\"outcomeType\": 1, \"valueTowardsCompletion\": 0.25, \"interactionType\": 1, \"questionType\": 2, \"questionId\": \"2_SelectPredictionData\", \"learnToolsVersion\": \"0.3.4\", \"failureMessage\": \"\", \"exceptionClass\": \"\", \"trace\": \"\"}}, \"*\")"
      ],
      "text/plain": [
       "<IPython.core.display.Javascript object>"
      ]
     },
     "metadata": {},
     "output_type": "display_data"
    },
    {
     "data": {
      "text/markdown": [
       "<span style=\"color:#33cc33\">Correct</span>"
      ],
      "text/plain": [
       "Correct"
      ]
     },
     "metadata": {},
     "output_type": "display_data"
    }
   ],
   "source": [
    "# Create the list of features below\n",
    "feature_names = [\"LotArea\",\"YearBuilt\",\"1stFlrSF\",\"2ndFlrSF\",\n",
    "                 \"FullBath\",\"BedroomAbvGr\",\"TotRmsAbvGrd\"]\n",
    "\n",
    "# Select data corresponding to features in feature_names\n",
    "X = home_data[feature_names]\n",
    "\n",
    "# Check your answer\n",
    "step_2.check()"
   ]
  },
  {
   "cell_type": "code",
   "execution_count": 6,
   "id": "3fffdd99",
   "metadata": {
    "collapsed": true,
    "execution": {
     "iopub.execute_input": "2022-06-19T17:36:33.155929Z",
     "iopub.status.busy": "2022-06-19T17:36:33.155186Z",
     "iopub.status.idle": "2022-06-19T17:36:33.159425Z",
     "shell.execute_reply": "2022-06-19T17:36:33.158685Z"
    },
    "jupyter": {
     "outputs_hidden": true
    },
    "papermill": {
     "duration": 0.013954,
     "end_time": "2022-06-19T17:36:33.161511",
     "exception": false,
     "start_time": "2022-06-19T17:36:33.147557",
     "status": "completed"
    },
    "tags": []
   },
   "outputs": [],
   "source": [
    "# step_2.hint()\n",
    "# step_2.solution()"
   ]
  },
  {
   "cell_type": "markdown",
   "id": "bf76cf0d",
   "metadata": {
    "papermill": {
     "duration": 0.006074,
     "end_time": "2022-06-19T17:36:33.173949",
     "exception": false,
     "start_time": "2022-06-19T17:36:33.167875",
     "status": "completed"
    },
    "tags": []
   },
   "source": [
    "## Review Data\n",
    "Before building a model, take a quick look at **X** to verify it looks sensible"
   ]
  },
  {
   "cell_type": "code",
   "execution_count": 7,
   "id": "3ce3943b",
   "metadata": {
    "execution": {
     "iopub.execute_input": "2022-06-19T17:36:33.188307Z",
     "iopub.status.busy": "2022-06-19T17:36:33.187900Z",
     "iopub.status.idle": "2022-06-19T17:36:33.222907Z",
     "shell.execute_reply": "2022-06-19T17:36:33.221994Z"
    },
    "papermill": {
     "duration": 0.045005,
     "end_time": "2022-06-19T17:36:33.225310",
     "exception": false,
     "start_time": "2022-06-19T17:36:33.180305",
     "status": "completed"
    },
    "tags": []
   },
   "outputs": [
    {
     "name": "stdout",
     "output_type": "stream",
     "text": [
      "             LotArea    YearBuilt     1stFlrSF     2ndFlrSF     FullBath  \\\n",
      "count    1460.000000  1460.000000  1460.000000  1460.000000  1460.000000   \n",
      "mean    10516.828082  1971.267808  1162.626712   346.992466     1.565068   \n",
      "std      9981.264932    30.202904   386.587738   436.528436     0.550916   \n",
      "min      1300.000000  1872.000000   334.000000     0.000000     0.000000   \n",
      "25%      7553.500000  1954.000000   882.000000     0.000000     1.000000   \n",
      "50%      9478.500000  1973.000000  1087.000000     0.000000     2.000000   \n",
      "75%     11601.500000  2000.000000  1391.250000   728.000000     2.000000   \n",
      "max    215245.000000  2010.000000  4692.000000  2065.000000     3.000000   \n",
      "\n",
      "       BedroomAbvGr  TotRmsAbvGrd  \n",
      "count   1460.000000   1460.000000  \n",
      "mean       2.866438      6.517808  \n",
      "std        0.815778      1.625393  \n",
      "min        0.000000      2.000000  \n",
      "25%        2.000000      5.000000  \n",
      "50%        3.000000      6.000000  \n",
      "75%        3.000000      7.000000  \n",
      "max        8.000000     14.000000  \n",
      "   LotArea  YearBuilt  1stFlrSF  2ndFlrSF  FullBath  BedroomAbvGr  \\\n",
      "0     8450       2003       856       854         2             3   \n",
      "1     9600       1976      1262         0         2             3   \n",
      "2    11250       2001       920       866         2             3   \n",
      "3     9550       1915       961       756         1             3   \n",
      "4    14260       2000      1145      1053         2             4   \n",
      "\n",
      "   TotRmsAbvGrd  \n",
      "0             8  \n",
      "1             6  \n",
      "2             6  \n",
      "3             7  \n",
      "4             9  \n"
     ]
    }
   ],
   "source": [
    "# Review data\n",
    "# print description or statistics from X\n",
    "print(X.describe())\n",
    "\n",
    "# print the top few lines\n",
    "print(X.head())"
   ]
  },
  {
   "cell_type": "markdown",
   "id": "8c79ee08",
   "metadata": {
    "papermill": {
     "duration": 0.006257,
     "end_time": "2022-06-19T17:36:33.238209",
     "exception": false,
     "start_time": "2022-06-19T17:36:33.231952",
     "status": "completed"
    },
    "tags": []
   },
   "source": [
    "## Step 3: Specify and Fit Model\n",
    "Create a `DecisionTreeRegressor` and save it iowa_model. Ensure you've done the relevant import from sklearn to run this command.\n",
    "\n",
    "Then fit the model you just created using the data in `X` and `y` that you saved above."
   ]
  },
  {
   "cell_type": "code",
   "execution_count": 8,
   "id": "5cf28704",
   "metadata": {
    "execution": {
     "iopub.execute_input": "2022-06-19T17:36:33.252643Z",
     "iopub.status.busy": "2022-06-19T17:36:33.252218Z",
     "iopub.status.idle": "2022-06-19T17:36:33.270796Z",
     "shell.execute_reply": "2022-06-19T17:36:33.269841Z"
    },
    "papermill": {
     "duration": 0.028156,
     "end_time": "2022-06-19T17:36:33.272738",
     "exception": false,
     "start_time": "2022-06-19T17:36:33.244582",
     "status": "completed"
    },
    "tags": []
   },
   "outputs": [
    {
     "data": {
      "application/javascript": [
       "parent.postMessage({\"jupyterEvent\": \"custom.exercise_interaction\", \"data\": {\"outcomeType\": 1, \"valueTowardsCompletion\": 0.25, \"interactionType\": 1, \"questionType\": 2, \"questionId\": \"3_CreateModel\", \"learnToolsVersion\": \"0.3.4\", \"failureMessage\": \"\", \"exceptionClass\": \"\", \"trace\": \"\"}}, \"*\")"
      ],
      "text/plain": [
       "<IPython.core.display.Javascript object>"
      ]
     },
     "metadata": {},
     "output_type": "display_data"
    },
    {
     "data": {
      "text/markdown": [
       "<span style=\"color:#33cc33\">Correct</span>"
      ],
      "text/plain": [
       "Correct"
      ]
     },
     "metadata": {},
     "output_type": "display_data"
    }
   ],
   "source": [
    " from sklearn.tree import DecisionTreeRegressor\n",
    "#specify the model. \n",
    "#For model reproducibility, set a numeric value for random_state when specifying the model\n",
    "iowa_model = DecisionTreeRegressor(random_state=3)\n",
    "\n",
    "# Fit the model\n",
    "iowa_model.fit(X,y)\n",
    "\n",
    "# Check your answer\n",
    "step_3.check()"
   ]
  },
  {
   "cell_type": "code",
   "execution_count": 9,
   "id": "557f6fc9",
   "metadata": {
    "execution": {
     "iopub.execute_input": "2022-06-19T17:36:33.288186Z",
     "iopub.status.busy": "2022-06-19T17:36:33.287479Z",
     "iopub.status.idle": "2022-06-19T17:36:33.291872Z",
     "shell.execute_reply": "2022-06-19T17:36:33.290873Z"
    },
    "papermill": {
     "duration": 0.014542,
     "end_time": "2022-06-19T17:36:33.294033",
     "exception": false,
     "start_time": "2022-06-19T17:36:33.279491",
     "status": "completed"
    },
    "tags": []
   },
   "outputs": [],
   "source": [
    "#step_3.hint()\n",
    "#step_3.solution()"
   ]
  },
  {
   "cell_type": "markdown",
   "id": "f6df4cc1",
   "metadata": {
    "papermill": {
     "duration": 0.006467,
     "end_time": "2022-06-19T17:36:33.307368",
     "exception": false,
     "start_time": "2022-06-19T17:36:33.300901",
     "status": "completed"
    },
    "tags": []
   },
   "source": [
    "## Step 4: Make Predictions\n",
    "Make predictions with the model's `predict` command using `X` as the data. Save the results to a variable called `predictions`."
   ]
  },
  {
   "cell_type": "code",
   "execution_count": 10,
   "id": "30ca3852",
   "metadata": {
    "execution": {
     "iopub.execute_input": "2022-06-19T17:36:33.322676Z",
     "iopub.status.busy": "2022-06-19T17:36:33.322154Z",
     "iopub.status.idle": "2022-06-19T17:36:33.333867Z",
     "shell.execute_reply": "2022-06-19T17:36:33.332801Z"
    },
    "papermill": {
     "duration": 0.0226,
     "end_time": "2022-06-19T17:36:33.336731",
     "exception": false,
     "start_time": "2022-06-19T17:36:33.314131",
     "status": "completed"
    },
    "tags": []
   },
   "outputs": [
    {
     "name": "stdout",
     "output_type": "stream",
     "text": [
      "[208500. 181500. 223500. ... 266500. 142125. 147500.]\n"
     ]
    },
    {
     "data": {
      "application/javascript": [
       "parent.postMessage({\"jupyterEvent\": \"custom.exercise_interaction\", \"data\": {\"outcomeType\": 1, \"valueTowardsCompletion\": 0.25, \"interactionType\": 1, \"questionType\": 2, \"questionId\": \"4_MakePredictions\", \"learnToolsVersion\": \"0.3.4\", \"failureMessage\": \"\", \"exceptionClass\": \"\", \"trace\": \"\"}}, \"*\")"
      ],
      "text/plain": [
       "<IPython.core.display.Javascript object>"
      ]
     },
     "metadata": {},
     "output_type": "display_data"
    },
    {
     "data": {
      "text/markdown": [
       "<span style=\"color:#33cc33\">Correct</span>"
      ],
      "text/plain": [
       "Correct"
      ]
     },
     "metadata": {},
     "output_type": "display_data"
    }
   ],
   "source": [
    "predictions = iowa_model.predict(X)\n",
    "print(predictions)\n",
    "\n",
    "# Check your answer\n",
    "step_4.check()"
   ]
  },
  {
   "cell_type": "code",
   "execution_count": 11,
   "id": "4b260443",
   "metadata": {
    "execution": {
     "iopub.execute_input": "2022-06-19T17:36:33.352834Z",
     "iopub.status.busy": "2022-06-19T17:36:33.352232Z",
     "iopub.status.idle": "2022-06-19T17:36:33.355474Z",
     "shell.execute_reply": "2022-06-19T17:36:33.354798Z"
    },
    "papermill": {
     "duration": 0.01311,
     "end_time": "2022-06-19T17:36:33.357201",
     "exception": false,
     "start_time": "2022-06-19T17:36:33.344091",
     "status": "completed"
    },
    "tags": []
   },
   "outputs": [],
   "source": [
    "# step_4.hint()\n",
    "#step_4.solution()"
   ]
  },
  {
   "cell_type": "markdown",
   "id": "30115fe8",
   "metadata": {
    "papermill": {
     "duration": 0.006748,
     "end_time": "2022-06-19T17:36:33.370915",
     "exception": false,
     "start_time": "2022-06-19T17:36:33.364167",
     "status": "completed"
    },
    "tags": []
   },
   "source": [
    "## Think About Your Results\n",
    "\n",
    "Use the `head` method to compare the top few predictions to the actual home values (in `y`) for those same homes. Anything surprising?\n"
   ]
  },
  {
   "cell_type": "code",
   "execution_count": 12,
   "id": "700bd164",
   "metadata": {
    "execution": {
     "iopub.execute_input": "2022-06-19T17:36:33.386399Z",
     "iopub.status.busy": "2022-06-19T17:36:33.385771Z",
     "iopub.status.idle": "2022-06-19T17:36:33.393652Z",
     "shell.execute_reply": "2022-06-19T17:36:33.392418Z"
    },
    "papermill": {
     "duration": 0.01912,
     "end_time": "2022-06-19T17:36:33.396823",
     "exception": false,
     "start_time": "2022-06-19T17:36:33.377703",
     "status": "completed"
    },
    "tags": []
   },
   "outputs": [
    {
     "name": "stdout",
     "output_type": "stream",
     "text": [
      "0    208500\n",
      "1    181500\n",
      "2    223500\n",
      "3    140000\n",
      "4    250000\n",
      "Name: SalePrice, dtype: int64\n",
      "[208500. 181500. 223500. 140000. 250000.]\n"
     ]
    }
   ],
   "source": [
    "# You can write code in this cell\n",
    "print(y.head())\n",
    "predictions = iowa_model.predict(X.head())\n",
    "print(predictions)"
   ]
  },
  {
   "cell_type": "markdown",
   "id": "52f68c78",
   "metadata": {
    "papermill": {
     "duration": 0.00693,
     "end_time": "2022-06-19T17:36:33.411106",
     "exception": false,
     "start_time": "2022-06-19T17:36:33.404176",
     "status": "completed"
    },
    "tags": []
   },
   "source": [
    "It's natural to ask how accurate the model's predictions will be and how you can improve that. That will be you're next step.\n",
    "\n",
    "# Keep Going\n",
    "\n",
    "You are ready for **[Model Validation](https://www.kaggle.com/dansbecker/model-validation).**\n"
   ]
  },
  {
   "cell_type": "markdown",
   "id": "fb13fef4",
   "metadata": {
    "papermill": {
     "duration": 0.006888,
     "end_time": "2022-06-19T17:36:33.425346",
     "exception": false,
     "start_time": "2022-06-19T17:36:33.418458",
     "status": "completed"
    },
    "tags": []
   },
   "source": [
    "---\n",
    "\n",
    "\n",
    "\n",
    "\n",
    "*Have questions or comments? Visit the [course discussion forum](https://www.kaggle.com/learn/intro-to-machine-learning/discussion) to chat with other learners.*"
   ]
  }
 ],
 "metadata": {
  "kernelspec": {
   "display_name": "Python 3",
   "language": "python",
   "name": "python3"
  },
  "language_info": {
   "codemirror_mode": {
    "name": "ipython",
    "version": 3
   },
   "file_extension": ".py",
   "mimetype": "text/x-python",
   "name": "python",
   "nbconvert_exporter": "python",
   "pygments_lexer": "ipython3",
   "version": "3.7.12"
  },
  "papermill": {
   "default_parameters": {},
   "duration": 12.019251,
   "end_time": "2022-06-19T17:36:34.153210",
   "environment_variables": {},
   "exception": null,
   "input_path": "__notebook__.ipynb",
   "output_path": "__notebook__.ipynb",
   "parameters": {},
   "start_time": "2022-06-19T17:36:22.133959",
   "version": "2.3.4"
  }
 },
 "nbformat": 4,
 "nbformat_minor": 5
}
